{
 "cells": [
  {
   "cell_type": "code",
   "execution_count": 11,
   "metadata": {},
   "outputs": [],
   "source": [
    "age = 17"
   ]
  },
  {
   "cell_type": "code",
   "execution_count": 12,
   "metadata": {},
   "outputs": [],
   "source": [
    "name = 'Ajay'"
   ]
  },
  {
   "cell_type": "code",
   "execution_count": 7,
   "metadata": {},
   "outputs": [
    {
     "name": "stdout",
     "output_type": "stream",
     "text": [
      "Ajay is 17 years old only. So not allowed to surf internet\n"
     ]
    }
   ],
   "source": [
    "if age >= 18:\n",
    "    print(\"{n} is {a} years old and is allowed to surf internet\".format(n=name,a=age))\n",
    "else:\n",
    "    print(\"{n} is {a} years old only. So not allowed to surf internet\".format(n=name,a=age))"
   ]
  },
  {
   "cell_type": "code",
   "execution_count": 10,
   "metadata": {},
   "outputs": [
    {
     "name": "stdout",
     "output_type": "stream",
     "text": [
      "Life is cool!\n"
     ]
    }
   ],
   "source": [
    "place = 'Grocessory Store'\n",
    "\n",
    "if place == 'Bank':\n",
    "    print(\"Money is cool!\")\n",
    "elif place == 'Car Store':\n",
    "    print(\"Cars are cool!\")\n",
    "else:\n",
    "    print(\"Life is cool!\")"
   ]
  },
  {
   "cell_type": "code",
   "execution_count": 16,
   "metadata": {},
   "outputs": [
    {
     "name": "stdout",
     "output_type": "stream",
     "text": [
      "Ajay is 17 years old only. So not allowed to surf internet\n"
     ]
    }
   ],
   "source": [
    "if age >= 18:\n",
    "    print(f\"{name} is {age} years old and is allowed to surf internet\")\n",
    "else:\n",
    "    print(f\"{name} is {age} years old only. So not allowed to surf internet\")"
   ]
  },
  {
   "cell_type": "code",
   "execution_count": null,
   "metadata": {},
   "outputs": [],
   "source": []
  }
 ],
 "metadata": {
  "kernelspec": {
   "display_name": "Python 3",
   "language": "python",
   "name": "python3"
  },
  "language_info": {
   "codemirror_mode": {
    "name": "ipython",
    "version": 3
   },
   "file_extension": ".py",
   "mimetype": "text/x-python",
   "name": "python",
   "nbconvert_exporter": "python",
   "pygments_lexer": "ipython3",
   "version": "3.7.6"
  }
 },
 "nbformat": 4,
 "nbformat_minor": 4
}
