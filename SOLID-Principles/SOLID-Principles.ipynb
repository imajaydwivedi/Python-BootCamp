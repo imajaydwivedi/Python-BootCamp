{
 "cells": [
  {
   "cell_type": "markdown",
   "id": "ecff9dfc",
   "metadata": {},
   "source": [
    "# SOLID Principles\n",
    "https://www.digitalocean.com/community/conceptual-articles/s-o-l-i-d-the-first-five-principles-of-object-oriented-design"
   ]
  },
  {
   "cell_type": "code",
   "execution_count": 20,
   "id": "ddbe2085",
   "metadata": {},
   "outputs": [],
   "source": [
    "class Circle:\n",
    "    \n",
    "    def __init__(self, radius):\n",
    "        self.radius = radius\n",
    "        \n",
    "\n",
    "class Square:\n",
    "    \n",
    "    def __init__(self, length):\n",
    "        self.length = length\n",
    "        \n",
    "\n",
    "class AreaCalculator:\n",
    "    \n",
    "    def __init__(self, shapes):\n",
    "        self.shapes = shapes\n",
    "\n",
    "    def sum(self):\n",
    "        area = []\n",
    "        for shape in shapes:\n",
    "            if isinstance(shape,Circle):\n",
    "                #print(f'Circle')\n",
    "                area.append(3.14*shape.radius*shape.radius)\n",
    "            elif isinstance(shape,Square):\n",
    "                #print(f'Square')\n",
    "                area.append(shape.length*shape.length)\n",
    "\n",
    "        #return array_sum($area);\n",
    "        return sum(area)\n",
    "\n",
    "    def output(self):\n",
    "        return f\"Sum of the areas of provided shapes: {self.sum()}\""
   ]
  },
  {
   "cell_type": "code",
   "execution_count": 22,
   "id": "81c4b1e7",
   "metadata": {},
   "outputs": [
    {
     "name": "stdout",
     "output_type": "stream",
     "text": [
      "Sum of the areas of provided shapes: 73.56\n"
     ]
    }
   ],
   "source": [
    "shapes = [Circle(2), Square(5), Square(6)];\n",
    "\n",
    "areas = AreaCalculator(shapes);\n",
    "\n",
    "#total_areas = areas.sum()\n",
    "#print(total_areas)\n",
    "\n",
    "print(areas.output())"
   ]
  },
  {
   "cell_type": "code",
   "execution_count": 25,
   "id": "1b9ec594",
   "metadata": {},
   "outputs": [
    {
     "data": {
      "text/plain": [
       "[1, 4, 9, 16, 25, 36, 49, 64, 81, 100]"
      ]
     },
     "execution_count": 25,
     "metadata": {},
     "output_type": "execute_result"
    }
   ],
   "source": [
    "[i*i for i in range(1,11)]"
   ]
  },
  {
   "cell_type": "code",
   "execution_count": 11,
   "id": "21031e50",
   "metadata": {},
   "outputs": [
    {
     "data": {
      "text/plain": [
       "11"
      ]
     },
     "execution_count": 11,
     "metadata": {},
     "output_type": "execute_result"
    }
   ],
   "source": [
    "area = [2,4,5]\n",
    "\n",
    "sum(area)"
   ]
  },
  {
   "cell_type": "code",
   "execution_count": 29,
   "id": "1398f1ff",
   "metadata": {},
   "outputs": [
    {
     "name": "stdout",
     "output_type": "stream",
     "text": [
      "{1, 2, 3, 4, 5, 6, 7, 8, 9}\n",
      "<class 'set'>\n"
     ]
    }
   ],
   "source": [
    "my_dict = {i for i in range(1, 10)}\n",
    "print(my_dict)\n",
    "print(type(my_dict))"
   ]
  },
  {
   "cell_type": "code",
   "execution_count": null,
   "id": "cc7eef89",
   "metadata": {},
   "outputs": [],
   "source": []
  }
 ],
 "metadata": {
  "kernelspec": {
   "display_name": "Python 3 (ipykernel)",
   "language": "python",
   "name": "python3"
  },
  "language_info": {
   "codemirror_mode": {
    "name": "ipython",
    "version": 3
   },
   "file_extension": ".py",
   "mimetype": "text/x-python",
   "name": "python",
   "nbconvert_exporter": "python",
   "pygments_lexer": "ipython3",
   "version": "3.9.7"
  }
 },
 "nbformat": 4,
 "nbformat_minor": 5
}
