{
 "cells": [
  {
   "cell_type": "code",
   "execution_count": 5,
   "metadata": {
    "azdata_cell_guid": "19e477b1-b6ef-4986-b16e-4fb3c61cdadc"
   },
   "outputs": [],
   "source": [
    "def hello(name='Ajay'):\n",
    "    print('The hello() function has been executed!')\n",
    "\n",
    "    def greet():\n",
    "        return '\\t This is the greet() func inside hello!'\n",
    "    \n",
    "    def welcome():\n",
    "        return '\\t This is the welcome() func inside hello!'\n",
    "    \n",
    "    print(greet())\n",
    "    print(welcome())\n",
    "\n",
    "    print('This is the end of the hello function')"
   ]
  },
  {
   "cell_type": "code",
   "execution_count": 6,
   "metadata": {
    "azdata_cell_guid": "2f8de079-3e6f-4511-8ec0-a5db450c6614"
   },
   "outputs": [
    {
     "name": "stdout",
     "output_type": "stream",
     "text": [
      "The hello() function has been executed!\n",
      "\t This is the greet() func inside hello!\n",
      "\t This is the welcome() func inside hello!\n",
      "This is the end of the hello function\n"
     ]
    }
   ],
   "source": [
    "hello()"
   ]
  },
  {
   "cell_type": "code",
   "execution_count": 1,
   "metadata": {
    "azdata_cell_guid": "67d70473-5926-407f-bcee-ed2649c51a8b"
   },
   "outputs": [
    {
     "name": "stdout",
     "output_type": "stream",
     "text": [
      "Enter a number: 10\n",
      "You provided 10.\n"
     ]
    }
   ],
   "source": [
    "while(True):\n",
    "    try:\n",
    "        result = int(input(\"Enter a number: \"))\n",
    "    except:\n",
    "        print(\"Whoops! Entered value is not a number\")\n",
    "        continue\n",
    "    else:\n",
    "        print(f\"You provided {result}.\")\n",
    "        break"
   ]
  },
  {
   "cell_type": "code",
   "execution_count": 2,
   "metadata": {
    "azdata_cell_guid": "8aaefa68-58c9-4dff-8c8a-0b4c3b88a84e"
   },
   "outputs": [
    {
     "ename": "TypeError",
     "evalue": "unsupported operand type(s) for ** or pow(): 'str' and 'int'",
     "output_type": "error",
     "traceback": [
      "\u001b[1;31m---------------------------------------------------------------------------\u001b[0m",
      "\u001b[1;31mTypeError\u001b[0m                                 Traceback (most recent call last)",
      "\u001b[1;32m<ipython-input-2-c35f41ad7311>\u001b[0m in \u001b[0;36m<module>\u001b[1;34m\u001b[0m\n\u001b[0;32m      1\u001b[0m \u001b[1;32mfor\u001b[0m \u001b[0mi\u001b[0m \u001b[1;32min\u001b[0m \u001b[1;33m[\u001b[0m\u001b[1;34m'a'\u001b[0m\u001b[1;33m,\u001b[0m\u001b[1;34m'b'\u001b[0m\u001b[1;33m,\u001b[0m\u001b[1;34m'c'\u001b[0m\u001b[1;33m]\u001b[0m\u001b[1;33m:\u001b[0m\u001b[1;33m\u001b[0m\u001b[1;33m\u001b[0m\u001b[0m\n\u001b[1;32m----> 2\u001b[1;33m     \u001b[0mprint\u001b[0m\u001b[1;33m(\u001b[0m\u001b[0mi\u001b[0m\u001b[1;33m**\u001b[0m\u001b[1;36m2\u001b[0m\u001b[1;33m)\u001b[0m\u001b[1;33m\u001b[0m\u001b[1;33m\u001b[0m\u001b[0m\n\u001b[0m",
      "\u001b[1;31mTypeError\u001b[0m: unsupported operand type(s) for ** or pow(): 'str' and 'int'"
     ]
    }
   ],
   "source": [
    "for i in ['a','b','c']:\n",
    "    print(i**2)"
   ]
  },
  {
   "cell_type": "code",
   "execution_count": 5,
   "metadata": {
    "azdata_cell_guid": "d960d994-309a-4693-a12d-9fc9da30580b"
   },
   "outputs": [
    {
     "name": "stdout",
     "output_type": "stream",
     "text": [
      "You can not square string value a\n",
      "You can not square string value b\n",
      "You can not square string value c\n",
      "100\n"
     ]
    }
   ],
   "source": [
    "for i in ['a','b','c',10]:\n",
    "    try:\n",
    "        print(i**2)\n",
    "    except TypeError:\n",
    "        print(f'You can not square string value {i}')"
   ]
  },
  {
   "cell_type": "code",
   "execution_count": 2,
   "metadata": {
    "azdata_cell_guid": "69d6a43f-81ac-421f-8f06-bfed24761770"
   },
   "outputs": [],
   "source": [
    "name = 'ajay kumar dwivedi'"
   ]
  },
  {
   "cell_type": "code",
   "execution_count": 3,
   "metadata": {},
   "outputs": [
    {
     "data": {
      "text/plain": [
       "'Ajay kumar dwivedi'"
      ]
     },
     "execution_count": 3,
     "metadata": {},
     "output_type": "execute_result"
    }
   ],
   "source": [
    "name.capitalize()"
   ]
  },
  {
   "cell_type": "code",
   "execution_count": 4,
   "metadata": {},
   "outputs": [
    {
     "data": {
      "text/plain": [
       "'Ajay Kumar Dwivedi'"
      ]
     },
     "execution_count": 4,
     "metadata": {},
     "output_type": "execute_result"
    }
   ],
   "source": [
    "name.title()"
   ]
  },
  {
   "cell_type": "code",
   "execution_count": 7,
   "metadata": {},
   "outputs": [],
   "source": [
    "def get_cubes(n):\n",
    "    for x in range(n):\n",
    "        yield x**3"
   ]
  },
  {
   "cell_type": "code",
   "execution_count": 9,
   "metadata": {},
   "outputs": [
    {
     "name": "stdout",
     "output_type": "stream",
     "text": [
      "0\n",
      "1\n",
      "8\n",
      "27\n",
      "64\n",
      "125\n",
      "216\n",
      "343\n",
      "512\n",
      "729\n"
     ]
    }
   ],
   "source": [
    "for x in get_cubes(10):\n",
    "    print(x)"
   ]
  },
  {
   "cell_type": "code",
   "execution_count": 10,
   "metadata": {},
   "outputs": [
    {
     "data": {
      "text/plain": [
       "[0, 1, 8, 27, 64, 125, 216, 343, 512, 729]"
      ]
     },
     "execution_count": 10,
     "metadata": {},
     "output_type": "execute_result"
    }
   ],
   "source": [
    "list(get_cubes(10))"
   ]
  },
  {
   "cell_type": "code",
   "execution_count": 11,
   "metadata": {},
   "outputs": [
    {
     "data": {
      "text/plain": [
       "(0, 1, 8, 27, 64, 125, 216, 343, 512, 729)"
      ]
     },
     "execution_count": 11,
     "metadata": {},
     "output_type": "execute_result"
    }
   ],
   "source": [
    "tuple(get_cubes(10))"
   ]
  },
  {
   "cell_type": "code",
   "execution_count": 12,
   "metadata": {},
   "outputs": [],
   "source": [
    "c = get_cubes(10)"
   ]
  },
  {
   "cell_type": "code",
   "execution_count": 13,
   "metadata": {},
   "outputs": [
    {
     "data": {
      "text/plain": [
       "0"
      ]
     },
     "execution_count": 13,
     "metadata": {},
     "output_type": "execute_result"
    }
   ],
   "source": [
    "next(c)"
   ]
  },
  {
   "cell_type": "code",
   "execution_count": 14,
   "metadata": {},
   "outputs": [
    {
     "data": {
      "text/plain": [
       "1"
      ]
     },
     "execution_count": 14,
     "metadata": {},
     "output_type": "execute_result"
    }
   ],
   "source": [
    "next(c)"
   ]
  },
  {
   "cell_type": "code",
   "execution_count": 6,
   "metadata": {},
   "outputs": [
    {
     "ename": "SyntaxError",
     "evalue": "invalid syntax (3545049637.py, line 2)",
     "output_type": "error",
     "traceback": [
      "\u001b[0;36m  Cell \u001b[0;32mIn[6], line 2\u001b[0;36m\u001b[0m\n\u001b[0;31m    form_data = json.loads(\"type\":\"block_actions\",\"user\":{\"id\":\"UED14KCLE\",\"username\":\"ajay.dwivedi2007\",\"name\":\"ajay.dwivedi2007\",\"team_id\":\"TEBFRF7L3\"},\"api_app_id\":\"A04LG3JUY4W\",\"token\":\"Wp82qCtqSocMKoEU816U92fq\",\"container\":{\"type\":\"message\",\"message_ts\":\"1729074605.085939\",\"channel_id\":\"C04LKQF9RGV\",\"is_ephemeral\":false,\"thread_ts\":\"1729074605.085939\"},\"trigger_id\":\"7884884239381.487535517683.121f9148d7947ffe60a632873cf1dbc5\",\"team\":{\"id\":\"TEBFRF7L3\",\"domain\":\"ajaydwivedi\"},\"enterprise\":null,\"is_enterprise_install\":false,\"channel\":{\"id\":\"C04LKQF9RGV\",\"name\":\"sqlmonitor-alerts\"},\"message\":{\"subtype\":\"bot_message\",\"text\":\"[Active] - [Id#48] - [Alert-DiskSpace] - 2 Warnings - 1 Criticals\",\"username\":\"SQLMonitor\",\"type\":\"message\",\"ts\":\"1729074605.085939\",\"bot_id\":\"B04LR77F4Q4\",\"app_id\":\"A04LG3JUY4W\",\"thread_ts\":\"1729074605.085939\",\"reply_count\":1,\"reply_users_count\":1,\"latest_reply\":\"1729074607.166969\",\"reply_users\":[\"U04LNNVCLH0\"],\"is_locked\":false,\"subscribed\":false,\"blocks\":[{\"type\":\"section\",\"block_id\":\"\\\\/IvMz\",\"text\":{\"type\":\"mrkdwn\",\"text\":\"<http:\\\\/\\\\/localhost:3000\\\\/d\\\\/|:fire: [Active] - [Id#48]> - <https:\\\\/\\\\/sqlmonitor.ajaydwivedi.com:3000\\\\/d\\\\/distributed_live_dashboard_all_servers\\\\/monitoring-live-all-servers?orgId=1&amp;refresh=1m&amp;viewPanel=852|[*Alert-DiskSpace*] - *2* Warnings - *1* Criticals>\",\"verbatim\":false}},{\"type\":\"actions\",\"block_id\":\"aJEZx\",\"elements\":[{\"type\":\"button\",\"action_id\":\"h4+fD\",\"text\":{\"type\":\"plain_text\",\"text\":\"Acknowledge\",\"emoji\":true},\"style\":\"primary\",\"value\":\"click_me_123\"},{\"type\":\"button\",\"action_id\":\"LO5wF\",\"text\":{\"type\":\"plain_text\",\"text\":\"Clear\",\"emoji\":true},\"style\":\"primary\",\"value\":\"click_me_123\"},{\"type\":\"button\",\"action_id\":\"3iYwk\",\"text\":{\"type\":\"plain_text\",\"text\":\"Resolve\",\"emoji\":true},\"style\":\"danger\",\"value\":\"click_me_123\"}]}]},\"state\":{\"values\":{}},\"response_url\":\"https:\\\\/\\\\/hooks.slack.com\\\\/actions\\\\/TEBFRF7L3\\\\/7910536653952\\\\/sMzRqn7boU12xAQcuVjaD7fi\",\"actions\":[{\"action_id\":\"h4+fD\",\"block_id\":\"aJEZx\",\"text\":{\"type\":\"plain_text\",\"text\":\"Acknowledge\",\"emoji\":true},\"value\":\"click_me_123\",\"style\":\"primary\",\"type\":\"button\",\"action_ts\":\"1729074749.251556\"}\u001b[0m\n\u001b[0m                                 ^\u001b[0m\n\u001b[0;31mSyntaxError\u001b[0m\u001b[0;31m:\u001b[0m invalid syntax\n"
     ]
    }
   ],
   "source": []
  },
  {
   "cell_type": "code",
   "execution_count": 3,
   "metadata": {},
   "outputs": [
    {
     "data": {
      "text/plain": [
       "[('payload',\n",
       "  '{\"type\":\"block_actions\",\"user\":{\"id\":\"UED14KCLE\",\"username\":\"ajay.dwivedi2007\",\"name\":\"ajay.dwivedi2007\",\"team_id\":\"TEBFRF7L3\"},\"api_app_id\":\"A04LG3JUY4W\",\"token\":\"Wp82qCtqSocMKoEU816U92fq\",\"container\":{\"type\":\"message\",\"message_ts\":\"1729074605.085939\",\"channel_id\":\"C04LKQF9RGV\",\"is_ephemeral\":false,\"thread_ts\":\"1729074605.085939\"},\"trigger_id\":\"7884884239381.487535517683.121f9148d7947ffe60a632873cf1dbc5\",\"team\":{\"id\":\"TEBFRF7L3\",\"domain\":\"ajaydwivedi\"},\"enterprise\":null,\"is_enterprise_install\":false,\"channel\":{\"id\":\"C04LKQF9RGV\",\"name\":\"sqlmonitor-alerts\"},\"message\":{\"subtype\":\"bot_message\",\"text\":\"[Active] - [Id#48] - [Alert-DiskSpace] - 2 Warnings - 1 Criticals\",\"username\":\"SQLMonitor\",\"type\":\"message\",\"ts\":\"1729074605.085939\",\"bot_id\":\"B04LR77F4Q4\",\"app_id\":\"A04LG3JUY4W\",\"thread_ts\":\"1729074605.085939\",\"reply_count\":1,\"reply_users_count\":1,\"latest_reply\":\"1729074607.166969\",\"reply_users\":[\"U04LNNVCLH0\"],\"is_locked\":false,\"subscribed\":false,\"blocks\":[{\"type\":\"section\",\"block_id\":\"\\\\/IvMz\",\"text\":{\"type\":\"mrkdwn\",\"text\":\"<http:\\\\/\\\\/localhost:3000\\\\/d\\\\/|:fire: [Active] - [Id#48]> - <https:\\\\/\\\\/sqlmonitor.ajaydwivedi.com:3000\\\\/d\\\\/distributed_live_dashboard_all_servers\\\\/monitoring-live-all-servers?orgId=1&amp;refresh=1m&amp;viewPanel=852|[*Alert-DiskSpace*] - *2* Warnings - *1* Criticals>\",\"verbatim\":false}},{\"type\":\"actions\",\"block_id\":\"aJEZx\",\"elements\":[{\"type\":\"button\",\"action_id\":\"h4+fD\",\"text\":{\"type\":\"plain_text\",\"text\":\"Acknowledge\",\"emoji\":true},\"style\":\"primary\",\"value\":\"click_me_123\"},{\"type\":\"button\",\"action_id\":\"LO5wF\",\"text\":{\"type\":\"plain_text\",\"text\":\"Clear\",\"emoji\":true},\"style\":\"primary\",\"value\":\"click_me_123\"},{\"type\":\"button\",\"action_id\":\"3iYwk\",\"text\":{\"type\":\"plain_text\",\"text\":\"Resolve\",\"emoji\":true},\"style\":\"danger\",\"value\":\"click_me_123\"}]}]},\"state\":{\"values\":{}},\"response_url\":\"https:\\\\/\\\\/hooks.slack.com\\\\/actions\\\\/TEBFRF7L3\\\\/7910536653952\\\\/sMzRqn7boU12xAQcuVjaD7fi\",\"actions\":[{\"action_id\":\"h4+fD\",\"block_id\":\"aJEZx\",\"text\":{\"type\":\"plain_text\",\"text\":\"Acknowledge\",\"emoji\":true},\"value\":\"click_me_123\",\"style\":\"primary\",\"type\":\"button\",\"action_ts\":\"1729074749.251556\"}]}')]"
      ]
     },
     "execution_count": 3,
     "metadata": {},
     "output_type": "execute_result"
    }
   ],
   "source": [
    "data"
   ]
  }
 ],
 "metadata": {
  "kernelspec": {
   "display_name": "Python 3 (ipykernel)",
   "language": "python",
   "name": "python3"
  },
  "language_info": {
   "codemirror_mode": {
    "name": "ipython",
    "version": 3
   },
   "file_extension": ".py",
   "mimetype": "text/x-python",
   "name": "python",
   "nbconvert_exporter": "python",
   "pygments_lexer": "ipython3",
   "version": "3.11.7"
  }
 },
 "nbformat": 4,
 "nbformat_minor": 4
}
