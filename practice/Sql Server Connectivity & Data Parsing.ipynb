{
 "cells": [
  {
   "cell_type": "markdown",
   "metadata": {
    "azdata_cell_guid": "450b8507-fc12-4b7e-9c65-d1ea54d3105a"
   },
   "source": [
    "# Install pyodbc\n",
    "\n",
    "https://docs.microsoft.com/en-us/sql/connect/odbc/windows/system-requirements-installation-and-driver-files?view=sql-server-ver15#installing-microsoft-odbc-driver-for-sql-server\n",
    "\n",
    "https://www.sqlshack.com/performing-crud-operations-with-a-python-sql-library-for-sql-server/\n",
    "\n",
    "https://stackoverflow.com/questions/33725862/connecting-to-microsoft-sql-server-using-python/33787509"
   ]
  },
  {
   "cell_type": "code",
   "execution_count": 1,
   "metadata": {
    "azdata_cell_guid": "866f3fb0-ddad-4f3c-a2de-9b0bb7410a3b"
   },
   "outputs": [],
   "source": [
    "import pyodbc\n",
    "server = 'officelaptop'\n",
    "database = 'DBA'\n",
    "username = 'grafana' \n",
    "password = 'grafana' \n",
    "app_name = 'pyodbc-test.py'\n",
    "cnxn = pyodbc.connect('DRIVER={ODBC Driver 18 for SQL Server};SERVER='+server+';DATABASE='+database+';UID='+username+';PWD='+ password+'; TrustServerCertificate=yes; APP={app_name};')\n",
    "cursor = cnxn.cursor()"
   ]
  },
  {
   "cell_type": "code",
   "execution_count": null,
   "metadata": {
    "azdata_cell_guid": "f52cd8ca-6a43-4846-bd6f-6b1f93e150d7"
   },
   "outputs": [],
   "source": [
    "# Sample Query\n",
    "cursor.execute(\"select param_key, param_value from dbo.sma_params\") \n",
    "row = cursor.fetchone() \n",
    "while row: \n",
    "    print(row)\n",
    "    row = cursor.fetchone()"
   ]
  },
  {
   "cell_type": "code",
   "execution_count": 19,
   "metadata": {},
   "outputs": [
    {
     "name": "stdout",
     "output_type": "stream",
     "text": [
      "15\n"
     ]
    }
   ],
   "source": [
    "sum = lambda x,y: x+y\n",
    "\n",
    "print(sum(10,5))"
   ]
  },
  {
   "cell_type": "code",
   "execution_count": 2,
   "metadata": {},
   "outputs": [
    {
     "name": "stdout",
     "output_type": "stream",
     "text": [
      "alert_sender_email => sqlagentservice@gmail.com\n",
      "credential_manager_database => DBA\n",
      "cto_email_id => sqlagentservice@gmail.com\n"
     ]
    }
   ],
   "source": [
    "# Sample Query\n",
    "cursor.execute(\"select top 3 param_key, param_value from dbo.sma_params\") \n",
    "query_resultset = cursor.fetchall() \n",
    "col_names = [column[0] for column in query_resultset[0].cursor_description]\n",
    "#print(col_names)\n",
    "\n",
    "#col_index = lambda col: col_names.index(col)\n",
    "#col_value = lambda row, col: row[col_index(col)]\n",
    "col_value = lambda row, col: row[(lambda col: col_names.index(col))(col)]\n",
    "\n",
    "for row in query_resultset:\n",
    "    param_key = col_value(row,'param_key')\n",
    "    param_value = col_value(row,'param_value')\n",
    "    print(f\"{param_key} => {param_value}\")"
   ]
  },
  {
   "cell_type": "code",
   "execution_count": 39,
   "metadata": {},
   "outputs": [
    {
     "name": "stdout",
     "output_type": "stream",
     "text": [
      "['sql_instance', 'data_size_mb', 'data_used_mb', 'data_used_pct', 'log_size_mb', 'log_used_mb', 'log_used_pct', 'version_store_mb', 'version_store_pct', 'updated_date_utc', 'collection_time_utc']\n"
     ]
    }
   ],
   "source": [
    "# Get Data, convert data unit, and print pretty table\n",
    "cursor.execute(\"select top 5 * from tempdb_space_usage_all_servers\") \n",
    "pyodbc_query_resultset = cursor.fetchall() \n",
    "col_names = [column[0] for column in query_resultset[0].cursor_description]\n",
    "print(col_names)\n"
   ]
  },
  {
   "cell_type": "code",
   "execution_count": 45,
   "metadata": {},
   "outputs": [],
   "source": [
    "def get_pretty_data_size(size:float,unit:str='mb',precision:int=2):\n",
    "    unit = unit.lower()\n",
    "    suffixes=['b', 'kb','mb','gb','tb']\n",
    "    suffixIndex = suffixes.index(unit)\n",
    "    while size > 1024 and suffixIndex < (len(suffixes)-1):\n",
    "        suffixIndex += 1 #increment the index of the suffix\n",
    "        size = size/1024.0 #apply the division\n",
    "    return \"%.*f %s\"%(precision,size,suffixes[suffixIndex])"
   ]
  },
  {
   "cell_type": "code",
   "execution_count": 30,
   "metadata": {},
   "outputs": [
    {
     "name": "stdout",
     "output_type": "stream",
     "text": [
      "data_size_mb\n",
      "data_used_mb\n",
      "log_size_mb\n",
      "log_used_mb\n",
      "version_store_mb\n",
      "6.41 gb\n",
      "+-----------------+--------------+--------------+------------------+\n",
      "|   sql_instance  | data_size_mb | log_used_pct | version_store_mb |\n",
      "+-----------------+--------------+--------------+------------------+\n",
      "| 21L-LTPABL-1187 |  800.00 mb   |    25.26     |     28.00 mb     |\n",
      "|    SQLMonitor   |   6.41 gb    |     6.88     |     0.44 mb      |\n",
      "+-----------------+--------------+--------------+------------------+\n"
     ]
    }
   ],
   "source": [
    "from prettytable import PrettyTable\n",
    "\n",
    "\n",
    "#def get_pretty_table(pyodbc_query_resultset, return_pretty_data:bool=False):\n",
    "if len(pyodbc_query_resultset) == 0:\n",
    "    raise Exception(f\"No data in passed resulset.\")\n",
    "else:\n",
    "    pt_results = PrettyTable()\n",
    "    col_names = [column[0] for column in pyodbc_query_resultset[0].cursor_description]\n",
    "    pt_results.field_names = col_names\n",
    "    pt_results.add_rows(pyodbc_query_resultset)\n",
    "\n",
    "    suffixes=['kb','mb','gb','tb']\n",
    "    for col in col_names:\n",
    "        for unit in suffixes:\n",
    "            if col.endswith(f\"_{unit}\"):\n",
    "                print(col)\n",
    "                pt_results.custom_format = {\n",
    "                    col: lambda field, value: f\"{value:,} mb\"\n",
    "                }\n",
    "\n",
    "print(get_pretty_data_size(6560,'mb'))\n",
    "\n",
    "#custom_format_dict = dict(data_size_mb = lambda field, value: f\"{value:,}\")\n",
    "custom_format_dict = dict(data_size_mb = lambda field, value: get_pretty_data_size(float(value),'mb'))\n",
    "\n",
    "pt_results.custom_format = custom_format_dict\n",
    "\n",
    "pt_results.custom_format[\"version_store_mb\"] = lambda field, value: get_pretty_data_size(float(value),'mb')\n",
    "\n",
    "    #return pt_results\n",
    "print(pt_results.get_string(fields=[\"sql_instance\",\"data_size_mb\",\"log_used_pct\",\"version_store_mb\"]))"
   ]
  },
  {
   "cell_type": "code",
   "execution_count": 66,
   "metadata": {},
   "outputs": [
    {
     "name": "stdout",
     "output_type": "stream",
     "text": [
      "Before custom format\n",
      "+-----------------+--------------+--------------+------------------+\n",
      "|   sql_instance  | data_size_mb | log_used_pct | version_store_mb |\n",
      "+-----------------+--------------+--------------+------------------+\n",
      "| 21L-LTPABL-1187 |    800.00    |    34.58     |      48.44       |\n",
      "|    SQLMonitor   |   6560.00    |     6.44     |       0.25       |\n",
      "+-----------------+--------------+--------------+------------------+\n",
      "col=data_size_mb, unit=mb\n",
      "col=data_used_mb, unit=mb\n",
      "col=log_size_mb, unit=mb\n",
      "col=log_used_mb, unit=mb\n",
      "col=version_store_mb, unit=mb\n",
      "6.41 gb\n",
      "After custom format\n",
      "+-----------------+--------------+--------------+------------------+\n",
      "|   sql_instance  | data_size_mb | log_used_pct | version_store_mb |\n",
      "+-----------------+--------------+--------------+------------------+\n",
      "| 21L-LTPABL-1187 |  800.00 mb   |    34.58     |     48.44 mb     |\n",
      "|    SQLMonitor   |   6.41 gb    |     6.44     |     0.25 mb      |\n",
      "+-----------------+--------------+--------------+------------------+\n"
     ]
    }
   ],
   "source": [
    "from prettytable import PrettyTable\n",
    "\n",
    "return_pretty_data = True\n",
    "#def get_pretty_table(pyodbc_query_resultset, return_pretty_data:bool=False):\n",
    "if len(pyodbc_query_resultset) == 0:\n",
    "    raise Exception(f\"No data in passed resulset.\")\n",
    "else:\n",
    "    pt_results = PrettyTable()\n",
    "    col_names = [column[0] for column in pyodbc_query_resultset[0].cursor_description]\n",
    "    pt_results.field_names = col_names\n",
    "    pt_results.add_rows(pyodbc_query_resultset)\n",
    "\n",
    "    print('Before custom format')\n",
    "    print(pt_results.get_string(fields=[\"sql_instance\",\"data_size_mb\",\"log_used_pct\",\"version_store_mb\"]))\n",
    "\n",
    "    if return_pretty_data:\n",
    "        suffixes=['kb','mb','gb','tb']\n",
    "        init = True\n",
    "        for col in col_names:\n",
    "            for unit in suffixes:\n",
    "                if col.endswith(f\"_{unit}\"):\n",
    "                    print(f\"col={col}, unit={unit}\")\n",
    "                    if init:\n",
    "                        pt_results.custom_format = { col: lambda field, value: get_pretty_data_size(float(value),field[-2:]) }\n",
    "                        init = False\n",
    "                    else:\n",
    "                        pt_results.custom_format[col] = lambda field, value: get_pretty_data_size(float(value),field[-2:])\n",
    "\n",
    "print(get_pretty_data_size(float(6560.00),'mb'))\n",
    "#custom_format_dict = dict(data_size_mb = lambda field, value: f\"{value:,}\")\n",
    "#custom_format_dict = dict()\n",
    "#custom_format_dict[\"data_size_mb\"] = lambda field, value: get_pretty_data_size(float(value),'mb')\n",
    "#custom_format_dict[\"version_store_mb\"] = lambda field, value: get_pretty_data_size(float(value),'mb')\n",
    "\n",
    "#pt_results.custom_format[\"version_store_mb\"] = lambda field, value: get_pretty_data_size(float(value),'mb')\n",
    "\n",
    "#name = 'Ajay Dwivedi'\n",
    "#print(name[-3:])\n",
    "\n",
    "    #return pt_results\n",
    "print('After custom format')\n",
    "print(pt_results.get_string(fields=[\"sql_instance\",\"data_size_mb\",\"log_used_pct\",\"version_store_mb\"]))"
   ]
  },
  {
   "cell_type": "code",
   "execution_count": null,
   "metadata": {},
   "outputs": [],
   "source": [
    "# Sample Query\n",
    "\n",
    "cursor.execute(\"select param_key, param_value from dbo.sma_params\") \n",
    "result = cursor.fetchall() \n",
    "for row in result:\n",
    "    #print(row)\n",
    "    pass"
   ]
  },
  {
   "cell_type": "code",
   "execution_count": null,
   "metadata": {},
   "outputs": [],
   "source": [
    "from prettytable import PrettyTable\n",
    "\n",
    "pt_results = PrettyTable()\n",
    "pt_results.field_names = [column[0] for column in result[0].cursor_description]\n",
    "pt_results.add_rows(result)\n",
    "\n",
    "print(pt_results)\n"
   ]
  },
  {
   "cell_type": "code",
   "execution_count": null,
   "metadata": {},
   "outputs": [],
   "source": [
    "import pandas as pd\n",
    "from pandas import DataFrame\n",
    "\n",
    "df_columns = [column[0] for column in result[0].cursor_description]\n",
    "df_results = pd.DataFrame.from_records(result,columns=df_columns)\n",
    "\n",
    "print(df_results)"
   ]
  },
  {
   "cell_type": "code",
   "execution_count": null,
   "metadata": {},
   "outputs": [],
   "source": [
    "#print(result)\n",
    "#[row.param_key for row in result]\n",
    "\n",
    "index_col = 'param_key'\n",
    "columns = [column[0] for column in result[0].cursor_description]\n",
    "indexOfIndexCol = columns.index(index_col)\n",
    "#print(indexOfIndexCol)\n",
    "\n",
    "#result[indexOfIndexCol]\n",
    "indexValues = [row[indexOfIndexCol] for row in result]\n",
    "print(indexValues)\n",
    "\n",
    "for row in result:\n",
    "    #print(row[indexOfIndexCol])\n",
    "    pass\n",
    "\n",
    "\n",
    "#[row.param_key for row in result]\n"
   ]
  },
  {
   "cell_type": "markdown",
   "metadata": {
    "azdata_cell_guid": "06d2272f-b367-4083-9f06-c1a5377753e7"
   },
   "source": [
    "**Connection String with APP name**"
   ]
  },
  {
   "cell_type": "code",
   "execution_count": null,
   "metadata": {
    "azdata_cell_guid": "c6ebb522-62ea-428b-8ee8-25e0d635b01e"
   },
   "outputs": [],
   "source": [
    "import pyodbc\r\n",
    "cnxn = pyodbc.connect('Driver={SQL Server};'\r\n",
    "                      'Server=localhost;'\r\n",
    "                      'Database=StackOverflow;'\r\n",
    "                      'Trusted_Connection=yes;'\r\n",
    "                      'APP=sql-server-load-generator.py')\r\n",
    "cursor = cnxn.cursor()\r\n",
    "\r\n",
    "# Sample Query\r\n",
    "cursor.execute(\"SELECT @@version; WAITFOR DELAY '00:20:00'\") \r\n",
    "row = cursor.fetchone() \r\n",
    "while row: \r\n",
    "    print(row[0])\r\n",
    "    row = cursor.fetchone()"
   ]
  }
 ],
 "metadata": {
  "kernelspec": {
   "display_name": "Python 3 (ipykernel)",
   "language": "python",
   "name": "python3"
  },
  "language_info": {
   "codemirror_mode": {
    "name": "ipython",
    "version": 3
   },
   "file_extension": ".py",
   "mimetype": "text/x-python",
   "name": "python",
   "nbconvert_exporter": "python",
   "pygments_lexer": "ipython3",
   "version": "3.11.7"
  }
 },
 "nbformat": 4,
 "nbformat_minor": 4
}
