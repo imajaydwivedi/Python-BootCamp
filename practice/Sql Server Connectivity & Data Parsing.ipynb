{
 "cells": [
  {
   "cell_type": "markdown",
   "metadata": {
    "azdata_cell_guid": "450b8507-fc12-4b7e-9c65-d1ea54d3105a"
   },
   "source": [
    "# Install pyodbc\n",
    "\n",
    "https://docs.microsoft.com/en-us/sql/connect/odbc/windows/system-requirements-installation-and-driver-files?view=sql-server-ver15#installing-microsoft-odbc-driver-for-sql-server\n",
    "\n",
    "https://www.sqlshack.com/performing-crud-operations-with-a-python-sql-library-for-sql-server/\n",
    "\n",
    "https://stackoverflow.com/questions/33725862/connecting-to-microsoft-sql-server-using-python/33787509"
   ]
  },
  {
   "cell_type": "code",
   "execution_count": 8,
   "metadata": {
    "azdata_cell_guid": "866f3fb0-ddad-4f3c-a2de-9b0bb7410a3b"
   },
   "outputs": [],
   "source": [
    "import pyodbc\n",
    "server = 'officelaptop'\n",
    "database = 'DBA'\n",
    "username = 'grafana' \n",
    "password = 'grafana' \n",
    "cnxn = pyodbc.connect('DRIVER={ODBC Driver 18 for SQL Server};SERVER='+server+';DATABASE='+database+';UID='+username+';PWD='+ password+'; TrustServerCertificate=yes;')\n",
    "cursor = cnxn.cursor()"
   ]
  },
  {
   "cell_type": "code",
   "execution_count": null,
   "metadata": {
    "azdata_cell_guid": "f52cd8ca-6a43-4846-bd6f-6b1f93e150d7"
   },
   "outputs": [],
   "source": [
    "# Sample Query\n",
    "cursor.execute(\"select param_key, param_value from dbo.sma_params\") \n",
    "row = cursor.fetchone() \n",
    "while row: \n",
    "    print(row)\n",
    "    row = cursor.fetchone()"
   ]
  },
  {
   "cell_type": "code",
   "execution_count": 19,
   "metadata": {},
   "outputs": [
    {
     "name": "stdout",
     "output_type": "stream",
     "text": [
      "15\n"
     ]
    }
   ],
   "source": [
    "sum = lambda x,y: x+y\n",
    "\n",
    "print(sum(10,5))"
   ]
  },
  {
   "cell_type": "code",
   "execution_count": 27,
   "metadata": {},
   "outputs": [
    {
     "name": "stdout",
     "output_type": "stream",
     "text": [
      "alert_sender_email => sqlagentservice@gmail.com\n",
      "credential_manager_database => DBA\n",
      "cto_email_id => sqlagentservice@gmail.com\n"
     ]
    }
   ],
   "source": [
    "# Sample Query\n",
    "cursor.execute(\"select top 3 param_key, param_value from dbo.sma_params\") \n",
    "query_resultset = cursor.fetchall() \n",
    "col_names = [column[0] for column in query_resultset[0].cursor_description]\n",
    "#print(col_names)\n",
    "\n",
    "#col_index = lambda col: col_names.index(col)\n",
    "#col_value = lambda row, col: row[col_index(col)]\n",
    "col_value = lambda row, col: row[(lambda col: col_names.index(col))(col)]\n",
    "\n",
    "for row in query_resultset:\n",
    "    param_key = col_value(row,'param_key')\n",
    "    param_value = col_value(row,'param_value')\n",
    "    print(f\"{param_key} => {param_value}\")"
   ]
  },
  {
   "cell_type": "code",
   "execution_count": null,
   "metadata": {},
   "outputs": [],
   "source": [
    "# Sample Query\n",
    "cursor.execute(\"select param_key, param_value from dbo.sma_params\") \n",
    "result = cursor.fetchall() \n",
    "for row in result:\n",
    "    #print(row)\n",
    "    pass"
   ]
  },
  {
   "cell_type": "code",
   "execution_count": null,
   "metadata": {},
   "outputs": [],
   "source": [
    "from prettytable import PrettyTable\n",
    "\n",
    "pt_results = PrettyTable()\n",
    "pt_results.field_names = [column[0] for column in result[0].cursor_description]\n",
    "pt_results.add_rows(result)\n",
    "\n",
    "print(pt_results)\n"
   ]
  },
  {
   "cell_type": "code",
   "execution_count": null,
   "metadata": {},
   "outputs": [],
   "source": [
    "import pandas as pd\n",
    "from pandas import DataFrame\n",
    "\n",
    "df_columns = [column[0] for column in result[0].cursor_description]\n",
    "df_results = pd.DataFrame.from_records(result,columns=df_columns)\n",
    "\n",
    "print(df_results)"
   ]
  },
  {
   "cell_type": "code",
   "execution_count": null,
   "metadata": {},
   "outputs": [],
   "source": [
    "#print(result)\n",
    "#[row.param_key for row in result]\n",
    "\n",
    "index_col = 'param_key'\n",
    "columns = [column[0] for column in result[0].cursor_description]\n",
    "indexOfIndexCol = columns.index(index_col)\n",
    "#print(indexOfIndexCol)\n",
    "\n",
    "#result[indexOfIndexCol]\n",
    "indexValues = [row[indexOfIndexCol] for row in result]\n",
    "print(indexValues)\n",
    "\n",
    "for row in result:\n",
    "    #print(row[indexOfIndexCol])\n",
    "    pass\n",
    "\n",
    "\n",
    "#[row.param_key for row in result]\n"
   ]
  },
  {
   "cell_type": "markdown",
   "metadata": {
    "azdata_cell_guid": "06d2272f-b367-4083-9f06-c1a5377753e7"
   },
   "source": [
    "**Connection String with APP name**"
   ]
  },
  {
   "cell_type": "code",
   "execution_count": null,
   "metadata": {
    "azdata_cell_guid": "c6ebb522-62ea-428b-8ee8-25e0d635b01e"
   },
   "outputs": [],
   "source": [
    "import pyodbc\r\n",
    "cnxn = pyodbc.connect('Driver={SQL Server};'\r\n",
    "                      'Server=localhost;'\r\n",
    "                      'Database=StackOverflow;'\r\n",
    "                      'Trusted_Connection=yes;'\r\n",
    "                      'APP=sql-server-load-generator.py')\r\n",
    "cursor = cnxn.cursor()\r\n",
    "\r\n",
    "# Sample Query\r\n",
    "cursor.execute(\"SELECT @@version; WAITFOR DELAY '00:20:00'\") \r\n",
    "row = cursor.fetchone() \r\n",
    "while row: \r\n",
    "    print(row[0])\r\n",
    "    row = cursor.fetchone()"
   ]
  }
 ],
 "metadata": {
  "kernelspec": {
   "display_name": "Python 3 (ipykernel)",
   "language": "python",
   "name": "python3"
  },
  "language_info": {
   "codemirror_mode": {
    "name": "ipython",
    "version": 3
   },
   "file_extension": ".py",
   "mimetype": "text/x-python",
   "name": "python",
   "nbconvert_exporter": "python",
   "pygments_lexer": "ipython3",
   "version": "3.11.7"
  }
 },
 "nbformat": 4,
 "nbformat_minor": 4
}
