{
 "cells": [
  {
   "cell_type": "code",
   "execution_count": 30,
   "id": "450c94a4-c34a-48ab-a4e8-24778e0c3412",
   "metadata": {},
   "outputs": [],
   "source": [
    "def GetHumanReadableData(size,unit:str='mb',precision:int=2):\n",
    "    unit = unit.lower()\n",
    "    suffixes=['b', 'kb','mb','gb','tb']\n",
    "    suffixIndex = suffixes.index(unit)\n",
    "    while size > 1024 and suffixIndex < (len(suffixes)-1):\n",
    "        suffixIndex += 1 #increment the index of the suffix\n",
    "        size = size/1024.0 #apply the division\n",
    "    return \"%.*f %s\"%(precision,size,suffixes[suffixIndex])"
   ]
  },
  {
   "cell_type": "code",
   "execution_count": 31,
   "id": "0b70e17e-1c1c-47f7-8b5c-f1c8cd9951ef",
   "metadata": {},
   "outputs": [
    {
     "name": "stdout",
     "output_type": "stream",
     "text": [
      "12.00 gb\n",
      "30.52 tb\n",
      "32.00 tb\n",
      "64.00 kb\n"
     ]
    }
   ],
   "source": [
    "print(GetHumanReadableData(12288,'mb')) # 12 gb\n",
    "print(GetHumanReadableData(32000000,'mb')) # 32 tb\n",
    "print(GetHumanReadableData(32768,'gb')) # 32 tb\n",
    "print(GetHumanReadableData(65536,'b')) # 64 kb"
   ]
  },
  {
   "cell_type": "code",
   "execution_count": 33,
   "id": "bbcaa5f2-4334-468d-9ebc-b1a976796196",
   "metadata": {},
   "outputs": [
    {
     "name": "stdout",
     "output_type": "stream",
     "text": [
      "+---------+-----------+------------+\n",
      "|   Name  |   Salary  | Occupation |\n",
      "+---------+-----------+------------+\n",
      "|  Alice  | 1,000,000 |  Engineer  |\n",
      "|   Bob   |  250,000  |  Designer  |\n",
      "| Charlie |  500,000  |   Doctor   |\n",
      "+---------+-----------+------------+\n"
     ]
    }
   ],
   "source": [
    "from prettytable import PrettyTable\n",
    "\n",
    "# Create a PrettyTable object\n",
    "table = PrettyTable()\n",
    "\n",
    "# Define the columns\n",
    "table.field_names = [\"Name\", \"Salary\", \"Occupation\"]\n",
    "\n",
    "# Add rows to the table\n",
    "table.add_row([\"Alice\", 1000000, \"Engineer\"])\n",
    "table.add_row([\"Bob\", 250000, \"Designer\"])\n",
    "table.add_row([\"Charlie\", 500000, \"Doctor\"])\n",
    "\n",
    "# Define a custom format dictionary\n",
    "table.custom_format = {\n",
    "    \"Salary\": lambda field, value: f\"{value:,}\"  # Add comma as a thousand separator\n",
    "}\n",
    "\n",
    "# Print the table\n",
    "print(table)"
   ]
  }
 ],
 "metadata": {
  "kernelspec": {
   "display_name": "Python 3 (ipykernel)",
   "language": "python",
   "name": "python3"
  },
  "language_info": {
   "codemirror_mode": {
    "name": "ipython",
    "version": 3
   },
   "file_extension": ".py",
   "mimetype": "text/x-python",
   "name": "python",
   "nbconvert_exporter": "python",
   "pygments_lexer": "ipython3",
   "version": "3.11.7"
  }
 },
 "nbformat": 4,
 "nbformat_minor": 5
}
