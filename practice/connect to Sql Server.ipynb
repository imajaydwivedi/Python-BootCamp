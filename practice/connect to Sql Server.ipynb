{
    "metadata": {
        "kernelspec": {
            "name": "python3",
            "display_name": "Python 3"
        },
        "language_info": {
            "name": "python",
            "version": "3.7.6",
            "mimetype": "text/x-python",
            "codemirror_mode": {
                "name": "ipython",
                "version": 3
            },
            "pygments_lexer": "ipython3",
            "nbconvert_exporter": "python",
            "file_extension": ".py"
        }
    },
    "nbformat_minor": 2,
    "nbformat": 4,
    "cells": [
        {
            "cell_type": "markdown",
            "source": [
                "# Install pyodbc\n",
                "\n",
                "https://docs.microsoft.com/en-us/sql/connect/odbc/windows/system-requirements-installation-and-driver-files?view=sql-server-ver15#installing-microsoft-odbc-driver-for-sql-server\n",
                "\n",
                "https://www.sqlshack.com/performing-crud-operations-with-a-python-sql-library-for-sql-server/\n",
                "\n",
                "https://stackoverflow.com/questions/33725862/connecting-to-microsoft-sql-server-using-python/33787509"
            ],
            "metadata": {
                "azdata_cell_guid": "450b8507-fc12-4b7e-9c65-d1ea54d3105a"
            }
        },
        {
            "cell_type": "code",
            "source": [
                "import pyodbc\n",
                "server = 'localhost'\n",
                "database = 'StackOverflow2010'\n",
                "username = 'sqldbatools' \n",
                "password = 'sqldbatools' \n",
                "cnxn = pyodbc.connect('DRIVER={ODBC Driver 17 for SQL Server};SERVER='+server+';DATABASE='+database+';UID='+username+';PWD='+ password)\n",
                "cursor = cnxn.cursor()"
            ],
            "metadata": {
                "azdata_cell_guid": "866f3fb0-ddad-4f3c-a2de-9b0bb7410a3b"
            },
            "outputs": [],
            "execution_count": 9
        },
        {
            "cell_type": "code",
            "source": [
                "# Sample Query\n",
                "cursor.execute(\"SELECT @@version;\") \n",
                "row = cursor.fetchone() \n",
                "while row: \n",
                "    print(row[0])\n",
                "    row = cursor.fetchone()"
            ],
            "metadata": {
                "azdata_cell_guid": "f52cd8ca-6a43-4846-bd6f-6b1f93e150d7"
            },
            "outputs": [
                {
                    "output_type": "stream",
                    "name": "stdout",
                    "text": "Microsoft SQL Server 2019 (RTM-GDR) (KB4517790) - 15.0.2070.41 (X64) \n\tOct 28 2019 19:56:59 \n\tCopyright (C) 2019 Microsoft Corporation\n\tDeveloper Edition (64-bit) on Windows 10 Pro 10.0 <X64> (Build 18363: )\n\n"
                }
            ],
            "execution_count": 10
        },
        {
            "cell_type": "markdown",
            "source": [
                "**Connection String with APP name**"
            ],
            "metadata": {
                "azdata_cell_guid": "06d2272f-b367-4083-9f06-c1a5377753e7"
            }
        },
        {
            "cell_type": "code",
            "source": [
                "import pyodbc\r\n",
                "cnxn = pyodbc.connect('Driver={SQL Server};'\r\n",
                "                      'Server=localhost;'\r\n",
                "                      'Database=StackOverflow;'\r\n",
                "                      'Trusted_Connection=yes;'\r\n",
                "                      'APP=sql-server-load-generator.py')\r\n",
                "cursor = cnxn.cursor()\r\n",
                "\r\n",
                "# Sample Query\r\n",
                "cursor.execute(\"SELECT @@version; WAITFOR DELAY '00:20:00'\") \r\n",
                "row = cursor.fetchone() \r\n",
                "while row: \r\n",
                "    print(row[0])\r\n",
                "    row = cursor.fetchone()"
            ],
            "metadata": {
                "azdata_cell_guid": "c6ebb522-62ea-428b-8ee8-25e0d635b01e"
            },
            "outputs": [
                {
                    "name": "stdout",
                    "text": "Microsoft SQL Server 2019 (RTM-CU5) (KB4552255) - 15.0.4043.16 (X64) \n\tJun 10 2020 18:25:25 \n\tCopyright (C) 2019 Microsoft Corporation\n\tDeveloper Edition (64-bit) on Windows 10 Enterprise 10.0 <X64> (Build 18363: )\n\n",
                    "output_type": "stream"
                }
            ],
            "execution_count": 2
        }
    ]
}