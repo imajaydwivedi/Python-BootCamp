{
 "cells": [
  {
   "cell_type": "code",
   "execution_count": 1,
   "metadata": {},
   "outputs": [],
   "source": [
    "class Book():\n",
    "    \"\"\"\n",
    "    DOCSTRING: Book blueprint\n",
    "    \"\"\"\n",
    "\n",
    "    def __init__(self,isbn,title,price):\n",
    "        self.isbn = isbn\n",
    "        self.title = title\n",
    "        self.price = price\n"
   ]
  },
  {
   "cell_type": "code",
   "execution_count": 2,
   "metadata": {},
   "outputs": [],
   "source": [
    "book1 = Book(isbn=\"20200101\",title='Clean code for Python',price=200.0)\n",
    "book2 = Book(isbn=\"20200201\",title='Python Programming',price=210.0)"
   ]
  },
  {
   "cell_type": "code",
   "execution_count": 3,
   "metadata": {},
   "outputs": [],
   "source": [
    "class BookLibrary():\n",
    "    \"\"\"\n",
    "    DOCSTRING: Catalog of books\n",
    "    \"\"\"\n",
    "    \n",
    "    def add(self,book):\n",
    "        entities = []\n",
    "        BookLibrary.entities.append(book)\n",
    "    \n",
    "    def find(self,condition):\n",
    "        \"\"\"Search library for the given condition\"\"\"\n",
    "        return [book for book in BookLibrary.entities if condition(book)]\n"
   ]
  },
  {
   "cell_type": "code",
   "execution_count": 4,
   "metadata": {},
   "outputs": [],
   "source": [
    "lib = BookLibrary()"
   ]
  },
  {
   "cell_type": "code",
   "execution_count": 5,
   "metadata": {},
   "outputs": [],
   "source": [
    "lib.add(book1)\n",
    "lib.add(book2)"
   ]
  },
  {
   "cell_type": "code",
   "execution_count": 6,
   "metadata": {},
   "outputs": [
    {
     "name": "stdout",
     "output_type": "stream",
     "text": [
      "Clean code for Python\n",
      "Python Programming\n"
     ]
    }
   ],
   "source": [
    "for book in lib.entities:\n",
    "    print(book.title)"
   ]
  },
  {
   "cell_type": "code",
   "execution_count": 8,
   "metadata": {},
   "outputs": [
    {
     "name": "stdout",
     "output_type": "stream",
     "text": [
      "Python Programming\n"
     ]
    }
   ],
   "source": [
    "books = None\n",
    "books = lib.find(lambda book: book.isbn == \"20200201\")\n",
    "for book in books:\n",
    "    print(book.title)"
   ]
  },
  {
   "cell_type": "code",
   "execution_count": null,
   "metadata": {},
   "outputs": [],
   "source": []
  }
 ],
 "metadata": {
  "kernelspec": {
   "display_name": "Python 3 (ipykernel)",
   "language": "python",
   "name": "python3"
  },
  "language_info": {
   "codemirror_mode": {
    "name": "ipython",
    "version": 3
   },
   "file_extension": ".py",
   "mimetype": "text/x-python",
   "name": "python",
   "nbconvert_exporter": "python",
   "pygments_lexer": "ipython3",
   "version": "3.11.7"
  }
 },
 "nbformat": 4,
 "nbformat_minor": 4
}
