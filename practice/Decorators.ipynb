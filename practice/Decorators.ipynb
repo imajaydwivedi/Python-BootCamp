{
 "cells": [
  {
   "cell_type": "code",
   "execution_count": 1,
   "metadata": {},
   "outputs": [],
   "source": [
    "def new_decorator(func):\n",
    "    '''\n",
    "    SYNOPSIS: Decorator function\n",
    "    '''\n",
    "    def wrapper():\n",
    "        print(\"Some extra code, before the original function\")\n",
    "        func()\n",
    "        print(\"Some extra code, after the original function\")\n",
    "        \n",
    "    return wrapper"
   ]
  },
  {
   "cell_type": "code",
   "execution_count": 2,
   "metadata": {},
   "outputs": [],
   "source": [
    "def func_need_decorator():\n",
    "    print(\"I want to be decorated!\")"
   ]
  },
  {
   "cell_type": "code",
   "execution_count": 3,
   "metadata": {},
   "outputs": [
    {
     "name": "stdout",
     "output_type": "stream",
     "text": [
      "I want to be decorated!\n"
     ]
    }
   ],
   "source": [
    "func_need_decorator()"
   ]
  },
  {
   "cell_type": "code",
   "execution_count": 4,
   "metadata": {},
   "outputs": [],
   "source": [
    "@new_decorator\n",
    "def func_need_decorator():\n",
    "    print(\"I want to be decorated!\")"
   ]
  },
  {
   "cell_type": "code",
   "execution_count": 5,
   "metadata": {},
   "outputs": [
    {
     "name": "stdout",
     "output_type": "stream",
     "text": [
      "Some extra code, before the original function\n",
      "I want to be decorated!\n",
      "Some extra code, after the original function\n"
     ]
    }
   ],
   "source": [
    "func_need_decorator()"
   ]
  },
  {
   "cell_type": "code",
   "execution_count": 15,
   "metadata": {},
   "outputs": [
    {
     "name": "stdout",
     "output_type": "stream",
     "text": [
      "hello Ajay\n"
     ]
    }
   ],
   "source": [
    "import functools\n",
    "\n",
    "def repeat(func):\n",
    "    \n",
    "    def wrapper(*args,**kwargs):\n",
    "        func(*args, **kwargs)\n",
    "    \n",
    "    return wrapper\n",
    "\n",
    "\n",
    "@repeat #(num_times=3)\n",
    "def greet(name):\n",
    "    print(f'hello {name}')\n",
    "    \n",
    "\n",
    "greet('Ajay')"
   ]
  },
  {
   "cell_type": "code",
   "execution_count": 18,
   "metadata": {},
   "outputs": [
    {
     "name": "stdout",
     "output_type": "stream",
     "text": [
      "start\n",
      "end\n",
      "15\n"
     ]
    }
   ],
   "source": [
    "import functools\n",
    "\n",
    "def greet_decorator(func):\n",
    "    \n",
    "    @functools.wraps(func)\n",
    "    def wrapper(*args, **kwargs):\n",
    "        print('start')\n",
    "        result = func(*args, **kwargs)\n",
    "        print('end')\n",
    "        return result\n",
    "    return wrapper\n",
    "\n",
    "@greet_decorator\n",
    "def add_5(num):\n",
    "    return num+5\n",
    "\n",
    "result = add_5(10)\n",
    "print(result)"
   ]
  },
  {
   "cell_type": "code",
   "execution_count": 19,
   "metadata": {},
   "outputs": [
    {
     "name": "stdout",
     "output_type": "stream",
     "text": [
      "Help on function add_5 in module __main__:\n",
      "\n",
      "add_5(num)\n",
      "\n"
     ]
    }
   ],
   "source": [
    "help(add_5)"
   ]
  },
  {
   "cell_type": "code",
   "execution_count": null,
   "metadata": {},
   "outputs": [],
   "source": []
  }
 ],
 "metadata": {
  "kernelspec": {
   "display_name": "Python 3 (ipykernel)",
   "language": "python",
   "name": "python3"
  },
  "language_info": {
   "codemirror_mode": {
    "name": "ipython",
    "version": 3
   },
   "file_extension": ".py",
   "mimetype": "text/x-python",
   "name": "python",
   "nbconvert_exporter": "python",
   "pygments_lexer": "ipython3",
   "version": "3.9.7"
  }
 },
 "nbformat": 4,
 "nbformat_minor": 4
}
