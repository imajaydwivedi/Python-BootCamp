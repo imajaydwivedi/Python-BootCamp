{
 "cells": [
  {
   "cell_type": "markdown",
   "id": "ead060c8-c019-4bfe-85a4-aa403b2abf88",
   "metadata": {},
   "source": [
    "# Pandas DataFrame\n",
    "\n",
    "### Tutorials\n",
    "https://www.datacamp.com/tutorial/pandas-tutorial-dataframe-python\n",
    "\n",
    "### Docs\n",
    "https://pandas.pydata.org/docs/reference/frame.html"
   ]
  },
  {
   "cell_type": "code",
   "execution_count": 89,
   "id": "aa497588-3cad-4e45-b3e0-91368c0a83f0",
   "metadata": {},
   "outputs": [
    {
     "name": "stdout",
     "output_type": "stream",
     "text": [
      "  sql_instance disk_volume  used_pct     state\n",
      "0        srv01         c:\\     75.68   Warning\n",
      "1        srv01         d:\\     77.34   Warning\n",
      "2        srv01         e:\\     85.74  Critical\n",
      "3        srv02         d:\\     90.21  Critical\n"
     ]
    }
   ],
   "source": [
    "import pandas as pd\n",
    " \n",
    "# intialise data of lists.\n",
    "data = {'sql_instance':['srv01', 'srv01', 'srv01', 'srv02'],\n",
    "        'disk_volume':['c:\\\\', 'd:\\\\', 'e:\\\\', 'd:\\\\'],\n",
    "        'used_pct':[75.68, 77.34, 85.74, 90.21],\n",
    "        'state': ['Warning', 'Warning', 'Critical', 'Critical']\n",
    "       }\n",
    " \n",
    "# Create DataFrame\n",
    "df = pd.DataFrame(data)\n",
    "#df.style.set_caption(\"[Alert-DiskSpace] - 2 Warning - 2 Critical\")\n",
    "df.style.set_caption(\"Some Caption\").set_table_styles([{\n",
    "    'selector': 'caption',\n",
    "    'props': [\n",
    "        ('color', 'red'),\n",
    "        ('font-size', '16px')\n",
    "    ]\n",
    "}])\n",
    "# Print the output.\n",
    "print(df)"
   ]
  },
  {
   "cell_type": "code",
   "execution_count": 14,
   "id": "a0c9fe1d-49d2-4a26-a518-3b1f5a3e8ca0",
   "metadata": {},
   "outputs": [
    {
     "data": {
      "text/plain": [
       "sql_instance       srv02\n",
       "disk_volume          d:\\\n",
       "used_pct           90.21\n",
       "state           Critical\n",
       "Name: 3, dtype: object"
      ]
     },
     "execution_count": 14,
     "metadata": {},
     "output_type": "execute_result"
    }
   ],
   "source": [
    "df.iloc[3]"
   ]
  },
  {
   "cell_type": "code",
   "execution_count": 18,
   "id": "aa945164-09c6-4255-b1ad-e579dcfc340e",
   "metadata": {},
   "outputs": [
    {
     "name": "stdout",
     "output_type": "stream",
     "text": [
      "0 sql_instance      srv01\n",
      "disk_volume         c:\\\n",
      "used_pct          75.68\n",
      "state           Warning\n",
      "Name: 0, dtype: object\n",
      "\n",
      "1 sql_instance      srv01\n",
      "disk_volume         d:\\\n",
      "used_pct          77.34\n",
      "state           Warning\n",
      "Name: 1, dtype: object\n",
      "\n",
      "2 sql_instance       srv01\n",
      "disk_volume          e:\\\n",
      "used_pct           85.74\n",
      "state           Critical\n",
      "Name: 2, dtype: object\n",
      "\n",
      "3 sql_instance       srv02\n",
      "disk_volume          d:\\\n",
      "used_pct           90.21\n",
      "state           Critical\n",
      "Name: 3, dtype: object\n",
      "\n"
     ]
    }
   ],
   "source": [
    "# Iterating over rows and columns \n",
    "for col_name, col_value in df.iterrows():\n",
    "    print(col_name, col_value)\n",
    "    print()"
   ]
  },
  {
   "cell_type": "code",
   "execution_count": 22,
   "id": "347e7ed1-f9df-4c24-a0ea-9ab47fb58b2c",
   "metadata": {},
   "outputs": [
    {
     "name": "stdout",
     "output_type": "stream",
     "text": [
      "sql_instance\n",
      "disk_volume\n",
      "used_pct\n",
      "state\n",
      "***********************\n",
      "srv01\n",
      "e:\\\n",
      "85.74\n",
      "Critical\n"
     ]
    }
   ],
   "source": [
    "# Iterating over Columns \n",
    "columns = list(df)\n",
    "\n",
    "for c in columns:\n",
    "    print(c)\n",
    "\n",
    "print ('***********************')\n",
    "\n",
    "# get all columns for row index 2\n",
    "for col in columns:\n",
    "    print(df[col][2])"
   ]
  },
  {
   "cell_type": "code",
   "execution_count": 29,
   "id": "88122332-9d0d-4c9d-9e52-68f627e8a091",
   "metadata": {},
   "outputs": [
    {
     "data": {
      "text/plain": [
       "['sql_instance', 'disk_volume', 'used_pct', 'state']"
      ]
     },
     "execution_count": 29,
     "metadata": {},
     "output_type": "execute_result"
    }
   ],
   "source": [
    "[col for col in df.columns]\n",
    "#list(df)"
   ]
  },
  {
   "cell_type": "code",
   "execution_count": 49,
   "id": "aa496b16-76c2-48b0-bcb6-eed528cfe733",
   "metadata": {},
   "outputs": [
    {
     "data": {
      "text/html": [
       "<div>\n",
       "<style scoped>\n",
       "    .dataframe tbody tr th:only-of-type {\n",
       "        vertical-align: middle;\n",
       "    }\n",
       "\n",
       "    .dataframe tbody tr th {\n",
       "        vertical-align: top;\n",
       "    }\n",
       "\n",
       "    .dataframe thead th {\n",
       "        text-align: right;\n",
       "    }\n",
       "</style>\n",
       "<table border=\"1\" class=\"dataframe\">\n",
       "  <thead>\n",
       "    <tr style=\"text-align: right;\">\n",
       "      <th></th>\n",
       "      <th>sql_instance</th>\n",
       "      <th>disk_volume</th>\n",
       "      <th>used_pct</th>\n",
       "      <th>state</th>\n",
       "    </tr>\n",
       "  </thead>\n",
       "  <tbody>\n",
       "    <tr>\n",
       "      <th>2</th>\n",
       "      <td>srv01</td>\n",
       "      <td>e:\\</td>\n",
       "      <td>85.74</td>\n",
       "      <td>Critical</td>\n",
       "    </tr>\n",
       "  </tbody>\n",
       "</table>\n",
       "</div>"
      ],
      "text/plain": [
       "  sql_instance disk_volume  used_pct     state\n",
       "2        srv01         e:\\     85.74  Critical"
      ]
     },
     "execution_count": 49,
     "metadata": {},
     "output_type": "execute_result"
    }
   ],
   "source": [
    "# Query data\n",
    "df.query('sql_instance == \"srv01\" and state == \"Critical\"')"
   ]
  },
  {
   "cell_type": "code",
   "execution_count": 66,
   "id": "c8a090b5-6334-4cb8-b7c5-85e45333f904",
   "metadata": {},
   "outputs": [
    {
     "data": {
      "text/html": [
       "<div>\n",
       "<style scoped>\n",
       "    .dataframe tbody tr th:only-of-type {\n",
       "        vertical-align: middle;\n",
       "    }\n",
       "\n",
       "    .dataframe tbody tr th {\n",
       "        vertical-align: top;\n",
       "    }\n",
       "\n",
       "    .dataframe thead th {\n",
       "        text-align: right;\n",
       "    }\n",
       "</style>\n",
       "<table border=\"1\" class=\"dataframe\">\n",
       "  <thead>\n",
       "    <tr style=\"text-align: right;\">\n",
       "      <th></th>\n",
       "      <th>sql_instance</th>\n",
       "      <th>disk_volume</th>\n",
       "      <th>used_pct</th>\n",
       "      <th>state</th>\n",
       "    </tr>\n",
       "  </thead>\n",
       "  <tbody>\n",
       "    <tr>\n",
       "      <th>2</th>\n",
       "      <td>srv01</td>\n",
       "      <td>e:\\</td>\n",
       "      <td>85.74</td>\n",
       "      <td>Critical</td>\n",
       "    </tr>\n",
       "  </tbody>\n",
       "</table>\n",
       "</div>"
      ],
      "text/plain": [
       "  sql_instance disk_volume  used_pct     state\n",
       "2        srv01         e:\\     85.74  Critical"
      ]
     },
     "execution_count": 66,
     "metadata": {},
     "output_type": "execute_result"
    }
   ],
   "source": [
    "# Filter data\n",
    "df.where( (df['sql_instance']=='srv01') & (df['state']=='Critical') ).dropna()"
   ]
  },
  {
   "cell_type": "code",
   "execution_count": 65,
   "id": "f9dd3210-75cb-4741-91fb-8279b5b7c6d6",
   "metadata": {},
   "outputs": [
    {
     "name": "stdout",
     "output_type": "stream",
     "text": [
      "row_count = 1\n",
      "(2, sql_instance       srv01\n",
      "disk_volume          e:\\\n",
      "used_pct           85.74\n",
      "state           Critical\n",
      "Name: 2, dtype: object)\n"
     ]
    }
   ],
   "source": [
    "# Filter data\n",
    "rows_filtered = df.where( (df['sql_instance']=='srv01') & (df['state']=='Critical') ).dropna()\n",
    "\n",
    "row_count = len(rows_filtered)\n",
    "print(f\"row_count = {row_count}\")\n",
    "if row_count > 0:\n",
    "    for row in rows_filtered.iterrows():\n",
    "        print(row)\n",
    "else:\n",
    "    print('No rows found.')"
   ]
  },
  {
   "cell_type": "code",
   "execution_count": 82,
   "id": "74c1a301-8acf-4b32-96dd-25395fd93066",
   "metadata": {},
   "outputs": [
    {
     "data": {
      "text/plain": [
       "0    False\n",
       "1    False\n",
       "2     True\n",
       "3     True\n",
       "Name: state, dtype: bool"
      ]
     },
     "execution_count": 82,
     "metadata": {},
     "output_type": "execute_result"
    }
   ],
   "source": [
    "df['state'] == 'Critical'"
   ]
  },
  {
   "cell_type": "code",
   "execution_count": 83,
   "id": "bd64407a-afb8-4fd9-8864-1c1acfd8601d",
   "metadata": {},
   "outputs": [
    {
     "data": {
      "text/plain": [
       "0     Warning\n",
       "1     Warning\n",
       "2    Critical\n",
       "3    Critical\n",
       "Name: state, dtype: object"
      ]
     },
     "execution_count": 83,
     "metadata": {},
     "output_type": "execute_result"
    }
   ],
   "source": [
    "df.state"
   ]
  },
  {
   "cell_type": "code",
   "execution_count": null,
   "id": "adb61091-41aa-41b2-ab69-e7b4ef5581b3",
   "metadata": {},
   "outputs": [],
   "source": []
  }
 ],
 "metadata": {
  "kernelspec": {
   "display_name": "Python 3 (ipykernel)",
   "language": "python",
   "name": "python3"
  },
  "language_info": {
   "codemirror_mode": {
    "name": "ipython",
    "version": 3
   },
   "file_extension": ".py",
   "mimetype": "text/x-python",
   "name": "python",
   "nbconvert_exporter": "python",
   "pygments_lexer": "ipython3",
   "version": "3.11.7"
  }
 },
 "nbformat": 4,
 "nbformat_minor": 5
}
