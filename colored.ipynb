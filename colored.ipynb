{
 "cells": [
  {
   "cell_type": "code",
   "execution_count": 17,
   "metadata": {},
   "outputs": [],
   "source": [
    "import colored\n",
    "from colored import fore, back, style, fg, bg, attr, stylize"
   ]
  },
  {
   "cell_type": "code",
   "execution_count": 2,
   "metadata": {},
   "outputs": [
    {
     "name": "stdout",
     "output_type": "stream",
     "text": [
      "\u001b[38;5;1mHello World !!!\u001b[0m\n"
     ]
    }
   ],
   "source": [
    "print (f\"{fg('red')}Hello World !!!{attr('reset')}\")"
   ]
  },
  {
   "cell_type": "code",
   "execution_count": 3,
   "metadata": {},
   "outputs": [
    {
     "name": "stdout",
     "output_type": "stream",
     "text": [
      "\u001b[38;5;2mHello World !!!\u001b[0m\n"
     ]
    }
   ],
   "source": [
    "print (f\"{fg('green')}Hello World !!!{attr('reset')}\")"
   ]
  },
  {
   "cell_type": "code",
   "execution_count": 4,
   "metadata": {},
   "outputs": [
    {
     "name": "stdout",
     "output_type": "stream",
     "text": [
      "\u001b[38;5;6mHello World !!!\u001b[0m\n"
     ]
    }
   ],
   "source": [
    "print (f\"{fg('cyan')}Hello World !!!{attr('reset')}\")"
   ]
  },
  {
   "cell_type": "code",
   "execution_count": 5,
   "metadata": {},
   "outputs": [
    {
     "name": "stdout",
     "output_type": "stream",
     "text": [
      "Hello World !!!\n"
     ]
    }
   ],
   "source": [
    "print(\"Hello World !!!\")"
   ]
  },
  {
   "cell_type": "code",
   "execution_count": 10,
   "metadata": {},
   "outputs": [],
   "source": [
    "color_failure = fg('red')\n",
    "color_success = fg('green')\n",
    "color_verbose = fg('cyan')\n",
    "color_reset = attr('reset')"
   ]
  },
  {
   "cell_type": "code",
   "execution_count": 13,
   "metadata": {},
   "outputs": [
    {
     "name": "stdout",
     "output_type": "stream",
     "text": [
      "\u001b[38;5;6mHi Ajay!!\u001b[0m\n",
      "\u001b[38;5;2mWonderfull achievement Ajay!\u001b[0m\n",
      "\u001b[38;5;1mOpps Failure!!\u001b[0m\n"
     ]
    }
   ],
   "source": [
    "name = 'Ajay'\n",
    "print(color_verbose+f'Hi {name}!!'+color_reset)\n",
    "print(color_success+f'Wonderfull achievement {name}!'+color_reset)\n",
    "print(color_failure+f'Opps Failure!!'+color_reset)"
   ]
  },
  {
   "cell_type": "code",
   "execution_count": 19,
   "metadata": {},
   "outputs": [
    {
     "name": "stdout",
     "output_type": "stream",
     "text": [
      "\u001b[38;5;6mHi Ajay\u001b[0m\n"
     ]
    }
   ],
   "source": [
    "name = 'Ajay'\n",
    "print(stylize(f\"Hi {name}\", colored.fg('cyan')))"
   ]
  },
  {
   "cell_type": "code",
   "execution_count": 25,
   "metadata": {},
   "outputs": [],
   "source": [
    "def verbose(text):\n",
    "    print(stylize(text, colored.fg('cyan')))\n",
    "def error(text):\n",
    "    print(stylize(text, colored.fg('red')))\n",
    "def success(text):\n",
    "    print(stylize(text, colored.fg('green')))"
   ]
  },
  {
   "cell_type": "code",
   "execution_count": 26,
   "metadata": {},
   "outputs": [
    {
     "name": "stdout",
     "output_type": "stream",
     "text": [
      "\u001b[38;5;6mHi Ajay\u001b[0m\n",
      "\u001b[38;5;1mOpps! You made mistake Ajay.\u001b[0m\n",
      "\u001b[38;5;2mGreat job, Ajay!\u001b[0m\n"
     ]
    }
   ],
   "source": [
    "name = 'Ajay'\n",
    "verbose(f\"Hi {name}\")\n",
    "error(f\"Opps! You made mistake {name}.\")\n",
    "success(f\"Great job, {name}!\")"
   ]
  },
  {
   "cell_type": "code",
   "execution_count": null,
   "metadata": {},
   "outputs": [],
   "source": []
  },
  {
   "cell_type": "code",
   "execution_count": 27,
   "metadata": {},
   "outputs": [],
   "source": [
    "def verbose(func):\n",
    "    colored.fg('cyan')\n",
    "    func()\n",
    "    attr('reset')\n",
    "def error(func):\n",
    "    colored.fg('red')\n",
    "    func()\n",
    "    attr('reset')\n",
    "def success(func):\n",
    "    colored.fg('green')\n",
    "    func()\n",
    "    attr('reset')"
   ]
  },
  {
   "cell_type": "code",
   "execution_count": 30,
   "metadata": {},
   "outputs": [
    {
     "ename": "SyntaxError",
     "evalue": "invalid syntax (<ipython-input-30-cee19eef1971>, line 3)",
     "output_type": "error",
     "traceback": [
      "\u001b[0;36m  File \u001b[0;32m\"<ipython-input-30-cee19eef1971>\"\u001b[0;36m, line \u001b[0;32m3\u001b[0m\n\u001b[0;31m    print(f\"Hi {name}\")\u001b[0m\n\u001b[0m    ^\u001b[0m\n\u001b[0;31mSyntaxError\u001b[0m\u001b[0;31m:\u001b[0m invalid syntax\n"
     ]
    }
   ],
   "source": [
    "name = 'Ajay'\n",
    "verbose\n",
    "print(f\"Hi {name}\")\n",
    "#@error\n",
    "print(f\"Opps! You made mistake {name}.\")\n",
    "#@success\n",
    "print(f\"Great job, {name}!\")"
   ]
  },
  {
   "cell_type": "code",
   "execution_count": null,
   "metadata": {},
   "outputs": [],
   "source": []
  }
 ],
 "metadata": {
  "kernelspec": {
   "display_name": "Python 3",
   "language": "python",
   "name": "python3"
  },
  "language_info": {
   "codemirror_mode": {
    "name": "ipython",
    "version": 3
   },
   "file_extension": ".py",
   "mimetype": "text/x-python",
   "name": "python",
   "nbconvert_exporter": "python",
   "pygments_lexer": "ipython3",
   "version": "3.8.5"
  }
 },
 "nbformat": 4,
 "nbformat_minor": 4
}
