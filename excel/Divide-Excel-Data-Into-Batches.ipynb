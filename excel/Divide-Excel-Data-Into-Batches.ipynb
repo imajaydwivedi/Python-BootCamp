{
 "cells": [
  {
   "cell_type": "markdown",
   "id": "5a9dea6b-55c8-4db2-8d14-f8baed336b70",
   "metadata": {},
   "source": [
    "# Read large Excel file & divide data into multiple sheets\n",
    "https://sparkbyexamples.com/pandas/pandas-write-to-excel-with-examples/\n",
    "\n",
    "## Dapo Assignment - Divide Excel data into Sheets"
   ]
  },
  {
   "cell_type": "code",
   "execution_count": null,
   "id": "f2c16cef-fa1f-46c4-bd08-b1aad0e79d5d",
   "metadata": {},
   "outputs": [],
   "source": [
    "import pandas as pd\n",
    "import pyodbc\n",
    "\n",
    "excel_file_path = \"/home/saanvi/Downloads/Dapo/SlotInvoiceMaster.xlsx\"\n",
    "sheet_name = \"Data tab\"\n",
    "\n",
    "excel_file_new = \"/home/saanvi/Downloads/Dapo/SlotInvoiceMaster_Ajay-Batches.xlsx\"\n",
    "\n",
    "# Get all data from excel sheet\n",
    "df = pd.read_excel(excel_file_path, sheet_name, na_filter=False)\n",
    "\n",
    "total_rows = len(df)\n",
    "batch_size = 30000\n",
    "\n",
    "# Output the number of rows\n",
    "print(\"Total rows: {0}\".format(total_rows))\n",
    "\n",
    "print(\"Data Preview:\")\n",
    "print(df.head())\n",
    "\n",
    "# Write back to an Excel\n",
    "with pd.ExcelWriter(excel_file_new) as writer:  \n",
    "    for start_row in range(0, total_rows, batch_size):\n",
    "        end_row = min(start_row + batch_size, total_rows)\n",
    "        sheet_name = f'row_{start_row + 1}_to_{end_row}'\n",
    "        df.iloc[start_row:end_row].to_excel(writer, index=False, sheet_name=sheet_name)\n",
    "    #df.iloc[:30000].to_excel(writer, index=False, sheet_name='row_1_to_30k')  \n",
    "    #df.iloc[30000:60000].to_excel(writer, index=False, sheet_name='row_30k_to_60k')\n",
    "    #df.iloc[60000:90000].to_excel(writer, index=False, sheet_name='row_60k_to_90k')"
   ]
  }
 ],
 "metadata": {
  "kernelspec": {
   "display_name": "Python 3 (ipykernel)",
   "language": "python",
   "name": "python3"
  },
  "language_info": {
   "codemirror_mode": {
    "name": "ipython",
    "version": 3
   },
   "file_extension": ".py",
   "mimetype": "text/x-python",
   "name": "python",
   "nbconvert_exporter": "python",
   "pygments_lexer": "ipython3",
   "version": "3.12.2"
  }
 },
 "nbformat": 4,
 "nbformat_minor": 5
}
