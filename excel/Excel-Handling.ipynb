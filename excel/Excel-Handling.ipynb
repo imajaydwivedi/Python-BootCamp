{
 "cells": [
  {
   "cell_type": "markdown",
   "id": "5742a6bf-7056-4e7a-8a5e-0d5f9d156686",
   "metadata": {},
   "source": [
    "# Import Excel Data Using Pandas\n",
    "[pandas.read_excel](https://pandas.pydata.org/docs/reference/api/pandas.read_excel.html#)"
   ]
  },
  {
   "cell_type": "code",
   "execution_count": 2,
   "id": "6ce1916b-2ba2-4489-9a51-5b3081261f83",
   "metadata": {},
   "outputs": [],
   "source": [
    "import pandas as pd\n",
    "import pyodbc"
   ]
  },
  {
   "cell_type": "markdown",
   "id": "02db4ca7-3960-47f1-ba4f-8d50ec84321c",
   "metadata": {},
   "source": [
    "## Load the Excel file into a Pandas DataFrame"
   ]
  },
  {
   "cell_type": "code",
   "execution_count": 33,
   "id": "19142151-d876-4eab-b5e6-7aa539bea3e8",
   "metadata": {},
   "outputs": [],
   "source": [
    "# Step 1: Read the Excel File\n",
    "excel_file_path = \"/home/saanvi/Downloads/Dapo/IMDB-Movie-Database.xlsx\"\n",
    "sheet_name1 = \"Sheet1\"\n",
    "sheet_name2 = \"Sheet2\""
   ]
  },
  {
   "cell_type": "markdown",
   "id": "5fcb1d51-4769-4cde-b2fb-cd8718633d5d",
   "metadata": {},
   "source": [
    "### Get 10 rows and first 4 columns with custom name for columns"
   ]
  },
  {
   "cell_type": "code",
   "execution_count": 34,
   "id": "a2cfdd87-e9d8-4df8-bd34-70723bd0c7f6",
   "metadata": {},
   "outputs": [
    {
     "name": "stdout",
     "output_type": "stream",
     "text": [
      "Data Preview:\n",
      "                            title release_date        color_bnw    genre\n",
      "0  Over the Hill to the Poorhouse   1920-09-15  Black and White    Crime\n",
      "1                      Metropolis   1927-01-26  Black and White    Drama\n",
      "2             The Broadway Melody   1929-11-11  Black and White  Musical\n",
      "3                     42nd Street   1933-08-29  Black and White   Comedy\n",
      "4                         Top Hat   1935-04-15  Black and White   Comedy\n"
     ]
    }
   ],
   "source": [
    "# Get 10 rows and first 4 columns with custom name for columns\n",
    "all_col_names = ['title','release_date','color_bnw','genre','language']\n",
    "df = pd.read_excel(excel_file_path, sheet_name1, nrows=10, usecols=\"A:D\", names=all_col_names)\n",
    "\n",
    "# Print the first few rows to verify the data\n",
    "print(\"Data Preview:\")\n",
    "print(df.head())"
   ]
  },
  {
   "cell_type": "markdown",
   "id": "2c218c2e-b0fe-41bf-ae71-b0166eccdde3",
   "metadata": {},
   "source": [
    "# Get 10 rows with customer columns names present in row_id = 0"
   ]
  },
  {
   "cell_type": "code",
   "execution_count": 36,
   "id": "978df2b4-428c-46ea-a1ab-9679ec0e1c6c",
   "metadata": {},
   "outputs": [
    {
     "name": "stdout",
     "output_type": "stream",
     "text": [
      "Data Preview:\n",
      "                            title release_date        color_bnw    genre\n",
      "0  Over the Hill to the Poorhouse   1920-09-15  Black and White    Crime\n",
      "1                      Metropolis   1927-01-26  Black and White    Drama\n",
      "2             The Broadway Melody   1929-11-11  Black and White  Musical\n",
      "3                     42nd Street   1933-08-29  Black and White   Comedy\n",
      "4                         Top Hat   1935-04-15  Black and White   Comedy\n"
     ]
    }
   ],
   "source": [
    "# Get 10 rows and first 4 columns\n",
    "# Custom column names present in row_id 1\n",
    "df = pd.read_excel(excel_file_path, sheet_name2, nrows=10, usecols=\"A:D\", skiprows=1)\n",
    "\n",
    "# Print the first few rows to verify the data\n",
    "print(\"Data Preview:\")\n",
    "print(df.head())"
   ]
  },
  {
   "cell_type": "markdown",
   "id": "f1700881-3f06-4343-8588-96bb347ae783",
   "metadata": {},
   "source": [
    "### Read data in batches"
   ]
  },
  {
   "cell_type": "code",
   "execution_count": 55,
   "id": "88f676f7-f197-4dd1-85ee-7b2772421e19",
   "metadata": {},
   "outputs": [
    {
     "name": "stdout",
     "output_type": "stream",
     "text": [
      "\n",
      "counter: 1\n",
      "Data Preview:\n",
      "   row_id                            title release_date        color_bnw\n",
      "0       1   Over the Hill to the Poorhouse   1920-09-15  Black and White\n",
      "1       2                       Metropolis   1927-01-26  Black and White\n",
      "2       3              The Broadway Melody   1929-11-11  Black and White\n",
      "3       4                      42nd Street   1933-08-29  Black and White\n",
      "4       5                          Top Hat   1935-04-15  Black and White\n",
      "5       6                     Modern Times   1936-10-07  Black and White\n",
      "6       7  Snow White and the Seven Dwarfs   1937-02-02            Color\n",
      "7       8               Gone with the Wind   1939-11-12            Color\n",
      "8       9                 The Wizard of Oz   1939-04-09  Black and White\n",
      "9      10                         Fantasia   1940-05-18            Color\n",
      "\n",
      "counter: 11\n",
      "Data Preview:\n",
      "   10                       Fantasia 1940-05-18 00:00:00            Color\n",
      "0  11                      Pinocchio          1940-10-12            Color\n",
      "1  12                Duel in the Sun          1946-06-07            Color\n",
      "2  13    The Best Years of Our Lives          1946-04-26  Black and White\n",
      "3  14         The Lady from Shanghai          1947-12-07  Black and White\n",
      "4  15                     The Pirate          1948-04-07            Color\n",
      "5  16             Annie Get Your Gun          1950-04-02            Color\n",
      "6  17     The Greatest Show on Earth          1952-10-23            Color\n",
      "7  18  The Beast from 20,000 Fathoms          1953-08-22  Black and White\n",
      "8  19                       The Robe          1953-05-15            Color\n",
      "9  20              On the Waterfront          1954-10-29  Black and White\n",
      "\n",
      "counter: 21\n",
      "Data Preview:\n",
      "   20                On the Waterfront 1954-10-29 00:00:00  Black and White\n",
      "0  21                    Seven Samurai          1954-07-02  Black and White\n",
      "1  22     The Bridge on the River Kwai          1957-09-24            Color\n",
      "2  23                 Some Like It Hot          1959-02-23  Black and White\n",
      "3  24                           Psycho          1960-11-04  Black and White\n",
      "4  25                  West Side Story          1961-05-03            Color\n",
      "5  26                           Dr. No          1962-11-27            Color\n",
      "6  27               Lawrence of Arabia          1962-10-11            Color\n",
      "7  28                        Cleopatra          1963-12-14            Color\n",
      "8  29            From Russia with Love          1963-11-24            Color\n",
      "9  30  It's a Mad, Mad, Mad, Mad World          1963-11-27            Color\n"
     ]
    }
   ],
   "source": [
    "counter = 1\n",
    "batch_size = 10\n",
    "total_rows = 3727\n",
    "has_custom_header = True\n",
    "\n",
    "# Use range to increment by batch_size\n",
    "while counter <= total_rows:\n",
    "    print(f\"\\ncounter: {counter}\")\n",
    "\n",
    "    # main logic\n",
    "    \n",
    "    df = pd.read_excel(excel_file_path, sheet_name2, usecols=\"A:D\", skiprows=counter, nrows=batch_size)\n",
    "    print(\"Data Preview:\")\n",
    "    print(df.head(batch_size))\n",
    "\n",
    "    counter = counter + batch_size\n",
    "    if counter > 30:\n",
    "        break;"
   ]
  },
  {
   "cell_type": "markdown",
   "id": "531954af-789d-4fa5-97b0-552e634aa4cb",
   "metadata": {},
   "source": [
    "# Read large Excel file & divide data into multiple sheets\n",
    "https://sparkbyexamples.com/pandas/pandas-write-to-excel-with-examples/\n"
   ]
  },
  {
   "cell_type": "code",
   "execution_count": 63,
   "id": "02db2c38-740f-4c4f-931c-1cce0c449c93",
   "metadata": {},
   "outputs": [
    {
     "name": "stdout",
     "output_type": "stream",
     "text": [
      "Total rows: 3725\n",
      "Data Preview:\n",
      "   row_id                           title release_date        color_bnw  \\\n",
      "0       1  Over the Hill to the Poorhouse   1920-09-15  Black and White   \n",
      "1       2                      Metropolis   1927-01-26  Black and White   \n",
      "2       3             The Broadway Melody   1929-11-11  Black and White   \n",
      "3       4                     42nd Street   1933-08-29  Black and White   \n",
      "4       5                         Top Hat   1935-04-15  Black and White   \n",
      "\n",
      "     genre language  country     rating     lead_actor      director_name  \\\n",
      "0    Crime  English      USA  Not Rated   Stephen Carr  Harry F. Millarde   \n",
      "1    Drama   German  Germany  Not Rated  Brigitte Helm         Fritz Lang   \n",
      "2  Musical  English      USA     Passed     Anita Page     Harry Beaumont   \n",
      "3   Comedy  English      USA    Unrated  Ginger Rogers        Lloyd Bacon   \n",
      "4   Comedy  English      USA   Approved  Ginger Rogers      Mark Sandrich   \n",
      "\n",
      "  lead_actor_fb_likes  cast_fb_likes  director_fb_likes  movie_fb_likes  \\\n",
      "0                   2              4                  0               0   \n",
      "1                 136            203                756           12000   \n",
      "2                  77            109                  4             167   \n",
      "3                 610            995                 24             439   \n",
      "4                 610            824                 10            1000   \n",
      "\n",
      "   imdb_score total_reviews duration_min  gross_revenue   budget  \n",
      "0         4.8             1          110        3000000   100000  \n",
      "1         8.3           260          145          26435  6000000  \n",
      "2         6.3            36          100        2808000   379000  \n",
      "3         7.7            65           89        2300000   439000  \n",
      "4         7.8            66           81        3000000   609000  \n"
     ]
    }
   ],
   "source": [
    "import pandas as pd\n",
    "import pyodbc\n",
    "\n",
    "excel_file_path = \"/home/saanvi/Downloads/Dapo/IMDB-Movie-Database.xlsx\"\n",
    "sheet_name = \"Sheet2\"\n",
    "\n",
    "# Get all data from excel sheet\n",
    "df = pd.read_excel(excel_file_path, sheet_name, na_filter=False)\n",
    "\n",
    "# Output the number of rows\n",
    "print(\"Total rows: {0}\".format(len(df)))\n",
    "\n",
    "print(\"Data Preview:\")\n",
    "print(df.head())\n",
    "\n",
    "# Write back to an Excel\n",
    "excel_file_new = \"/home/saanvi/Downloads/Dapo/IMDB-Movie-Database-Batches.xlsx\"\n",
    "with pd.ExcelWriter(excel_file_new) as writer:  \n",
    "    df.iloc[:1000].to_excel(writer, index=False, sheet_name='row_1_to_1k')  \n",
    "    df.iloc[1000:2000].to_excel(writer, index=False, sheet_name='row_1k_to_2k')  \n",
    "    df.iloc[2000:3000].to_excel(writer, index=False, sheet_name='row_2k_to_3k')  \n",
    "    df.iloc[3000:4000].to_excel(writer, index=False, sheet_name='row_3k_to_4k')  "
   ]
  },
  {
   "cell_type": "code",
   "execution_count": null,
   "id": "400ec6ac-3fe0-4e84-9f34-4e68375f6598",
   "metadata": {},
   "outputs": [],
   "source": []
  },
  {
   "cell_type": "code",
   "execution_count": 65,
   "id": "603b6d8c-96be-4ae0-9900-3a64ad50ca24",
   "metadata": {},
   "outputs": [
    {
     "name": "stdout",
     "output_type": "stream",
     "text": [
      "Total rows: 315538\n",
      "Data Preview:\n",
      "   row_id document_no posting_date  line_no sell_to_cusomter_no  \\\n",
      "0       1  SLPI000145   2024-01-01    10000              C01461   \n",
      "1       2  SLPI000145   2024-01-01    20000              C01461   \n",
      "2       3  SLPI000145   2024-01-01    30000              C01461   \n",
      "3       4  SLPI000145   2024-01-01    40000              C01461   \n",
      "4       5  SLPI000145   2024-01-01    50000              C01461   \n",
      "\n",
      "  bill_to_customer_no           customer_name    customer_no  \\\n",
      "0              C01461  Quil Ceda Creek Casino  FFLFG-N-OU49C   \n",
      "1              C01461  Quil Ceda Creek Casino  FFLFG-N-OU49C   \n",
      "2              C01461  Quil Ceda Creek Casino  FFLFG-N-OU49C   \n",
      "3              C01461  Quil Ceda Creek Casino  FFLFG-N-OU49C   \n",
      "4              C01461  Quil Ceda Creek Casino  FFLFG-N-OU49C   \n",
      "\n",
      "                                         description months  ...  \\\n",
      "0  136728, FF Lease-ORION UPRIGHT 49 CURVE, for P...     12  ...   \n",
      "1  136729, FF Lease-ORION UPRIGHT 49 CURVE, for P...     12  ...   \n",
      "2  136730, FF Lease-ORION UPRIGHT 49 CURVE, for P...     12  ...   \n",
      "3  136731, FF Lease-ORION UPRIGHT 49 CURVE, for P...     12  ...   \n",
      "4  136732, FF Lease-ORION UPRIGHT 49 CURVE, for P...     12  ...   \n",
      "\n",
      "  currency_factor amount_usd  item_category_code gen_bus_posting_group  \\\n",
      "0             0.0        0.0               LEASE               REVENUE   \n",
      "1             0.0        0.0               LEASE               REVENUE   \n",
      "2             0.0        0.0               LEASE               REVENUE   \n",
      "3             0.0        0.0               LEASE               REVENUE   \n",
      "4             0.0        0.0               LEASE               REVENUE   \n",
      "\n",
      "  gen_prod_posting_group game_count2  product_code        group        name  \\\n",
      "0              REV-LEASE           0          1210  Single Unit  ReportData   \n",
      "1              REV-LEASE           0          1210  Single Unit  ReportData   \n",
      "2              REV-LEASE           0          1210  Single Unit  ReportData   \n",
      "3              REV-LEASE           0          1210  Single Unit  ReportData   \n",
      "4              REV-LEASE           0          1210  Single Unit  ReportData   \n",
      "\n",
      "  segment  \n",
      "0   Slots  \n",
      "1   Slots  \n",
      "2   Slots  \n",
      "3   Slots  \n",
      "4   Slots  \n",
      "\n",
      "[5 rows x 32 columns]\n"
     ]
    }
   ],
   "source": [
    "import pandas as pd\n",
    "import pyodbc\n",
    "\n",
    "excel_file_path = \"/home/saanvi/Downloads/Dapo/SlotInvoice_Ajay.xlsx\"\n",
    "sheet_name = \"Data tab\"\n",
    "\n",
    "# Get all data from excel sheet\n",
    "df = pd.read_excel(excel_file_path, sheet_name, na_filter=False)\n",
    "\n",
    "total_rows = len(df)\n",
    "batch_size = 30000\n",
    "\n",
    "# Output the number of rows\n",
    "print(\"Total rows: {0}\".format(total_rows))\n",
    "\n",
    "print(\"Data Preview:\")\n",
    "print(df.head())\n",
    "\n",
    "# Write back to an Excel\n",
    "excel_file_new = \"/home/saanvi/Downloads/Dapo/SlotInvoice_Ajay-Batches.xlsx\"\n",
    "with pd.ExcelWriter(excel_file_new) as writer:  \n",
    "    for start_row in range(0, total_rows, batch_size):\n",
    "        end_row = min(start_row + batch_size, total_rows)\n",
    "        sheet_name = f'row_{start_row + 1}_to_{end_row}'\n",
    "        df.iloc[start_row:end_row].to_excel(writer, index=False, sheet_name=sheet_name)\n",
    "    #df.iloc[:30000].to_excel(writer, index=False, sheet_name='row_1_to_30k')  \n",
    "    #df.iloc[30000:60000].to_excel(writer, index=False, sheet_name='row_30k_to_60k')\n",
    "    #df.iloc[60000:90000].to_excel(writer, index=False, sheet_name='row_60k_to_90k')"
   ]
  },
  {
   "cell_type": "code",
   "execution_count": null,
   "id": "0287287d-4cf0-42f2-9686-d642eb266f9b",
   "metadata": {},
   "outputs": [],
   "source": []
  }
 ],
 "metadata": {
  "kernelspec": {
   "display_name": "Python 3 (ipykernel)",
   "language": "python",
   "name": "python3"
  },
  "language_info": {
   "codemirror_mode": {
    "name": "ipython",
    "version": 3
   },
   "file_extension": ".py",
   "mimetype": "text/x-python",
   "name": "python",
   "nbconvert_exporter": "python",
   "pygments_lexer": "ipython3",
   "version": "3.12.2"
  }
 },
 "nbformat": 4,
 "nbformat_minor": 5
}
