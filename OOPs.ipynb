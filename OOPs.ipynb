{
 "cells": [
  {
   "cell_type": "code",
   "execution_count": 47,
   "metadata": {},
   "outputs": [],
   "source": [
    "from datetime import date\n",
    "\n",
    "class Person():\n",
    "    ''' SYNOPSIS:  Class to represent a Person\n",
    "        INPUT: Name (string), Dob (date), City (string)\n",
    "    '''\n",
    "    \n",
    "    def __init__(self, name, dob, city='Rewa'):\n",
    "        ''' SYNOPSIS: Constructor\n",
    "        '''\n",
    "        self.name = name\n",
    "        self.dob = dob\n",
    "        self.city = city\n",
    "        \n",
    "    def laugh(self):\n",
    "        ''' SYNOPSIS: Method to make a person Laugh\n",
    "        '''\n",
    "        print('Ha Ha Ha')\n",
    "        \n",
    "    def greet(self):\n",
    "        ''' SYNOPSIS: Say Hello to person\n",
    "        '''\n",
    "        print(f\"Hello {self.name}\")\n",
    "        \n",
    "    def get_age(self):\n",
    "        ''' SYNOPSIS: Get age of person from dob attribute\n",
    "        '''\n",
    "        today = date.today()\n",
    "        return today.year - self.dob.year - ((today.month, today.day) < (self.dob.month, self.dob.day))\n",
    "        \n",
    "    pass"
   ]
  },
  {
   "cell_type": "code",
   "execution_count": 48,
   "metadata": {},
   "outputs": [],
   "source": [
    "p = Person(name='Ajay',dob=date(1989, 8, 17),city='Gwalior')"
   ]
  },
  {
   "cell_type": "code",
   "execution_count": 30,
   "metadata": {},
   "outputs": [
    {
     "data": {
      "text/plain": [
       "__main__.Person"
      ]
     },
     "execution_count": 30,
     "metadata": {},
     "output_type": "execute_result"
    }
   ],
   "source": [
    "type(p)"
   ]
  },
  {
   "cell_type": "code",
   "execution_count": 35,
   "metadata": {},
   "outputs": [
    {
     "name": "stdout",
     "output_type": "stream",
     "text": [
      "Ha Ha Ha\n"
     ]
    }
   ],
   "source": [
    "p.laugh()"
   ]
  },
  {
   "cell_type": "code",
   "execution_count": 36,
   "metadata": {},
   "outputs": [
    {
     "name": "stdout",
     "output_type": "stream",
     "text": [
      "Hello Ajay\n"
     ]
    }
   ],
   "source": [
    "p.greet()"
   ]
  },
  {
   "cell_type": "code",
   "execution_count": 40,
   "metadata": {},
   "outputs": [
    {
     "data": {
      "text/plain": [
       "30"
      ]
     },
     "execution_count": 40,
     "metadata": {},
     "output_type": "execute_result"
    }
   ],
   "source": [
    "p.get_age()"
   ]
  },
  {
   "cell_type": "code",
   "execution_count": 41,
   "metadata": {},
   "outputs": [
    {
     "data": {
      "text/plain": [
       "'Ajay'"
      ]
     },
     "execution_count": 41,
     "metadata": {},
     "output_type": "execute_result"
    }
   ],
   "source": [
    "p.name"
   ]
  },
  {
   "cell_type": "code",
   "execution_count": 49,
   "metadata": {},
   "outputs": [
    {
     "name": "stdout",
     "output_type": "stream",
     "text": [
      "Help on Person in module __main__ object:\n",
      "\n",
      "class Person(builtins.object)\n",
      " |  Person(name, dob, city='Rewa')\n",
      " |  \n",
      " |  SYNOPSIS:  Class to represent a Person\n",
      " |  INPUT: Name (string), Dob (date), City (string)\n",
      " |  \n",
      " |  Methods defined here:\n",
      " |  \n",
      " |  __init__(self, name, dob, city='Rewa')\n",
      " |      SYNOPSIS: Constructor\n",
      " |  \n",
      " |  get_age(self)\n",
      " |      SYNOPSIS: Get age of person from dob attribute\n",
      " |  \n",
      " |  greet(self)\n",
      " |      SYNOPSIS: Say Hello to person\n",
      " |  \n",
      " |  laugh(self)\n",
      " |      SYNOPSIS: Method to make a person Laugh\n",
      " |  \n",
      " |  ----------------------------------------------------------------------\n",
      " |  Data descriptors defined here:\n",
      " |  \n",
      " |  __dict__\n",
      " |      dictionary for instance variables (if defined)\n",
      " |  \n",
      " |  __weakref__\n",
      " |      list of weak references to the object (if defined)\n",
      "\n"
     ]
    }
   ],
   "source": [
    "help(p)"
   ]
  },
  {
   "cell_type": "code",
   "execution_count": 50,
   "metadata": {},
   "outputs": [
    {
     "data": {
      "text/plain": [
       "'Gwalior'"
      ]
     },
     "execution_count": 50,
     "metadata": {},
     "output_type": "execute_result"
    }
   ],
   "source": [
    "p.city"
   ]
  },
  {
   "cell_type": "markdown",
   "metadata": {},
   "source": [
    "## CLASS OBJECT ATTRIBUTES"
   ]
  },
  {
   "cell_type": "code",
   "execution_count": 69,
   "metadata": {},
   "outputs": [],
   "source": [
    "class Circle():\n",
    "    ''' SYNOPSIS: Class to work on mathematical object Circle\n",
    "        INPUT: radius (int)\n",
    "    '''\n",
    "    PI = 3.14\n",
    "    \n",
    "    def __init__(self, radius):\n",
    "        self.radius = radius\n",
    "        self.circumference = 2 * Circle.PI * radius\n",
    "        self.area = Circle.PI * (self.radius ** 2)\n",
    "        \n",
    "    def circumference(self):\n",
    "        '''\n",
    "            SYNOPSIS: Get Circumference value of circle\n",
    "        '''\n",
    "        return 2 * Circle.PI * self.radius\n",
    "    \n",
    "    def area(self):\n",
    "        '''\n",
    "            SYNOPSIS: Get Area value of circle\n",
    "        '''\n",
    "        return self.PI * (self.radius ** 2)"
   ]
  },
  {
   "cell_type": "code",
   "execution_count": 70,
   "metadata": {},
   "outputs": [],
   "source": [
    "circle = Circle(4)"
   ]
  },
  {
   "cell_type": "code",
   "execution_count": 65,
   "metadata": {},
   "outputs": [
    {
     "data": {
      "text/plain": [
       "3.14"
      ]
     },
     "execution_count": 65,
     "metadata": {},
     "output_type": "execute_result"
    }
   ],
   "source": [
    "circle.PI"
   ]
  },
  {
   "cell_type": "code",
   "execution_count": 66,
   "metadata": {},
   "outputs": [
    {
     "data": {
      "text/plain": [
       "3.14"
      ]
     },
     "execution_count": 66,
     "metadata": {},
     "output_type": "execute_result"
    }
   ],
   "source": [
    "Circle.PI"
   ]
  },
  {
   "cell_type": "code",
   "execution_count": 67,
   "metadata": {},
   "outputs": [
    {
     "data": {
      "text/plain": [
       "25.12"
      ]
     },
     "execution_count": 67,
     "metadata": {},
     "output_type": "execute_result"
    }
   ],
   "source": [
    "circle.circumference()"
   ]
  },
  {
   "cell_type": "code",
   "execution_count": 68,
   "metadata": {},
   "outputs": [
    {
     "data": {
      "text/plain": [
       "50.24"
      ]
     },
     "execution_count": 68,
     "metadata": {},
     "output_type": "execute_result"
    }
   ],
   "source": [
    "circle.area()"
   ]
  },
  {
   "cell_type": "code",
   "execution_count": 71,
   "metadata": {},
   "outputs": [
    {
     "data": {
      "text/plain": [
       "50.24"
      ]
     },
     "execution_count": 71,
     "metadata": {},
     "output_type": "execute_result"
    }
   ],
   "source": [
    "circle.area"
   ]
  },
  {
   "cell_type": "code",
   "execution_count": null,
   "metadata": {},
   "outputs": [],
   "source": []
  }
 ],
 "metadata": {
  "kernelspec": {
   "display_name": "Python 3",
   "language": "python",
   "name": "python3"
  },
  "language_info": {
   "codemirror_mode": {
    "name": "ipython",
    "version": 3
   },
   "file_extension": ".py",
   "mimetype": "text/x-python",
   "name": "python",
   "nbconvert_exporter": "python",
   "pygments_lexer": "ipython3",
   "version": "3.8.5"
  }
 },
 "nbformat": 4,
 "nbformat_minor": 4
}
