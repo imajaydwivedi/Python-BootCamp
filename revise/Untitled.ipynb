{
 "cells": [
  {
   "cell_type": "code",
   "execution_count": 1,
   "id": "5b62a019",
   "metadata": {},
   "outputs": [
    {
     "name": "stdout",
     "output_type": "stream",
     "text": [
      "the value for var is 3.1412356\n"
     ]
    }
   ],
   "source": [
    "var = 3.1412356\n",
    "stmt = \"the value for var is %s\" % var\n",
    "print(stmt)"
   ]
  },
  {
   "cell_type": "code",
   "execution_count": 2,
   "id": "d45a99ea",
   "metadata": {},
   "outputs": [
    {
     "name": "stdout",
     "output_type": "stream",
     "text": [
      "the value for var is 3.1412356\n"
     ]
    }
   ],
   "source": [
    "var = 3.1412356\n",
    "stmt = \"the value for var is {}\".format(var)\n",
    "print(stmt)"
   ]
  },
  {
   "cell_type": "code",
   "execution_count": 4,
   "id": "45ba88e2",
   "metadata": {},
   "outputs": [
    {
     "name": "stdout",
     "output_type": "stream",
     "text": [
      "the value for var is 3.1412356\n"
     ]
    }
   ],
   "source": [
    "var = 3.1412356\n",
    "stmt = f\"the value for var is {var}\"\n",
    "print(stmt)"
   ]
  },
  {
   "cell_type": "code",
   "execution_count": 5,
   "id": "793e0a97",
   "metadata": {},
   "outputs": [
    {
     "name": "stdout",
     "output_type": "stream",
     "text": [
      "the value for var is 3.14\n"
     ]
    }
   ],
   "source": [
    "var = 3.1412356\n",
    "stmt = f\"the value for var is {var:.2f}\"\n",
    "print(stmt)"
   ]
  },
  {
   "cell_type": "code",
   "execution_count": null,
   "id": "bd335eb1",
   "metadata": {},
   "outputs": [],
   "source": []
  }
 ],
 "metadata": {
  "kernelspec": {
   "display_name": "Python 3 (ipykernel)",
   "language": "python",
   "name": "python3"
  },
  "language_info": {
   "codemirror_mode": {
    "name": "ipython",
    "version": 3
   },
   "file_extension": ".py",
   "mimetype": "text/x-python",
   "name": "python",
   "nbconvert_exporter": "python",
   "pygments_lexer": "ipython3",
   "version": "3.9.13"
  }
 },
 "nbformat": 4,
 "nbformat_minor": 5
}
