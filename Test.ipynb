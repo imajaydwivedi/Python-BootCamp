{
    "metadata": {
        "kernelspec": {
            "name": "python3",
            "display_name": "Python 3"
        },
        "language_info": {
            "name": "python",
            "version": "3.7.9",
            "mimetype": "text/x-python",
            "codemirror_mode": {
                "name": "ipython",
                "version": 3
            },
            "pygments_lexer": "ipython3",
            "nbconvert_exporter": "python",
            "file_extension": ".py"
        },
        "orig_nbformat": 2
    },
    "nbformat_minor": 2,
    "nbformat": 4,
    "cells": [
        {
            "cell_type": "code",
            "source": [
                "def hello(name='Ajay'):\n",
                "    print('The hello() function has been executed!')\n",
                "\n",
                "    def greet():\n",
                "        return '\\t This is the greet() func inside hello!'\n",
                "    \n",
                "    def welcome():\n",
                "        return '\\t This is the welcome() func inside hello!'\n",
                "    \n",
                "    print(greet())\n",
                "    print(welcome())\n",
                "\n",
                "    print('This is the end of the hello function')"
            ],
            "metadata": {
                "azdata_cell_guid": "19e477b1-b6ef-4986-b16e-4fb3c61cdadc"
            },
            "outputs": [],
            "execution_count": 5
        },
        {
            "cell_type": "code",
            "source": [
                "hello()"
            ],
            "metadata": {
                "azdata_cell_guid": "2f8de079-3e6f-4511-8ec0-a5db450c6614"
            },
            "outputs": [
                {
                    "output_type": "stream",
                    "name": "stdout",
                    "text": "The hello() function has been executed!\n\t This is the greet() func inside hello!\n\t This is the welcome() func inside hello!\nThis is the end of the hello function\n"
                }
            ],
            "execution_count": 6
        },
        {
            "cell_type": "code",
            "source": [
                "while(True):\n",
                "    try:\n",
                "        result = int(input(\"Enter a number: \"))\n",
                "    except:\n",
                "        print(\"Whoops! Entered value is not a number\")\n",
                "        continue\n",
                "    else:\n",
                "        print(f\"You provided {result}.\")\n",
                "        break"
            ],
            "metadata": {
                "azdata_cell_guid": "67d70473-5926-407f-bcee-ed2649c51a8b"
            },
            "outputs": [
                {
                    "name": "stdout",
                    "text": "You provided 10.\n",
                    "output_type": "stream"
                }
            ],
            "execution_count": 1
        },
        {
            "cell_type": "code",
            "source": [
                "for i in ['a','b','c']:\r\n",
                "    print(i**2)"
            ],
            "metadata": {
                "azdata_cell_guid": "8aaefa68-58c9-4dff-8c8a-0b4c3b88a84e"
            },
            "outputs": [
                {
                    "traceback": [
                        "\u001b[1;31m---------------------------------------------------------------------------\u001b[0m",
                        "\u001b[1;31mTypeError\u001b[0m                                 Traceback (most recent call last)",
                        "\u001b[1;32m<ipython-input-2-c35f41ad7311>\u001b[0m in \u001b[0;36m<module>\u001b[1;34m\u001b[0m\n\u001b[0;32m      1\u001b[0m \u001b[1;32mfor\u001b[0m \u001b[0mi\u001b[0m \u001b[1;32min\u001b[0m \u001b[1;33m[\u001b[0m\u001b[1;34m'a'\u001b[0m\u001b[1;33m,\u001b[0m\u001b[1;34m'b'\u001b[0m\u001b[1;33m,\u001b[0m\u001b[1;34m'c'\u001b[0m\u001b[1;33m]\u001b[0m\u001b[1;33m:\u001b[0m\u001b[1;33m\u001b[0m\u001b[1;33m\u001b[0m\u001b[0m\n\u001b[1;32m----> 2\u001b[1;33m     \u001b[0mprint\u001b[0m\u001b[1;33m(\u001b[0m\u001b[0mi\u001b[0m\u001b[1;33m**\u001b[0m\u001b[1;36m2\u001b[0m\u001b[1;33m)\u001b[0m\u001b[1;33m\u001b[0m\u001b[1;33m\u001b[0m\u001b[0m\n\u001b[0m",
                        "\u001b[1;31mTypeError\u001b[0m: unsupported operand type(s) for ** or pow(): 'str' and 'int'"
                    ],
                    "ename": "TypeError",
                    "evalue": "unsupported operand type(s) for ** or pow(): 'str' and 'int'",
                    "output_type": "error"
                }
            ],
            "execution_count": 2
        },
        {
            "cell_type": "code",
            "source": [
                "for i in ['a','b','c',10]:\r\n",
                "    try:\r\n",
                "        print(i**2)\r\n",
                "    except TypeError:\r\n",
                "        print(f'You can not square string value {i}')"
            ],
            "metadata": {
                "azdata_cell_guid": "d960d994-309a-4693-a12d-9fc9da30580b"
            },
            "outputs": [
                {
                    "name": "stdout",
                    "text": "You can not square string value a\nYou can not square string value b\nYou can not square string value c\n100\n",
                    "output_type": "stream"
                }
            ],
            "execution_count": 5
        },
        {
            "cell_type": "code",
            "source": [
                ""
            ],
            "metadata": {
                "azdata_cell_guid": "69d6a43f-81ac-421f-8f06-bfed24761770"
            },
            "outputs": [],
            "execution_count": null
        }
    ]
}