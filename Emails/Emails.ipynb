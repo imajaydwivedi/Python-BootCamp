{
 "cells": [
  {
   "cell_type": "markdown",
   "id": "e9a35773-9c50-4783-abf5-1c78bbfda278",
   "metadata": {},
   "source": [
    "# Sending a Plain Text Email\n",
    "https://realpython.com/python-send-email/#sending-a-plain-text-email"
   ]
  },
  {
   "cell_type": "code",
   "execution_count": 4,
   "id": "93b1169b-82c9-4730-be75-17897f01c485",
   "metadata": {},
   "outputs": [],
   "source": [
    "import smtplib, ssl\n",
    "\n",
    "smtp_server = 'smtp.gmail.com'\n",
    "port = 587  # For SSL\n",
    "sender_email = 'sqlagentservice@gmail.com'\n",
    "password = \"12345678910111213\"\n",
    "receiver_email = \"ajay.dwivedi2007@gmail.com\"  # Enter receiver address\n",
    "\n",
    "message = \"\"\"\\\n",
    "Subject: Test Message Using Python\n",
    "\n",
    "This message is sent from Python.\"\"\"\n",
    "\n",
    "# Create a secure SSL context\n",
    "context = ssl.create_default_context()\n",
    "\n",
    "with smtplib.SMTP(smtp_server, port) as server:\n",
    "    server.ehlo()  # Can be omitted\n",
    "    server.starttls(context=context)\n",
    "    server.ehlo()  # Can be omitted\n",
    "    server.login(sender_email, password)\n",
    "    server.sendmail(sender_email, receiver_email, message)"
   ]
  },
  {
   "cell_type": "markdown",
   "id": "34e5d032-3895-49b1-b4f5-c7ec1699ad8e",
   "metadata": {},
   "source": [
    "# Sending Fancy Emails"
   ]
  },
  {
   "cell_type": "code",
   "execution_count": 8,
   "id": "f8c94af0-bc7a-429e-a0ad-c5746c16bd08",
   "metadata": {},
   "outputs": [],
   "source": [
    "import smtplib, ssl\n",
    "from email.mime.text import MIMEText\n",
    "from email.mime.multipart import MIMEMultipart\n",
    "\n",
    "smtp_server = 'smtp.gmail.com'\n",
    "port = 587  # For SSL\n",
    "sender_email = 'sqlagentservice@gmail.com'\n",
    "password = \"12345678910111213\"\n",
    "receiver_email = \"ajay.dwivedi2007@gmail.com\"  # Enter receiver address\n",
    "\n",
    "message = MIMEMultipart(\"alternative\")\n",
    "message[\"Subject\"] = \"Test Fancy Emails Using Python\"\n",
    "message[\"From\"] = sender_email\n",
    "message[\"To\"] = receiver_email\n",
    "\n",
    "# Create the plain-text and HTML version of your message\n",
    "text = \"\"\"\\\n",
    "Hi,\n",
    "How are you?\n",
    "Real Python has many great tutorials:\n",
    "www.realpython.com\"\"\"\n",
    "\n",
    "html = \"\"\"\\\n",
    "<html>\n",
    "  <body>\n",
    "    <p>Hi,<br>\n",
    "       How are you?<br>\n",
    "       <a href=\"http://www.realpython.com\">Real Python</a> \n",
    "       has many great tutorials.\n",
    "    </p>\n",
    "  </body>\n",
    "</html>\n",
    "\"\"\"\n",
    "\n",
    "# Turn these into plain/html MIMEText objects\n",
    "part1 = MIMEText(text, \"plain\")\n",
    "part2 = MIMEText(html, \"html\")\n",
    "\n",
    "# Add HTML/plain-text parts to MIMEMultipart message\n",
    "# The email client will try to render the last part first\n",
    "message.attach(part1)\n",
    "message.attach(part2)\n",
    "\n",
    "# Create secure connection with server and send email\n",
    "context = ssl.create_default_context()\n",
    "with smtplib.SMTP(smtp_server, port) as server:\n",
    "    server.starttls(context=context)\n",
    "    server.login(sender_email, password)\n",
    "    server.sendmail(\n",
    "        sender_email, receiver_email, message.as_string()\n",
    "    )"
   ]
  },
  {
   "cell_type": "markdown",
   "id": "a990c560-3e1a-4c46-99a6-5cc37787dfbb",
   "metadata": {},
   "source": [
    "## Sending Sample Mail Alert\n"
   ]
  },
  {
   "cell_type": "code",
   "execution_count": 35,
   "id": "695ac905-9703-4430-b360-6eb0c4b716b3",
   "metadata": {},
   "outputs": [],
   "source": [
    "mydict1 = {\"name\":\"Ajay\", \"age\":35, \"city\":\"rewa\"}\n",
    "mydict2 = dict(name='Anant', age=2, city='rewa')\n",
    "\n",
    "students = (    {'name':'ajay','age':35,'city':'rewa', 'allowed':'Yes'},\n",
    "                {'name':'anant','age':2,'city':'rewa', 'allowed':'No'}\n",
    "           )\n"
   ]
  },
  {
   "cell_type": "code",
   "execution_count": 39,
   "id": "3f091e77-39be-43de-a189-1aaa2f29d9a8",
   "metadata": {},
   "outputs": [
    {
     "name": "stdout",
     "output_type": "stream",
     "text": [
      "+-------+-----+------+---------+\n",
      "|  name | age | city | allowed |\n",
      "+-------+-----+------+---------+\n",
      "|  ajay |  35 | rewa |   Yes   |\n",
      "| anant |  2  | rewa |    No   |\n",
      "+-------+-----+------+---------+\n",
      "<table frame=\"box\" rules=\"cols\" id=\"alert_data_table\" class=\"alert_data_table\">\n",
      "    <thead>\n",
      "        <tr>\n",
      "            <th style=\"padding-left: 1em; padding-right: 1em; text-align: center\">name</th>\n",
      "            <th style=\"padding-left: 1em; padding-right: 1em; text-align: center\">age</th>\n",
      "            <th style=\"padding-left: 1em; padding-right: 1em; text-align: center\">city</th>\n",
      "            <th style=\"padding-left: 1em; padding-right: 1em; text-align: center\">allowed</th>\n",
      "        </tr>\n",
      "    </thead>\n",
      "    <tbody>\n",
      "        <tr>\n",
      "            <td style=\"padding-left: 1em; padding-right: 1em; text-align: center; vertical-align: top\">ajay</td>\n",
      "            <td style=\"padding-left: 1em; padding-right: 1em; text-align: center; vertical-align: top\">35</td>\n",
      "            <td style=\"padding-left: 1em; padding-right: 1em; text-align: center; vertical-align: top\">rewa</td>\n",
      "            <td style=\"padding-left: 1em; padding-right: 1em; text-align: center; vertical-align: top\">Yes</td>\n",
      "        </tr>\n",
      "        <tr>\n",
      "            <td style=\"padding-left: 1em; padding-right: 1em; text-align: center; vertical-align: top\">anant</td>\n",
      "            <td style=\"padding-left: 1em; padding-right: 1em; text-align: center; vertical-align: top\">2</td>\n",
      "            <td style=\"padding-left: 1em; padding-right: 1em; text-align: center; vertical-align: top\">rewa</td>\n",
      "            <td style=\"padding-left: 1em; padding-right: 1em; text-align: center; vertical-align: top\">No</td>\n",
      "        </tr>\n",
      "    </tbody>\n",
      "</table>\n"
     ]
    }
   ],
   "source": [
    "from prettytable import PrettyTable\n",
    "# https://pypi.org/project/prettytable/ \n",
    "# Setting HTML attributes\n",
    "\n",
    "def get_pretty_dictionary_tuples(my_dict_tuple):\n",
    "    pt = PrettyTable()\n",
    "    pt.field_names = list(my_dict_tuple[0].keys())\n",
    "    for my_dict in my_dict_tuple:\n",
    "        pt.add_row(list(my_dict.values()))\n",
    "\n",
    "    return pt\n",
    "\n",
    "pt = get_pretty_dictionary_tuples(students)\n",
    "\n",
    "print(pt)\n",
    "#print(pt.get_string())\n",
    "\n",
    "#table_html = pt.get_formatted_string('html')\n",
    "pt.format = True\n",
    "table_html = pt.get_html_string(attributes={\"id\":\"alert_data_table\", \"class\":\"alert_data_table\"})\n",
    "print(table_html)"
   ]
  },
  {
   "cell_type": "code",
   "execution_count": 41,
   "id": "0dcd6ae8-10ea-4caf-956e-4a902e8bc8f8",
   "metadata": {},
   "outputs": [
    {
     "name": "stdout",
     "output_type": "stream",
     "text": [
      "  sql_instance disk_volume  used_pct     state\n",
      "0        srv01         c:\\     75.68   Warning\n",
      "1        srv01         d:\\     77.34   Warning\n",
      "2        srv01         e:\\     85.74  Critical\n",
      "3        srv02         d:\\     90.21  Critical\n"
     ]
    }
   ],
   "source": [
    "import pandas as pd\n",
    " \n",
    "# intialise data of lists.\n",
    "data = {'sql_instance':['srv01', 'srv01', 'srv01', 'srv02'],\n",
    "        'disk_volume':['c:\\\\', 'd:\\\\', 'e:\\\\', 'd:\\\\'],\n",
    "        'used_pct':[75.68, 77.34, 85.74, 90.21],\n",
    "        'state': ['Warning', 'Warning', 'Critical', 'Critical']\n",
    "       }\n",
    " \n",
    "# Create DataFrame\n",
    "df = pd.DataFrame(data)\n",
    " \n",
    "# Print the output.\n",
    "print(df)"
   ]
  },
  {
   "cell_type": "markdown",
   "id": "dae58748-decd-4096-ac52-d19d107f82dd",
   "metadata": {},
   "source": [
    "### Beautiful html tables from pandas DataFrame using pretty-html-table\n",
    "https://pypi.org/project/pretty-html-table/"
   ]
  },
  {
   "cell_type": "code",
   "execution_count": 45,
   "id": "72333a49-45b2-437a-8c7c-4f08a10918cd",
   "metadata": {},
   "outputs": [],
   "source": [
    "from pretty_html_table import build_table\n",
    "\n",
    "table_html = build_table(df, 'blue_light')"
   ]
  },
  {
   "cell_type": "markdown",
   "id": "b63da85b-a2cb-4394-8a2d-81b7ba26c23a",
   "metadata": {},
   "source": [
    "### Beautiful html tables from pandas DataFrame using native support\n",
    "https://pandas.pydata.org/docs/reference/api/pandas.DataFrame.to_html.html\n",
    "#### Examples - Tutorials\n",
    "https://likegeeks.com/pandas-to-html-formatters/\n",
    "\n",
    "https://likegeeks.com/pandas-to-html/\n",
    "\n",
    "https://gist.github.com/evansde77/7dca86894a894190f0ea24ecef75ffa6"
   ]
  },
  {
   "cell_type": "code",
   "execution_count": 61,
   "id": "af4bf69f-4e18-42de-8a3a-5c1e60aeeaf9",
   "metadata": {},
   "outputs": [
    {
     "name": "stdout",
     "output_type": "stream",
     "text": [
      "<table border=\"1\" class=\"dataframe\">\n",
      "  <thead>\n",
      "    <tr style=\"text-align: right;\">\n",
      "      <th>sql_instance</th>\n",
      "      <th>disk_volume</th>\n",
      "      <th>used_pct</th>\n",
      "      <th>state</th>\n",
      "    </tr>\n",
      "  </thead>\n",
      "  <tbody>\n",
      "    <tr>\n",
      "      <td><b>srv01</b></td>\n",
      "      <td>c:\\</td>\n",
      "      <td>75,68</td>\n",
      "      <td>Warning</td>\n",
      "    </tr>\n",
      "    <tr>\n",
      "      <td><b>srv01</b></td>\n",
      "      <td>d:\\</td>\n",
      "      <td>77,34</td>\n",
      "      <td>Warning</td>\n",
      "    </tr>\n",
      "    <tr>\n",
      "      <td><b>srv01</b></td>\n",
      "      <td>e:\\</td>\n",
      "      <td>85,74</td>\n",
      "      <td>Critical</td>\n",
      "    </tr>\n",
      "    <tr>\n",
      "      <td><b>srv02</b></td>\n",
      "      <td>d:\\</td>\n",
      "      <td>90,21</td>\n",
      "      <td>Critical</td>\n",
      "    </tr>\n",
      "  </tbody>\n",
      "</table>\n"
     ]
    }
   ],
   "source": [
    "table_html = df.to_html()\n",
    "\n",
    "# choose specific columns, skip index & add class attribute to table\n",
    "table_html = df.to_html(columns=['sql_instance','disk_volume','used_pct','state'], classes='table table-stripped', index=False)\n",
    "\n",
    "# make sql_instance bold & add decimal separator\n",
    "table_html = df.to_html(formatters={'sql_instance': lambda x: f'<b>{x}</b>'}, index=False, escape=False, decimal=',')\n",
    "\n",
    "table_html = df.to_html(justify='center', formatters={'sql_instance': lambda x: f'<b>{x}</b>'}, index=False, escape=False, decimal=',')\n",
    "\n",
    "#table_html = table_html.replace('<tr>', '<tr align=\"center\">')\n",
    "print(table_html)"
   ]
  },
  {
   "cell_type": "code",
   "execution_count": 60,
   "id": "db176cd1-46f3-4740-992c-7080f4e15450",
   "metadata": {},
   "outputs": [],
   "source": [
    "import smtplib, ssl\n",
    "from email.mime.text import MIMEText\n",
    "from email.mime.multipart import MIMEMultipart\n",
    "\n",
    "smtp_server = 'smtp.gmail.com'\n",
    "port = 587  # For SSL\n",
    "sender_email = 'sqlagentservice@gmail.com'\n",
    "password = \"12345678910111213\"\n",
    "receiver_email = \"ajay.dwivedi2007@gmail.com\"  # Enter receiver address\n",
    "\n",
    "message = MIMEMultipart(\"alternative\")\n",
    "message[\"Subject\"] = \"Test Fancy Emails Using Python\"\n",
    "message[\"From\"] = sender_email\n",
    "message[\"To\"] = receiver_email\n",
    "\n",
    "# Create the plain-text and HTML version of your message\n",
    "text = \"\"\"\\\n",
    "Hi,\n",
    "How are you?\n",
    "Real Python has many great tutorials:\n",
    "www.realpython.com\"\"\"\n",
    "\n",
    "html = table_html\n",
    "\n",
    "# Turn these into plain/html MIMEText objects\n",
    "part1 = MIMEText(text, \"plain\")\n",
    "part2 = MIMEText(html, \"html\")\n",
    "\n",
    "# Add HTML/plain-text parts to MIMEMultipart message\n",
    "# The email client will try to render the last part first\n",
    "message.attach(part1)\n",
    "message.attach(part2)\n",
    "\n",
    "# Create secure connection with server and send email\n",
    "context = ssl.create_default_context()\n",
    "with smtplib.SMTP(smtp_server, port) as server:\n",
    "    server.starttls(context=context)\n",
    "    server.login(sender_email, password)\n",
    "    server.sendmail(\n",
    "        sender_email, receiver_email, message.as_string()\n",
    "    )"
   ]
  },
  {
   "cell_type": "code",
   "execution_count": 42,
   "id": "da6c30d1-537f-4b65-9063-513217a12bb5",
   "metadata": {},
   "outputs": [
    {
     "name": "stdout",
     "output_type": "stream",
     "text": [
      "Requirement already satisfied: pretty-html-table in /home/saanvi/anaconda3/lib/python3.11/site-packages (0.9.16)\n",
      "Requirement already satisfied: pandas in /home/saanvi/anaconda3/lib/python3.11/site-packages (from pretty-html-table) (2.1.4)\n",
      "Requirement already satisfied: numpy<2,>=1.23.2 in /home/saanvi/anaconda3/lib/python3.11/site-packages (from pandas->pretty-html-table) (1.26.4)\n",
      "Requirement already satisfied: python-dateutil>=2.8.2 in /home/saanvi/anaconda3/lib/python3.11/site-packages (from pandas->pretty-html-table) (2.8.2)\n",
      "Requirement already satisfied: pytz>=2020.1 in /home/saanvi/anaconda3/lib/python3.11/site-packages (from pandas->pretty-html-table) (2023.3.post1)\n",
      "Requirement already satisfied: tzdata>=2022.1 in /home/saanvi/anaconda3/lib/python3.11/site-packages (from pandas->pretty-html-table) (2023.3)\n",
      "Requirement already satisfied: six>=1.5 in /home/saanvi/anaconda3/lib/python3.11/site-packages (from python-dateutil>=2.8.2->pandas->pretty-html-table) (1.16.0)\n",
      "Note: you may need to restart the kernel to use updated packages.\n"
     ]
    }
   ],
   "source": []
  },
  {
   "cell_type": "code",
   "execution_count": null,
   "id": "c6e8ff44-646f-4913-9590-e3a0ef86bd4d",
   "metadata": {},
   "outputs": [],
   "source": []
  }
 ],
 "metadata": {
  "kernelspec": {
   "display_name": "Python 3 (ipykernel)",
   "language": "python",
   "name": "python3"
  },
  "language_info": {
   "codemirror_mode": {
    "name": "ipython",
    "version": 3
   },
   "file_extension": ".py",
   "mimetype": "text/x-python",
   "name": "python",
   "nbconvert_exporter": "python",
   "pygments_lexer": "ipython3",
   "version": "3.11.7"
  }
 },
 "nbformat": 4,
 "nbformat_minor": 5
}
