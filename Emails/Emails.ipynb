{
 "cells": [
  {
   "cell_type": "markdown",
   "id": "e9a35773-9c50-4783-abf5-1c78bbfda278",
   "metadata": {},
   "source": [
    "# Sending a Plain Text Email\n",
    "https://realpython.com/python-send-email/#sending-a-plain-text-email"
   ]
  },
  {
   "cell_type": "code",
   "execution_count": 4,
   "id": "93b1169b-82c9-4730-be75-17897f01c485",
   "metadata": {},
   "outputs": [],
   "source": [
    "import smtplib, ssl\n",
    "\n",
    "smtp_server = 'smtp.gmail.com'\n",
    "port = 587  # For SSL\n",
    "sender_email = 'sqlagentservice@gmail.com'\n",
    "password = \"12345678910111213\"\n",
    "receiver_email = \"ajay.dwivedi2007@gmail.com\"  # Enter receiver address\n",
    "\n",
    "message = \"\"\"\\\n",
    "Subject: Test Message Using Python\n",
    "\n",
    "This message is sent from Python.\"\"\"\n",
    "\n",
    "# Create a secure SSL context\n",
    "context = ssl.create_default_context()\n",
    "\n",
    "with smtplib.SMTP(smtp_server, port) as server:\n",
    "    server.ehlo()  # Can be omitted\n",
    "    server.starttls(context=context)\n",
    "    server.ehlo()  # Can be omitted\n",
    "    server.login(sender_email, password)\n",
    "    server.sendmail(sender_email, receiver_email, message)"
   ]
  },
  {
   "cell_type": "markdown",
   "id": "34e5d032-3895-49b1-b4f5-c7ec1699ad8e",
   "metadata": {},
   "source": [
    "# Sending Fancy Emails"
   ]
  },
  {
   "cell_type": "code",
   "execution_count": 8,
   "id": "f8c94af0-bc7a-429e-a0ad-c5746c16bd08",
   "metadata": {},
   "outputs": [],
   "source": [
    "import smtplib, ssl\n",
    "from email.mime.text import MIMEText\n",
    "from email.mime.multipart import MIMEMultipart\n",
    "\n",
    "smtp_server = 'smtp.gmail.com'\n",
    "port = 587  # For SSL\n",
    "sender_email = 'sqlagentservice@gmail.com'\n",
    "password = \"12345678910111213\"\n",
    "receiver_email = \"ajay.dwivedi2007@gmail.com\"  # Enter receiver address\n",
    "\n",
    "message = MIMEMultipart(\"alternative\")\n",
    "message[\"Subject\"] = \"Test Fancy Emails Using Python\"\n",
    "message[\"From\"] = sender_email\n",
    "message[\"To\"] = receiver_email\n",
    "\n",
    "# Create the plain-text and HTML version of your message\n",
    "text = \"\"\"\\\n",
    "Hi,\n",
    "How are you?\n",
    "Real Python has many great tutorials:\n",
    "www.realpython.com\"\"\"\n",
    "\n",
    "html = \"\"\"\\\n",
    "<html>\n",
    "  <body>\n",
    "    <p>Hi,<br>\n",
    "       How are you?<br>\n",
    "       <a href=\"http://www.realpython.com\">Real Python</a> \n",
    "       has many great tutorials.\n",
    "    </p>\n",
    "  </body>\n",
    "</html>\n",
    "\"\"\"\n",
    "\n",
    "# Turn these into plain/html MIMEText objects\n",
    "part1 = MIMEText(text, \"plain\")\n",
    "part2 = MIMEText(html, \"html\")\n",
    "\n",
    "# Add HTML/plain-text parts to MIMEMultipart message\n",
    "# The email client will try to render the last part first\n",
    "message.attach(part1)\n",
    "message.attach(part2)\n",
    "\n",
    "# Create secure connection with server and send email\n",
    "context = ssl.create_default_context()\n",
    "with smtplib.SMTP(smtp_server, port) as server:\n",
    "    server.starttls(context=context)\n",
    "    server.login(sender_email, password)\n",
    "    server.sendmail(\n",
    "        sender_email, receiver_email, message.as_string()\n",
    "    )"
   ]
  },
  {
   "cell_type": "code",
   "execution_count": null,
   "id": "a329b765-4602-43db-a899-5e37175b4a97",
   "metadata": {},
   "outputs": [],
   "source": []
  }
 ],
 "metadata": {
  "kernelspec": {
   "display_name": "Python 3 (ipykernel)",
   "language": "python",
   "name": "python3"
  },
  "language_info": {
   "codemirror_mode": {
    "name": "ipython",
    "version": 3
   },
   "file_extension": ".py",
   "mimetype": "text/x-python",
   "name": "python",
   "nbconvert_exporter": "python",
   "pygments_lexer": "ipython3",
   "version": "3.11.7"
  }
 },
 "nbformat": 4,
 "nbformat_minor": 5
}
