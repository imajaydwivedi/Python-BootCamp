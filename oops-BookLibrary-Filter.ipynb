{
 "metadata": {
  "language_info": {
   "codemirror_mode": {
    "name": "ipython",
    "version": 3
   },
   "file_extension": ".py",
   "mimetype": "text/x-python",
   "name": "python",
   "nbconvert_exporter": "python",
   "pygments_lexer": "ipython3",
   "version": "3.7.9-final"
  },
  "orig_nbformat": 2,
  "kernelspec": {
   "name": "python3",
   "display_name": "Python 3.7.9 64-bit",
   "metadata": {
    "interpreter": {
     "hash": "f96555c65546005596c986317d9b8fa031c125c3af4c3e44f4f443fbc5fc8752"
    }
   }
  }
 },
 "nbformat": 4,
 "nbformat_minor": 2,
 "cells": [
  {
   "cell_type": "code",
   "execution_count": 1,
   "metadata": {},
   "outputs": [],
   "source": [
    "class Book():\n",
    "    \"\"\"\n",
    "    DOCSTRING: Book blueprint\n",
    "    \"\"\"\n",
    "\n",
    "    def __init__(self,isbn,title,price):\n",
    "        self.isbn = isbn\n",
    "        self.title = title\n",
    "        self.price = price\n"
   ]
  },
  {
   "cell_type": "code",
   "execution_count": 2,
   "metadata": {},
   "outputs": [],
   "source": [
    "book1 = Book(isbn=\"20200101\",title='Clean code for Python',price=200.0)\n",
    "book2 = Book(isbn=\"20200201\",title='Python Programming',price=210.0)"
   ]
  },
  {
   "cell_type": "code",
   "execution_count": 3,
   "metadata": {},
   "outputs": [],
   "source": [
    "class BookLibrary():\n",
    "    \"\"\"\n",
    "    DOCSTRING: Catalog of books\n",
    "    \"\"\"\n",
    "    entities = []\n",
    "\n",
    "    def add(self,book):\n",
    "        BookLibrary.entities.append(book)\n",
    "    \n",
    "    def find(self,condition):\n",
    "        \"\"\"Search library for the given condition\"\"\"\n",
    "        return [book for book in BookLibrary.entities if condition(book)]\n"
   ]
  },
  {
   "cell_type": "code",
   "execution_count": 4,
   "metadata": {},
   "outputs": [],
   "source": [
    "lib = BookLibrary()"
   ]
  },
  {
   "cell_type": "code",
   "execution_count": 5,
   "metadata": {},
   "outputs": [],
   "source": [
    "lib.add(book1)\n",
    "lib.add(book2)"
   ]
  },
  {
   "cell_type": "code",
   "execution_count": 6,
   "metadata": {},
   "outputs": [
    {
     "output_type": "stream",
     "name": "stdout",
     "text": [
      "Clean code for Python\nPython Programming\n"
     ]
    }
   ],
   "source": [
    "for book in lib.entities:\n",
    "    print(book.title)"
   ]
  },
  {
   "cell_type": "code",
   "execution_count": 8,
   "metadata": {},
   "outputs": [
    {
     "output_type": "stream",
     "name": "stdout",
     "text": [
      "Python Programming\n"
     ]
    }
   ],
   "source": [
    "books = None\n",
    "books = lib.find(lambda book: book.isbn == \"20200201\")\n",
    "for book in books:\n",
    "    print(book.title)"
   ]
  },
  {
   "cell_type": "code",
   "execution_count": null,
   "metadata": {},
   "outputs": [],
   "source": []
  }
 ]
}