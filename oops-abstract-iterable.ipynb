{
 "metadata": {
  "language_info": {
   "codemirror_mode": {
    "name": "ipython",
    "version": 3
   },
   "file_extension": ".py",
   "mimetype": "text/x-python",
   "name": "python",
   "nbconvert_exporter": "python",
   "pygments_lexer": "ipython3",
   "version": "3.7.9-final"
  },
  "orig_nbformat": 2,
  "kernelspec": {
   "name": "python3",
   "display_name": "Python 3.7.9 64-bit",
   "metadata": {
    "interpreter": {
     "hash": "f96555c65546005596c986317d9b8fa031c125c3af4c3e44f4f443fbc5fc8752"
    }
   }
  }
 },
 "nbformat": 4,
 "nbformat_minor": 2,
 "cells": [
  {
   "cell_type": "code",
   "execution_count": 1,
   "metadata": {},
   "outputs": [],
   "source": [
    "class Book():\n",
    "    \"\"\"\n",
    "    DOCSTRING: Book blueprint\n",
    "    \"\"\"\n",
    "\n",
    "    def __init__(self,isbn,title,price):\n",
    "        self.isbn = isbn\n",
    "        self.title = title\n",
    "        self.price = price"
   ]
  },
  {
   "cell_type": "code",
   "execution_count": 2,
   "metadata": {},
   "outputs": [],
   "source": [
    "book1 = Book(isbn=\"20200101\",title='Clean code for Python',price=200.0)\n",
    "book2 = Book(isbn=\"20200201\",title='Python Programming',price=210.0)\n",
    "book3 = Book(isbn=\"2020001\",title='TSQL Programming',price=200.0)\n",
    "book4 = Book(isbn=\"20200401\",title='SQL Server',price=210.0)"
   ]
  },
  {
   "cell_type": "code",
   "execution_count": 3,
   "metadata": {},
   "outputs": [],
   "source": [
    "from abc import ABC, abstractmethod\n",
    "\n",
    "class IBookLibrary(ABC):\n",
    "    \n",
    "    @abstractmethod\n",
    "    def add(self,book):\n",
    "        pass\n",
    "\n",
    "    @abstractmethod\n",
    "    def find(self,condition):\n",
    "        pass\n",
    "\n",
    "    @abstractmethod\n",
    "    def __iter__(self):\n",
    "        pass\n",
    "\n",
    "    @abstractmethod\n",
    "    def __next__(self):\n",
    "        pass"
   ]
  },
  {
   "cell_type": "code",
   "execution_count": 4,
   "metadata": {},
   "outputs": [],
   "source": [
    "class BookLibrary(IBookLibrary):\n",
    "    \"\"\"\n",
    "    DOCSTRING: Catalog of books\n",
    "    \"\"\"\n",
    "    def __init__(self):\n",
    "        self.entities = []\n",
    "        self.current = -1\n",
    "\n",
    "    def add(self,book):\n",
    "        self.entities.append(book)\n",
    "    \n",
    "    def find(self,condition):\n",
    "        \"\"\"Search library for the given condition\"\"\"\n",
    "        return [book for book in self.entities if condition(book)]\n",
    "\n",
    "    def __iter__(self):\n",
    "        return self\n",
    "\n",
    "    def __next__(self):\n",
    "        index = self.current\n",
    "        if index >= len(self.entities):\n",
    "            raise StopIteration\n",
    "        else:\n",
    "            index += 1\n",
    "            self.current = index\n",
    "        return self.entities[index]"
   ]
  },
  {
   "cell_type": "code",
   "execution_count": 5,
   "metadata": {},
   "outputs": [],
   "source": [
    "lib = BookLibrary()"
   ]
  },
  {
   "cell_type": "code",
   "execution_count": 6,
   "metadata": {},
   "outputs": [],
   "source": [
    "lib.add(book1)\n",
    "lib.add(book2)\n",
    "lib.add(book3)\n",
    "lib.add(book4)"
   ]
  },
  {
   "cell_type": "code",
   "execution_count": 10,
   "metadata": {
    "tags": []
   },
   "outputs": [
    {
     "output_type": "stream",
     "name": "stdout",
     "text": [
      "SQL Server\n"
     ]
    }
   ],
   "source": [
    "book = next(lib)\n",
    "print(book.title)"
   ]
  },
  {
   "cell_type": "code",
   "execution_count": null,
   "metadata": {},
   "outputs": [],
   "source": []
  },
  {
   "cell_type": "code",
   "execution_count": null,
   "metadata": {},
   "outputs": [],
   "source": []
  }
 ]
}