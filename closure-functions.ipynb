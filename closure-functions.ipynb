{
 "metadata": {
  "language_info": {
   "codemirror_mode": {
    "name": "ipython",
    "version": 3
   },
   "file_extension": ".py",
   "mimetype": "text/x-python",
   "name": "python",
   "nbconvert_exporter": "python",
   "pygments_lexer": "ipython3",
   "version": "3.7.9-final"
  },
  "orig_nbformat": 2,
  "kernelspec": {
   "name": "python3",
   "display_name": "Python 3.7.9 64-bit",
   "metadata": {
    "interpreter": {
     "hash": "f96555c65546005596c986317d9b8fa031c125c3af4c3e44f4f443fbc5fc8752"
    }
   }
  }
 },
 "nbformat": 4,
 "nbformat_minor": 2,
 "cells": [
  {
   "source": [
    "## Closure\n",
    "`Closure is a function that has a nexted function defined inside, and returns the nested function`"
   ],
   "cell_type": "markdown",
   "metadata": {}
  },
  {
   "cell_type": "code",
   "execution_count": 5,
   "metadata": {},
   "outputs": [],
   "source": [
    "def calculate(a: int, b: int) -> int:\n",
    "    def add():\n",
    "        return a+b\n",
    "    def multiply():\n",
    "        return a*b\n",
    "    def subtract():\n",
    "        return a-b\n",
    "    def divide():\n",
    "        return a/b\n",
    "    def modulus():\n",
    "        return a%b\n",
    "    \n",
    "    return add,multiply,subtract,divide,modulus"
   ]
  },
  {
   "cell_type": "code",
   "execution_count": 6,
   "metadata": {},
   "outputs": [],
   "source": [
    "add,multiply,subtract,divide,modulus = calculate(30,7)"
   ]
  },
  {
   "cell_type": "code",
   "execution_count": 7,
   "metadata": {},
   "outputs": [
    {
     "output_type": "stream",
     "name": "stdout",
     "text": [
      "37\n210\n"
     ]
    }
   ],
   "source": [
    "print(add())\n",
    "print(multiply())"
   ]
  },
  {
   "cell_type": "code",
   "execution_count": null,
   "metadata": {},
   "outputs": [],
   "source": []
  }
 ]
}