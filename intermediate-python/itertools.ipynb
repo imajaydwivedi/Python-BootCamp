{
 "cells": [
  {
   "cell_type": "markdown",
   "id": "75581513",
   "metadata": {},
   "source": [
    "# itertools: \n",
    "   ## product, permutations, combinations, accumulate, groupby,  and infinite iterators"
   ]
  },
  {
   "cell_type": "markdown",
   "id": "a030db9c",
   "metadata": {},
   "source": [
    "## product"
   ]
  },
  {
   "cell_type": "code",
   "execution_count": 2,
   "id": "d7fd2edb",
   "metadata": {},
   "outputs": [
    {
     "name": "stdout",
     "output_type": "stream",
     "text": [
      "[(1, 3), (1, 4), (2, 3), (2, 4)]\n"
     ]
    }
   ],
   "source": [
    "from itertools import product\n",
    "\n",
    "a = [1, 2]\n",
    "b = [3, 4] \n",
    "\n",
    "prod = product(a,b)\n",
    "\n",
    "print(list(prod))"
   ]
  },
  {
   "cell_type": "markdown",
   "id": "04c88e0f",
   "metadata": {},
   "source": [
    "## permutations\n"
   ]
  },
  {
   "cell_type": "code",
   "execution_count": 3,
   "id": "824428c8",
   "metadata": {},
   "outputs": [
    {
     "name": "stdout",
     "output_type": "stream",
     "text": [
      "[(1, 2, 3), (1, 3, 2), (2, 1, 3), (2, 3, 1), (3, 1, 2), (3, 2, 1)]\n"
     ]
    }
   ],
   "source": [
    "from itertools import permutations\n",
    "\n",
    "a = [1, 2, 3]\n",
    "perm = permutations(a)\n",
    "\n",
    "print(list(perm))"
   ]
  },
  {
   "cell_type": "code",
   "execution_count": 4,
   "id": "349ac9e9",
   "metadata": {},
   "outputs": [
    {
     "name": "stdout",
     "output_type": "stream",
     "text": [
      "[(1, 2), (1, 3), (2, 1), (2, 3), (3, 1), (3, 2)]\n"
     ]
    }
   ],
   "source": [
    "from itertools import permutations\n",
    "\n",
    "a = [1, 2, 3]\n",
    "perm = permutations(a,2)\n",
    "\n",
    "print(list(perm))"
   ]
  },
  {
   "cell_type": "markdown",
   "id": "27ca2b26",
   "metadata": {},
   "source": [
    "## combinations"
   ]
  },
  {
   "cell_type": "code",
   "execution_count": 5,
   "id": "e4bde3fa",
   "metadata": {},
   "outputs": [
    {
     "name": "stdout",
     "output_type": "stream",
     "text": [
      "[(1, 2), (1, 3), (1, 4), (2, 3), (2, 4), (3, 4)]\n"
     ]
    }
   ],
   "source": [
    "from itertools import combinations\n",
    "\n",
    "a = [1, 2, 3, 4]\n",
    "comb = combinations(a,2)\n",
    "\n",
    "print(list(comb))"
   ]
  },
  {
   "cell_type": "markdown",
   "id": "51873964",
   "metadata": {},
   "source": [
    "## accumulate"
   ]
  },
  {
   "cell_type": "code",
   "execution_count": 6,
   "id": "1c87309e",
   "metadata": {},
   "outputs": [
    {
     "name": "stdout",
     "output_type": "stream",
     "text": [
      "[1, 2, 3, 4]\n",
      "[1, 3, 6, 10]\n"
     ]
    }
   ],
   "source": [
    "from itertools import accumulate\n",
    "\n",
    "a = [1, 2, 3, 4]\n",
    "acc = accumulate(a)\n",
    "\n",
    "print(a)\n",
    "print(list(acc))"
   ]
  },
  {
   "cell_type": "code",
   "execution_count": 9,
   "id": "92eccbdb",
   "metadata": {
    "scrolled": true
   },
   "outputs": [
    {
     "name": "stdout",
     "output_type": "stream",
     "text": [
      "[1, 2, 5, 3, 4]\n",
      "[1, 2, 10, 30, 120]\n"
     ]
    }
   ],
   "source": [
    "from itertools import accumulate\n",
    "import operator\n",
    "\n",
    "a = [1, 2, 5, 3, 4]\n",
    "#acc = accumulate(a, func=max)\n",
    "acc = accumulate(a, func=operator.mul)\n",
    "\n",
    "print(a)\n",
    "print(list(acc))"
   ]
  },
  {
   "cell_type": "markdown",
   "id": "63fce149",
   "metadata": {},
   "source": [
    "## groupby"
   ]
  },
  {
   "cell_type": "code",
   "execution_count": 6,
   "id": "d3eda15f",
   "metadata": {},
   "outputs": [
    {
     "name": "stdout",
     "output_type": "stream",
     "text": [
      "True [1, 2]\n",
      "False [3, 4]\n",
      "True [1, 2]\n",
      "False [3, 4]\n"
     ]
    }
   ],
   "source": [
    "from itertools import groupby\n",
    "\n",
    "a = [1, 2, 3, 4]\n",
    "\n",
    "# Using custom function\n",
    "def smaller_than_3(x):\n",
    "    return x < 3\n",
    "\n",
    "group_obj = groupby(a, key=smaller_than_3)\n",
    "for key, value in group_obj:\n",
    "    print(key, list(value))\n",
    "    \n",
    "# Using Lambda Function\n",
    "group_obj = groupby(a, key=lambda x: x<3)\n",
    "\n",
    "for key, value in group_obj:\n",
    "    print(key, list(value))"
   ]
  },
  {
   "cell_type": "code",
   "execution_count": 11,
   "id": "da8038a2",
   "metadata": {},
   "outputs": [
    {
     "name": "stdout",
     "output_type": "stream",
     "text": [
      "35 [{'name': 'Ajay', 'age': 35}]\n",
      "32 [{'name': 'Priti', 'age': 32}]\n",
      "35 [{'name': 'Shaurya', 'age': 35}]\n",
      "32 [{'name': 'Shweta', 'age': 32}]\n",
      "Adult [{'name': 'Ajay', 'age': 35}, {'name': 'Priti', 'age': 32}]\n",
      "Child [{'name': 'Anant', 'age': 2}, {'name': 'Saanvi', 'age': 5}]\n"
     ]
    }
   ],
   "source": [
    "from itertools import groupby\n",
    "\n",
    "# Simple example\n",
    "persons = [{'name': 'Ajay', 'age':35}, {'name': 'Priti', 'age':32}, {'name': 'Shaurya', 'age':35}, {'name': 'Shweta', 'age':32}]\n",
    "\n",
    "group_obj = groupby(persons, key=lambda x: x['age'])\n",
    "for key, value in group_obj:\n",
    "    print(key, list(value))\n",
    "    \n",
    "# Complex example\n",
    "persons = [{'name': 'Ajay', 'age':35}, {'name': 'Priti', 'age':32}, {'name': 'Anant', 'age':2}, {'name': 'Saanvi', 'age':5}]\n",
    "\n",
    "group_obj = groupby(persons, key=lambda person: 'Adult' if person['age'] >= 18 else 'Child')\n",
    "for key, value in group_obj:\n",
    "    print(key, list(value))"
   ]
  },
  {
   "cell_type": "code",
   "execution_count": 3,
   "id": "03ba7777",
   "metadata": {},
   "outputs": [
    {
     "name": "stdout",
     "output_type": "stream",
     "text": [
      "Adult [{'name': 'Ajay', 'age': 35}, {'name': 'Priti', 'age': 32}]\n",
      "Child [{'name': 'Anant', 'age': 2}, {'name': 'Saanvi', 'age': 5}]\n"
     ]
    }
   ],
   "source": [
    "from itertools import groupby\n",
    "\n",
    "def is_adult(person):\n",
    "    if person['age'] >= 18:\n",
    "        return 'Adult'\n",
    "    else:\n",
    "        return 'Child'\n",
    "\n",
    "persons = [{'name': 'Ajay', 'age':35}, {'name': 'Priti', 'age':32}, {'name': 'Anant', 'age':2}, {'name': 'Saanvi', 'age':5}]\n",
    "\n",
    "group_obj = groupby(persons, key=is_adult)\n",
    "for key, value in group_obj:\n",
    "    print(key, list(value))"
   ]
  },
  {
   "cell_type": "markdown",
   "id": "8686040a",
   "metadata": {},
   "source": [
    "## count, cycle, repeat"
   ]
  },
  {
   "cell_type": "code",
   "execution_count": 12,
   "id": "394c2b37",
   "metadata": {},
   "outputs": [
    {
     "name": "stdout",
     "output_type": "stream",
     "text": [
      "10\n",
      "11\n",
      "12\n",
      "13\n",
      "14\n",
      "15\n"
     ]
    }
   ],
   "source": [
    "from itertools import count, cycle, repeat\n",
    "\n",
    "for i in count(10):\n",
    "    print(i)\n",
    "    \n",
    "    if i == 15:\n",
    "        break;"
   ]
  },
  {
   "cell_type": "code",
   "execution_count": 13,
   "id": "6f3c4bad",
   "metadata": {},
   "outputs": [
    {
     "ename": "TypeError",
     "evalue": "cycle expected 1 argument, got 2",
     "output_type": "error",
     "traceback": [
      "\u001b[0;31m---------------------------------------------------------------------------\u001b[0m",
      "\u001b[0;31mTypeError\u001b[0m                                 Traceback (most recent call last)",
      "\u001b[0;32m/tmp/ipykernel_305161/1501321637.py\u001b[0m in \u001b[0;36m<module>\u001b[0;34m\u001b[0m\n\u001b[1;32m      2\u001b[0m \u001b[0;34m\u001b[0m\u001b[0m\n\u001b[1;32m      3\u001b[0m \u001b[0ma\u001b[0m \u001b[0;34m=\u001b[0m \u001b[0;34m[\u001b[0m\u001b[0;36m1\u001b[0m\u001b[0;34m,\u001b[0m \u001b[0;36m2\u001b[0m\u001b[0;34m,\u001b[0m \u001b[0;36m3\u001b[0m\u001b[0;34m]\u001b[0m\u001b[0;34m\u001b[0m\u001b[0;34m\u001b[0m\u001b[0m\n\u001b[0;32m----> 4\u001b[0;31m \u001b[0;32mfor\u001b[0m \u001b[0mi\u001b[0m \u001b[0;32min\u001b[0m \u001b[0mcycle\u001b[0m\u001b[0;34m(\u001b[0m\u001b[0ma\u001b[0m\u001b[0;34m,\u001b[0m \u001b[0;36m2\u001b[0m\u001b[0;34m)\u001b[0m\u001b[0;34m:\u001b[0m\u001b[0;34m\u001b[0m\u001b[0;34m\u001b[0m\u001b[0m\n\u001b[0m\u001b[1;32m      5\u001b[0m     \u001b[0mprint\u001b[0m\u001b[0;34m(\u001b[0m\u001b[0mi\u001b[0m\u001b[0;34m)\u001b[0m\u001b[0;34m\u001b[0m\u001b[0;34m\u001b[0m\u001b[0m\n",
      "\u001b[0;31mTypeError\u001b[0m: cycle expected 1 argument, got 2"
     ]
    }
   ],
   "source": [
    "from itertools import count, cycle, repeat\n",
    "\n",
    "a = [1, 2, 3]\n",
    "for i in cycle(a, 2):\n",
    "    print(i)"
   ]
  },
  {
   "cell_type": "code",
   "execution_count": 14,
   "id": "6b4abb94",
   "metadata": {},
   "outputs": [
    {
     "name": "stdout",
     "output_type": "stream",
     "text": [
      "[1, 2, 3]\n",
      "[1, 2, 3]\n"
     ]
    }
   ],
   "source": [
    "from itertools import count, cycle, repeat\n",
    "\n",
    "a = [1, 2, 3]\n",
    "for i in repeat(a, 2):\n",
    "    print(i)"
   ]
  },
  {
   "cell_type": "code",
   "execution_count": null,
   "id": "1b8a76da",
   "metadata": {},
   "outputs": [],
   "source": []
  }
 ],
 "metadata": {
  "kernelspec": {
   "display_name": "Python 3 (ipykernel)",
   "language": "python",
   "name": "python3"
  },
  "language_info": {
   "codemirror_mode": {
    "name": "ipython",
    "version": 3
   },
   "file_extension": ".py",
   "mimetype": "text/x-python",
   "name": "python",
   "nbconvert_exporter": "python",
   "pygments_lexer": "ipython3",
   "version": "3.9.7"
  }
 },
 "nbformat": 4,
 "nbformat_minor": 5
}
