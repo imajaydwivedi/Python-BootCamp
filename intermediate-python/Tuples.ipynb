{
 "cells": [
  {
   "cell_type": "markdown",
   "id": "8b3d2d41",
   "metadata": {},
   "source": [
    "# Tuples\n",
    "\n",
    "Tuple: ordered, immutable, allows duplicate elements"
   ]
  },
  {
   "cell_type": "code",
   "execution_count": 2,
   "id": "58f7a97b",
   "metadata": {},
   "outputs": [
    {
     "name": "stdout",
     "output_type": "stream",
     "text": [
      "('Ajay', 32, 'Hyderabad')\n"
     ]
    }
   ],
   "source": [
    "mytuple = (\"Ajay\", 32, \"Hyderabad\")\n",
    "print(mytuple)"
   ]
  },
  {
   "cell_type": "code",
   "execution_count": 3,
   "id": "f217eb02",
   "metadata": {},
   "outputs": [
    {
     "name": "stdout",
     "output_type": "stream",
     "text": [
      "Ajay\n"
     ]
    }
   ],
   "source": [
    "print(mytuple[0])"
   ]
  },
  {
   "cell_type": "code",
   "execution_count": 4,
   "id": "0c4c1e19",
   "metadata": {},
   "outputs": [
    {
     "ename": "TypeError",
     "evalue": "'tuple' object does not support item assignment",
     "output_type": "error",
     "traceback": [
      "\u001b[0;31m---------------------------------------------------------------------------\u001b[0m",
      "\u001b[0;31mTypeError\u001b[0m                                 Traceback (most recent call last)",
      "\u001b[0;32m/tmp/ipykernel_708646/2842275024.py\u001b[0m in \u001b[0;36m<module>\u001b[0;34m\u001b[0m\n\u001b[0;32m----> 1\u001b[0;31m \u001b[0mmytuple\u001b[0m\u001b[0;34m[\u001b[0m\u001b[0;36m0\u001b[0m\u001b[0;34m]\u001b[0m \u001b[0;34m=\u001b[0m \u001b[0;34m\"Gaurav\"\u001b[0m\u001b[0;34m\u001b[0m\u001b[0;34m\u001b[0m\u001b[0m\n\u001b[0m",
      "\u001b[0;31mTypeError\u001b[0m: 'tuple' object does not support item assignment"
     ]
    }
   ],
   "source": [
    "mytuple[0] = \"Gaurav\""
   ]
  },
  {
   "cell_type": "code",
   "execution_count": 7,
   "id": "20825b58",
   "metadata": {},
   "outputs": [
    {
     "name": "stdout",
     "output_type": "stream",
     "text": [
      "Ajay\n",
      "('Ajay',)\n"
     ]
    }
   ],
   "source": [
    "mytuple = (\"Ajay\")\n",
    "print(mytuple)\n",
    "\n",
    "mytuple = (\"Ajay\",)\n",
    "print(mytuple)"
   ]
  },
  {
   "cell_type": "code",
   "execution_count": 8,
   "id": "9881a72d",
   "metadata": {},
   "outputs": [
    {
     "name": "stdout",
     "output_type": "stream",
     "text": [
      "('Ajay', 32, 'Hyderabad')\n",
      "Yes\n"
     ]
    }
   ],
   "source": [
    "mytuple = (\"Ajay\", 32, \"Hyderabad\")\n",
    "print(mytuple)\n",
    "\n",
    "if \"Ajay\" in mytuple:\n",
    "    print(\"Yes\")\n",
    "else:\n",
    "    print(\"No\")"
   ]
  },
  {
   "cell_type": "code",
   "execution_count": 11,
   "id": "e9a24c06",
   "metadata": {},
   "outputs": [],
   "source": [
    "mytuple = ('a','p','p','l','e')"
   ]
  },
  {
   "cell_type": "code",
   "execution_count": 12,
   "id": "ee027668",
   "metadata": {},
   "outputs": [
    {
     "data": {
      "text/plain": [
       "5"
      ]
     },
     "execution_count": 12,
     "metadata": {},
     "output_type": "execute_result"
    }
   ],
   "source": [
    "\n",
    "@sumanchabri8607\n",
    "1 day ago\n",
    "24 percent CAGR is very difficult..\n",
    "I think he was lucky for covid..\n",
    "I will follow him definitely if he makes same len(mytuple)"
   ]
  },
  {
   "cell_type": "code",
   "execution_count": 14,
   "id": "41311513",
   "metadata": {},
   "outputs": [
    {
     "data": {
      "text/plain": [
       "2"
      ]
     },
     "execution_count": 14,
     "metadata": {},
     "output_type": "execute_result"
    }
   ],
   "source": [
    "mytuple.count('p')"
   ]
  },
  {
   "cell_type": "code",
   "execution_count": 15,
   "id": "34cef186",
   "metadata": {},
   "outputs": [
    {
     "data": {
      "text/plain": [
       "1"
      ]
     },
     "execution_count": 15,
     "metadata": {},
     "output_type": "execute_result"
    }
   ],
   "source": [
    "mytuple.index('p')"
   ]
  },
  {
   "cell_type": "code",
   "execution_count": 16,
   "id": "57b16dc8",
   "metadata": {},
   "outputs": [
    {
     "data": {
      "text/plain": [
       "['a', 'p', 'p', 'l', 'e']"
      ]
     },
     "execution_count": 16,
     "metadata": {},
     "output_type": "execute_result"
    }
   ],
   "source": [
    "my_list = list(mytuple)\n",
    "my_list"
   ]
  },
  {
   "cell_type": "markdown",
   "id": "780cb94b",
   "metadata": {},
   "source": [
    "### Tuple Unpacking"
   ]
  },
  {
   "cell_type": "code",
   "execution_count": 1,
   "id": "7c5de6db",
   "metadata": {},
   "outputs": [
    {
     "name": "stdout",
     "output_type": "stream",
     "text": [
      "Ajay is 32 years old and lives in Hyderabad\n"
     ]
    }
   ],
   "source": [
    "my_tuple = \"Ajay\", 32, \"Hyderabad\"\n",
    "\n",
    "name, age,city = my_tuple\n",
    "print(f\"{name} is {age} years old and lives in {city}\")"
   ]
  },
  {
   "cell_type": "code",
   "execution_count": 2,
   "id": "31bc2f05",
   "metadata": {},
   "outputs": [
    {
     "data": {
      "text/plain": [
       "tuple"
      ]
     },
     "execution_count": 2,
     "metadata": {},
     "output_type": "execute_result"
    }
   ],
   "source": [
    "type(my_tuple)"
   ]
  },
  {
   "cell_type": "markdown",
   "id": "5009a08f",
   "metadata": {},
   "source": [
    "### Size"
   ]
  },
  {
   "cell_type": "code",
   "execution_count": 2,
   "id": "9465169e",
   "metadata": {},
   "outputs": [
    {
     "name": "stdout",
     "output_type": "stream",
     "text": [
      "120 bytes\n",
      "80 bytes\n"
     ]
    }
   ],
   "source": [
    "import sys\n",
    "\n",
    "my_list = [0,1,2,\"hello\",True]\n",
    "my_tuple = (0,1,2,\"hello\",True)\n",
    "\n",
    "print(sys.getsizeof(my_list), \"bytes\")\n",
    "print(sys.getsizeof(my_tuple), \"bytes\")"
   ]
  },
  {
   "cell_type": "markdown",
   "id": "90e8d717",
   "metadata": {},
   "source": [
    "### Time"
   ]
  },
  {
   "cell_type": "code",
   "execution_count": 5,
   "id": "df686c1d",
   "metadata": {},
   "outputs": [
    {
     "name": "stdout",
     "output_type": "stream",
     "text": [
      "0.3347174520022236\n",
      "0.046644034002383705\n"
     ]
    }
   ],
   "source": [
    "import timeit\n",
    "\n",
    "print(timeit.timeit(stmt=\"[0,1,2,3,4,5]\", number=10000000))\n",
    "print(timeit.timeit(stmt=\"(0,1,2,3,4,5)\", number=10000000))"
   ]
  },
  {
   "cell_type": "code",
   "execution_count": null,
   "id": "ab0be710",
   "metadata": {},
   "outputs": [],
   "source": []
  }
 ],
 "metadata": {
  "kernelspec": {
   "display_name": "Python 3 (ipykernel)",
   "language": "python",
   "name": "python3"
  },
  "language_info": {
   "codemirror_mode": {
    "name": "ipython",
    "version": 3
   },
   "file_extension": ".py",
   "mimetype": "text/x-python",
   "name": "python",
   "nbconvert_exporter": "python",
   "pygments_lexer": "ipython3",
   "version": "3.9.13"
  }
 },
 "nbformat": 4,
 "nbformat_minor": 5
}
