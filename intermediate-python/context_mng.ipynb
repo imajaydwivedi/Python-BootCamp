{
 "cells": [
  {
   "cell_type": "code",
   "execution_count": 2,
   "id": "f0ce9a7e",
   "metadata": {},
   "outputs": [
    {
     "name": "stdout",
     "output_type": "stream",
     "text": [
      "some todoo...\n"
     ]
    }
   ],
   "source": [
    "with open('notes.txt','w') as file:\n",
    "    file.write('some todoo...')\n",
    "    \n",
    "with open('notes.txt','r') as file:\n",
    "    print(file.read())"
   ]
  },
  {
   "cell_type": "code",
   "execution_count": 3,
   "id": "5429efe5",
   "metadata": {},
   "outputs": [],
   "source": [
    "from threading import Lock\n",
    "\n",
    "lock = Lock()\n",
    "\n",
    "with lock:\n",
    "    shared_resource = 'Some value'"
   ]
  },
  {
   "cell_type": "code",
   "execution_count": 4,
   "id": "02fca17b",
   "metadata": {},
   "outputs": [
    {
     "name": "stdout",
     "output_type": "stream",
     "text": [
      "init\n",
      "enter\n",
      "do some stuff...\n",
      "exit\n"
     ]
    }
   ],
   "source": [
    "# Class based Context Manager\n",
    "class ManagedFile:\n",
    "    def __init__(self, filename):\n",
    "        print('init')\n",
    "        self.filename = filename\n",
    "        \n",
    "    def __enter__(self):\n",
    "        print('enter')\n",
    "        self.file = open(self.filename, 'w')\n",
    "        return self.file\n",
    "    \n",
    "    def __exit__(self, exc_type, exc_value, exc_traceback):\n",
    "        if self.file:\n",
    "            self.file.close()\n",
    "        print('exit')\n",
    "        \n",
    "\n",
    "with ManagedFile('notes.txt') as file:\n",
    "    print('do some stuff...')\n",
    "    file.write('some todooo...')"
   ]
  },
  {
   "cell_type": "code",
   "execution_count": 7,
   "id": "4f46f850",
   "metadata": {},
   "outputs": [
    {
     "name": "stdout",
     "output_type": "stream",
     "text": [
      "init\n",
      "enter\n",
      "do some stuff...\n",
      "exception has been handled\n",
      "exit\n",
      "continuing..\n"
     ]
    }
   ],
   "source": [
    "# Class based Context Manager with Exception Handling\n",
    "class ManagedFile:\n",
    "    def __init__(self, filename):\n",
    "        print('init')\n",
    "        self.filename = filename\n",
    "        \n",
    "    def __enter__(self):\n",
    "        print('enter')\n",
    "        self.file = open(self.filename, 'w')\n",
    "        return self.file\n",
    "    \n",
    "    def __exit__(self, exc_type, exc_value, exc_traceback):\n",
    "        if self.file:\n",
    "            self.file.close()\n",
    "        if exc_type is not None:\n",
    "            print('exception has been handled')\n",
    "        #print('Exception: ',exc_type, exc_value)\n",
    "        print('exit')\n",
    "        return True\n",
    "        \n",
    "\n",
    "with ManagedFile('notes.txt') as file:\n",
    "    print('do some stuff...')\n",
    "    file.write('some todooo...')\n",
    "    file.somemethod()\n",
    "    \n",
    "print('continuing..')"
   ]
  },
  {
   "cell_type": "code",
   "execution_count": 8,
   "id": "aeb95ce7",
   "metadata": {},
   "outputs": [],
   "source": [
    "# Function based Context Manager\n",
    "from contextlib import contextmanager\n",
    "\n",
    "@contextmanager\n",
    "def open_managed_file(filename):\n",
    "    f = open(filename, 'w')\n",
    "    try:\n",
    "        yield f\n",
    "    finally:\n",
    "        f.close()\n",
    "        \n",
    "with open_managed_file('notes.txt') as f:\n",
    "    f.write('some todoo...')"
   ]
  },
  {
   "cell_type": "code",
   "execution_count": null,
   "id": "76504575",
   "metadata": {},
   "outputs": [],
   "source": []
  }
 ],
 "metadata": {
  "kernelspec": {
   "display_name": "Python 3 (ipykernel)",
   "language": "python",
   "name": "python3"
  },
  "language_info": {
   "codemirror_mode": {
    "name": "ipython",
    "version": 3
   },
   "file_extension": ".py",
   "mimetype": "text/x-python",
   "name": "python",
   "nbconvert_exporter": "python",
   "pygments_lexer": "ipython3",
   "version": "3.9.7"
  }
 },
 "nbformat": 4,
 "nbformat_minor": 5
}
