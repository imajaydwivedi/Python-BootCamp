{
 "cells": [
  {
   "cell_type": "markdown",
   "id": "3d7a725c",
   "metadata": {},
   "source": [
    "# Strings: ordered, immutable, text representation"
   ]
  },
  {
   "cell_type": "code",
   "execution_count": 2,
   "id": "dac4b569",
   "metadata": {},
   "outputs": [
    {
     "name": "stdout",
     "output_type": "stream",
     "text": [
      "['how', 'are', 'you', 'doing']\n"
     ]
    }
   ],
   "source": [
    "my_string = \"how,are,you,doing\"\n",
    "my_list = my_string.split(',')\n",
    "\n",
    "print(my_list)"
   ]
  },
  {
   "cell_type": "code",
   "execution_count": 3,
   "id": "effa8f0f",
   "metadata": {},
   "outputs": [
    {
     "name": "stdout",
     "output_type": "stream",
     "text": [
      "how are you doing\n"
     ]
    }
   ],
   "source": [
    "new_string = ' '.join(my_list)\n",
    "\n",
    "print(new_string)"
   ]
  },
  {
   "cell_type": "code",
   "execution_count": 4,
   "id": "af81e2cc",
   "metadata": {},
   "outputs": [
    {
     "name": "stdout",
     "output_type": "stream",
     "text": [
      "['a', 'a', 'a', 'a', 'a', 'a']\n"
     ]
    }
   ],
   "source": [
    "my_list = ['a'] * 6\n",
    "\n",
    "print(my_list)"
   ]
  },
  {
   "cell_type": "code",
   "execution_count": 6,
   "id": "8ba89b26",
   "metadata": {},
   "outputs": [
    {
     "name": "stdout",
     "output_type": "stream",
     "text": [
      "aaaaaa\n"
     ]
    }
   ],
   "source": [
    "# bad\n",
    "my_string = ''\n",
    "for i in my_list:\n",
    "    my_string += i\n",
    "\n",
    "print(my_string)"
   ]
  },
  {
   "cell_type": "code",
   "execution_count": 7,
   "id": "f38c99ec",
   "metadata": {},
   "outputs": [
    {
     "name": "stdout",
     "output_type": "stream",
     "text": [
      "aaaaaa\n"
     ]
    }
   ],
   "source": [
    "# good\n",
    "my_string = ''.join(my_list)\n",
    "\n",
    "print(my_string)"
   ]
  },
  {
   "cell_type": "code",
   "execution_count": 10,
   "id": "8ef3af8f",
   "metadata": {},
   "outputs": [
    {
     "name": "stdout",
     "output_type": "stream",
     "text": [
      "0.08718096300435718\n"
     ]
    }
   ],
   "source": [
    "# bad\n",
    "from timeit import default_timer as timer\n",
    "\n",
    "my_list= ['a'] * 1000000\n",
    "\n",
    "start = timer()\n",
    "my_string = ''\n",
    "for i in my_list:\n",
    "    my_string += i\n",
    "stop = timer()\n",
    "\n",
    "print(stop-start)"
   ]
  },
  {
   "cell_type": "code",
   "execution_count": 11,
   "id": "4ad39d3d",
   "metadata": {},
   "outputs": [
    {
     "name": "stdout",
     "output_type": "stream",
     "text": [
      "0.005586838000454009\n"
     ]
    }
   ],
   "source": [
    "# good\n",
    "from timeit import default_timer as timer\n",
    "\n",
    "my_list= ['a'] * 1000000\n",
    "\n",
    "start = timer()\n",
    "my_string = ''.join(my_list)\n",
    "stop = timer()\n",
    "\n",
    "print(stop-start)"
   ]
  },
  {
   "cell_type": "markdown",
   "id": "2820c115",
   "metadata": {},
   "source": [
    "## Formatting Strings\n",
    "\n",
    "%, .format(), f-Strings"
   ]
  },
  {
   "cell_type": "code",
   "execution_count": 14,
   "id": "d4dd09a1",
   "metadata": {
    "scrolled": true
   },
   "outputs": [
    {
     "name": "stdout",
     "output_type": "stream",
     "text": [
      "the name is Ajay\n"
     ]
    }
   ],
   "source": [
    "name = \"Ajay\"\n",
    "age = 35\n",
    "my_string = \"the name is %s\" % name\n",
    "print(my_string)"
   ]
  },
  {
   "cell_type": "code",
   "execution_count": 16,
   "id": "801716f6",
   "metadata": {},
   "outputs": [
    {
     "name": "stdout",
     "output_type": "stream",
     "text": [
      "the name is Ajay and age is 35.2\n"
     ]
    }
   ],
   "source": [
    "name = \"Ajay\"\n",
    "age = 35.2\n",
    "my_string = \"the name is {} and age is {}\".format(name,age)\n",
    "print(my_string)"
   ]
  },
  {
   "cell_type": "code",
   "execution_count": 17,
   "id": "a4b0a4eb",
   "metadata": {
    "scrolled": true
   },
   "outputs": [
    {
     "name": "stdout",
     "output_type": "stream",
     "text": [
      "the name is Ajay and age is 35.2\n"
     ]
    }
   ],
   "source": [
    "name = \"Ajay\"\n",
    "age = 35.2\n",
    "my_string = f\"the name is {name} and age is {age}\"\n",
    "print(my_string)"
   ]
  },
  {
   "cell_type": "code",
   "execution_count": null,
   "id": "4d40085b",
   "metadata": {},
   "outputs": [],
   "source": []
  }
 ],
 "metadata": {
  "kernelspec": {
   "display_name": "Python 3 (ipykernel)",
   "language": "python",
   "name": "python3"
  },
  "language_info": {
   "codemirror_mode": {
    "name": "ipython",
    "version": 3
   },
   "file_extension": ".py",
   "mimetype": "text/x-python",
   "name": "python",
   "nbconvert_exporter": "python",
   "pygments_lexer": "ipython3",
   "version": "3.9.13"
  }
 },
 "nbformat": 4,
 "nbformat_minor": 5
}
