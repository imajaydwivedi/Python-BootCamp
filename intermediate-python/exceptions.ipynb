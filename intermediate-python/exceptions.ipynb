{
 "cells": [
  {
   "cell_type": "markdown",
   "id": "cb584ef8",
   "metadata": {},
   "source": [
    "# Errors and Exceptions"
   ]
  },
  {
   "cell_type": "code",
   "execution_count": 1,
   "id": "479899f7",
   "metadata": {},
   "outputs": [
    {
     "ename": "TypeError",
     "evalue": "unsupported operand type(s) for +: 'int' and 'str'",
     "output_type": "error",
     "traceback": [
      "\u001b[0;31m---------------------------------------------------------------------------\u001b[0m",
      "\u001b[0;31mTypeError\u001b[0m                                 Traceback (most recent call last)",
      "\u001b[0;32m/tmp/ipykernel_317902/17765293.py\u001b[0m in \u001b[0;36m<module>\u001b[0;34m\u001b[0m\n\u001b[0;32m----> 1\u001b[0;31m \u001b[0ma\u001b[0m \u001b[0;34m=\u001b[0m \u001b[0;36m5\u001b[0m \u001b[0;34m+\u001b[0m \u001b[0;34m'10'\u001b[0m\u001b[0;34m\u001b[0m\u001b[0;34m\u001b[0m\u001b[0m\n\u001b[0m",
      "\u001b[0;31mTypeError\u001b[0m: unsupported operand type(s) for +: 'int' and 'str'"
     ]
    }
   ],
   "source": [
    "a = 5 + '10'"
   ]
  },
  {
   "cell_type": "code",
   "execution_count": 3,
   "id": "561aacd6",
   "metadata": {},
   "outputs": [
    {
     "ename": "Exception",
     "evalue": "Value should be greator than 0",
     "output_type": "error",
     "traceback": [
      "\u001b[0;31m---------------------------------------------------------------------------\u001b[0m",
      "\u001b[0;31mException\u001b[0m                                 Traceback (most recent call last)",
      "\u001b[0;32m/tmp/ipykernel_317902/1186724740.py\u001b[0m in \u001b[0;36m<module>\u001b[0;34m\u001b[0m\n\u001b[1;32m      1\u001b[0m \u001b[0mx\u001b[0m \u001b[0;34m=\u001b[0m \u001b[0;34m-\u001b[0m\u001b[0;36m1\u001b[0m\u001b[0;34m\u001b[0m\u001b[0;34m\u001b[0m\u001b[0m\n\u001b[1;32m      2\u001b[0m \u001b[0;32mif\u001b[0m \u001b[0mx\u001b[0m \u001b[0;34m<\u001b[0m \u001b[0;36m0\u001b[0m\u001b[0;34m:\u001b[0m\u001b[0;34m\u001b[0m\u001b[0;34m\u001b[0m\u001b[0m\n\u001b[0;32m----> 3\u001b[0;31m     \u001b[0;32mraise\u001b[0m \u001b[0mException\u001b[0m\u001b[0;34m(\u001b[0m\u001b[0;34m\"Value should be greator than 0\"\u001b[0m\u001b[0;34m)\u001b[0m\u001b[0;34m\u001b[0m\u001b[0;34m\u001b[0m\u001b[0m\n\u001b[0m",
      "\u001b[0;31mException\u001b[0m: Value should be greator than 0"
     ]
    }
   ],
   "source": [
    "x = -1\n",
    "if x < 0:\n",
    "    raise Exception(\"Value should be greator than 0\")"
   ]
  },
  {
   "cell_type": "code",
   "execution_count": 4,
   "id": "0fe9c225",
   "metadata": {},
   "outputs": [
    {
     "ename": "AssertionError",
     "evalue": "x is not positive",
     "output_type": "error",
     "traceback": [
      "\u001b[0;31m---------------------------------------------------------------------------\u001b[0m",
      "\u001b[0;31mAssertionError\u001b[0m                            Traceback (most recent call last)",
      "\u001b[0;32m/tmp/ipykernel_317902/31146993.py\u001b[0m in \u001b[0;36m<module>\u001b[0;34m\u001b[0m\n\u001b[1;32m      1\u001b[0m \u001b[0mx\u001b[0m \u001b[0;34m=\u001b[0m \u001b[0;34m-\u001b[0m\u001b[0;36m5\u001b[0m\u001b[0;34m\u001b[0m\u001b[0;34m\u001b[0m\u001b[0m\n\u001b[0;32m----> 2\u001b[0;31m \u001b[0;32massert\u001b[0m\u001b[0;34m(\u001b[0m\u001b[0mx\u001b[0m\u001b[0;34m>=\u001b[0m\u001b[0;36m0\u001b[0m\u001b[0;34m)\u001b[0m\u001b[0;34m,\u001b[0m \u001b[0;34m'x is not positive'\u001b[0m\u001b[0;34m\u001b[0m\u001b[0;34m\u001b[0m\u001b[0m\n\u001b[0m",
      "\u001b[0;31mAssertionError\u001b[0m: x is not positive"
     ]
    }
   ],
   "source": [
    "x = -5\n",
    "assert(x>=0), 'x is not positive'"
   ]
  },
  {
   "cell_type": "code",
   "execution_count": 6,
   "id": "3cfaf6f5",
   "metadata": {},
   "outputs": [
    {
     "name": "stdout",
     "output_type": "stream",
     "text": [
      "An error occurred\n",
      "division by zero\n"
     ]
    }
   ],
   "source": [
    "try:\n",
    "    a = 5/0\n",
    "except Exception as e:\n",
    "    print('An error occurred')\n",
    "    print(e)"
   ]
  },
  {
   "cell_type": "code",
   "execution_count": 12,
   "id": "ef225621",
   "metadata": {},
   "outputs": [
    {
     "name": "stdout",
     "output_type": "stream",
     "text": [
      "Exception [IndexError] occurred. \n",
      "list index out of range\n",
      "cleanup things.\n"
     ]
    }
   ],
   "source": [
    "try:\n",
    "    #a = 5 / 0\n",
    "    #b = a + '10'\n",
    "    c = [1,2,3,4,5]\n",
    "    print(c[6])\n",
    "except ZeroDivisionError as e:\n",
    "    print(f\"ZeroDivisionError occurred. \\n{e}\")\n",
    "except TypeError as e:\n",
    "    print(f\"TypeError occurred. \\n{e}\")\n",
    "except Exception as e:\n",
    "    exception_name = type(e).__name__\n",
    "    print(f\"Exception [{exception_name}] occurred. \\n{e}\")\n",
    "else:\n",
    "    print('everything is fine')\n",
    "finally:\n",
    "    print('cleanup things.')"
   ]
  },
  {
   "cell_type": "markdown",
   "id": "c2aef1d9",
   "metadata": {},
   "source": [
    "## Create exception"
   ]
  },
  {
   "cell_type": "code",
   "execution_count": 12,
   "id": "05b4b24c",
   "metadata": {},
   "outputs": [],
   "source": [
    "class ValueTooHighError(Exception):\n",
    "    pass"
   ]
  },
  {
   "cell_type": "code",
   "execution_count": 13,
   "id": "bac6fe45",
   "metadata": {},
   "outputs": [],
   "source": [
    "def test_value(x):\n",
    "    if x > 100:\n",
    "        raise ValueTooHighError('value is too high')"
   ]
  },
  {
   "cell_type": "code",
   "execution_count": 14,
   "id": "e11c11e7",
   "metadata": {},
   "outputs": [
    {
     "name": "stdout",
     "output_type": "stream",
     "text": [
      "value is too high\n"
     ]
    }
   ],
   "source": [
    "try:\n",
    "    test_value(200)\n",
    "except ValueTooHighError as e:\n",
    "    print(e)"
   ]
  },
  {
   "cell_type": "code",
   "execution_count": null,
   "id": "06cea40d",
   "metadata": {},
   "outputs": [],
   "source": []
  }
 ],
 "metadata": {
  "kernelspec": {
   "display_name": "Python 3 (ipykernel)",
   "language": "python",
   "name": "python3"
  },
  "language_info": {
   "codemirror_mode": {
    "name": "ipython",
    "version": 3
   },
   "file_extension": ".py",
   "mimetype": "text/x-python",
   "name": "python",
   "nbconvert_exporter": "python",
   "pygments_lexer": "ipython3",
   "version": "3.11.7"
  }
 },
 "nbformat": 4,
 "nbformat_minor": 5
}
