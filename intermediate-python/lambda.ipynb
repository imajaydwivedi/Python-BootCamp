{
 "cells": [
  {
   "cell_type": "markdown",
   "id": "9b04e4b5",
   "metadata": {},
   "source": [
    "# lambda arguments: expression"
   ]
  },
  {
   "cell_type": "code",
   "execution_count": 1,
   "id": "fe6f6784",
   "metadata": {},
   "outputs": [
    {
     "name": "stdout",
     "output_type": "stream",
     "text": [
      "15\n"
     ]
    }
   ],
   "source": [
    "add10 = lambda x: x + 10\n",
    "print(add10(5))"
   ]
  },
  {
   "cell_type": "code",
   "execution_count": 3,
   "id": "d684247f",
   "metadata": {},
   "outputs": [
    {
     "name": "stdout",
     "output_type": "stream",
     "text": [
      "15\n"
     ]
    }
   ],
   "source": [
    "def add10_func(x):\n",
    "    return x + 10\n",
    "\n",
    "print(add10_func(5))"
   ]
  },
  {
   "cell_type": "code",
   "execution_count": 7,
   "id": "286a4915",
   "metadata": {},
   "outputs": [
    {
     "name": "stdout",
     "output_type": "stream",
     "text": [
      "[(1, 2), (15, 1), (5, -1), (10, 4)]\n",
      "[(1, 2), (5, -1), (10, 4), (15, 1)]\n",
      "[(5, -1), (15, 1), (1, 2), (10, 4)]\n",
      "[(1, 2), (5, -1), (10, 4), (15, 1)]\n"
     ]
    }
   ],
   "source": [
    "points2D = [(1,2), (15,1), (5,-1), (10,4)]\n",
    "points2D_sorted = sorted(points2D)\n",
    "points2D_sorted_y = sorted(points2D, key=lambda x:x[1])\n",
    "points2D_sorted_sums = sorted(points2D, key=lambda x: x[0]+x[1])\n",
    "\n",
    "print(points2D)\n",
    "print(points2D_sorted)\n",
    "print(points2D_sorted_y)\n",
    "print(points2D_sorted_sums)"
   ]
  },
  {
   "cell_type": "markdown",
   "id": "3e97044e",
   "metadata": {},
   "source": [
    "## map(func, seq)"
   ]
  },
  {
   "cell_type": "code",
   "execution_count": 9,
   "id": "89094e2a",
   "metadata": {},
   "outputs": [
    {
     "name": "stdout",
     "output_type": "stream",
     "text": [
      "[1, 2, 3, 4, 5]\n",
      "[2, 4, 6, 8, 10]\n",
      "[2, 4, 6, 8, 10]\n"
     ]
    }
   ],
   "source": [
    "a = [1,2,3,4,5]\n",
    "b = map(lambda x: x*2, a)\n",
    "\n",
    "print(a)\n",
    "print(list(b))\n",
    "\n",
    "c = [x*2 for x in a]\n",
    "print(c)"
   ]
  },
  {
   "cell_type": "markdown",
   "id": "8b11a1aa",
   "metadata": {},
   "source": [
    "## filter(func, seq)"
   ]
  },
  {
   "cell_type": "code",
   "execution_count": 13,
   "id": "7ae0a5b6",
   "metadata": {},
   "outputs": [
    {
     "name": "stdout",
     "output_type": "stream",
     "text": [
      "[0, 1, 2, 3, 4, 5, 6, 7, 8, 9]\n",
      "[0, 2, 4, 6, 8]\n"
     ]
    }
   ],
   "source": [
    "a = list(range(10))\n",
    "\n",
    "evens = filter(lambda x: x%2==0, a)\n",
    "\n",
    "print(a)\n",
    "print(list(evens))"
   ]
  },
  {
   "cell_type": "markdown",
   "id": "44503248",
   "metadata": {},
   "source": [
    "## reduce (func, seq)"
   ]
  },
  {
   "cell_type": "code",
   "execution_count": 14,
   "id": "c6392700",
   "metadata": {},
   "outputs": [
    {
     "name": "stdout",
     "output_type": "stream",
     "text": [
      "24\n"
     ]
    }
   ],
   "source": [
    "from functools import reduce\n",
    "a = [1,2, 3, 4]\n",
    "\n",
    "product_a = reduce(lambda x,y: x*y, a)\n",
    "print(product_a)"
   ]
  },
  {
   "cell_type": "code",
   "execution_count": null,
   "id": "c7641f2c",
   "metadata": {},
   "outputs": [],
   "source": []
  }
 ],
 "metadata": {
  "kernelspec": {
   "display_name": "Python 3 (ipykernel)",
   "language": "python",
   "name": "python3"
  },
  "language_info": {
   "codemirror_mode": {
    "name": "ipython",
    "version": 3
   },
   "file_extension": ".py",
   "mimetype": "text/x-python",
   "name": "python",
   "nbconvert_exporter": "python",
   "pygments_lexer": "ipython3",
   "version": "3.9.13"
  }
 },
 "nbformat": 4,
 "nbformat_minor": 5
}
