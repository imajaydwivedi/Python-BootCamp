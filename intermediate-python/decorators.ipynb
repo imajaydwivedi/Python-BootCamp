{
 "cells": [
  {
   "cell_type": "markdown",
   "id": "dcf67a6b",
   "metadata": {},
   "source": [
    "## Basic Method of Decorator"
   ]
  },
  {
   "cell_type": "code",
   "execution_count": 2,
   "id": "109fe6c5",
   "metadata": {},
   "outputs": [
    {
     "name": "stdout",
     "output_type": "stream",
     "text": [
      "Start\n",
      "Ajay\n",
      "End\n"
     ]
    }
   ],
   "source": [
    "def print_name():\n",
    "    print('Ajay')\n",
    "    \n",
    "def start_end_decorator(func):\n",
    "    \n",
    "    def wrapper():\n",
    "        print('Start')\n",
    "        func()\n",
    "        print('End')\n",
    "    return wrapper\n",
    "\n",
    "print_name = start_end_decorator(print_name)\n",
    "print_name()"
   ]
  },
  {
   "cell_type": "markdown",
   "id": "1efdfef6",
   "metadata": {},
   "source": [
    "## New Method of Decorator"
   ]
  },
  {
   "cell_type": "code",
   "execution_count": 3,
   "id": "859f3026",
   "metadata": {},
   "outputs": [
    {
     "name": "stdout",
     "output_type": "stream",
     "text": [
      "Start\n",
      "Ajay\n",
      "End\n"
     ]
    }
   ],
   "source": [
    "def start_end_decorator(func):\n",
    "    \n",
    "    def wrapper():\n",
    "        print('Start')\n",
    "        func()\n",
    "        print('End')\n",
    "    return wrapper\n",
    "\n",
    "@start_end_decorator\n",
    "def print_name():\n",
    "    print('Ajay')\n",
    "    \n",
    "print_name()"
   ]
  },
  {
   "cell_type": "markdown",
   "id": "dab5ca49",
   "metadata": {},
   "source": [
    "## Return result from function while using Decorator"
   ]
  },
  {
   "cell_type": "code",
   "execution_count": 7,
   "id": "54a24a51",
   "metadata": {},
   "outputs": [
    {
     "name": "stdout",
     "output_type": "stream",
     "text": [
      "start\n",
      "end\n"
     ]
    },
    {
     "data": {
      "text/plain": [
       "15"
      ]
     },
     "execution_count": 7,
     "metadata": {},
     "output_type": "execute_result"
    }
   ],
   "source": [
    "def start_end_decorator(func):\n",
    "    def wrapper(*args, **kwargs):\n",
    "        print('start')\n",
    "        result = func(*args, **kwargs)\n",
    "        print('end')\n",
    "        \n",
    "        return result\n",
    "    return wrapper\n",
    "\n",
    "@start_end_decorator\n",
    "def add5(num):\n",
    "    return num+5\n",
    "\n",
    "add5(10)"
   ]
  },
  {
   "cell_type": "code",
   "execution_count": 10,
   "id": "73d4b1bc",
   "metadata": {},
   "outputs": [
    {
     "name": "stdout",
     "output_type": "stream",
     "text": [
      "Help on function wrapper in module __main__:\n",
      "\n",
      "wrapper(*args, **kwargs)\n",
      "\n"
     ]
    }
   ],
   "source": [
    "# Identity of function is lost with Decorator unless..\n",
    "help(add5)"
   ]
  },
  {
   "cell_type": "markdown",
   "id": "d609a5e5",
   "metadata": {},
   "source": [
    "## Return result from function while using Decorator keeping Function Identity"
   ]
  },
  {
   "cell_type": "code",
   "execution_count": 14,
   "id": "62a157fa",
   "metadata": {},
   "outputs": [
    {
     "name": "stdout",
     "output_type": "stream",
     "text": [
      "Start\n",
      "End\n",
      "15\n",
      "Help on function add5 in module __main__:\n",
      "\n",
      "add5(num)\n",
      "\n",
      "None\n"
     ]
    }
   ],
   "source": [
    "import functools\n",
    "\n",
    "def start_end_decorator(func):\n",
    "    \n",
    "    @functools.wraps(func)\n",
    "    def wrapper(*args, **kwargs):\n",
    "        print('Start')\n",
    "        result = func(*args, **kwargs)\n",
    "        print('End')\n",
    "        \n",
    "        return result\n",
    "    return wrapper\n",
    "\n",
    "@start_end_decorator\n",
    "def add5(num):\n",
    "    return num+5\n",
    "\n",
    "print(add5(10))\n",
    "\n",
    "print(help(add5))"
   ]
  },
  {
   "cell_type": "markdown",
   "id": "557bfdac",
   "metadata": {},
   "source": [
    "## Decorator with parameter while keeping function identity"
   ]
  },
  {
   "cell_type": "code",
   "execution_count": 15,
   "id": "0a2d7a2b-fa3e-41f5-9389-47a06ce8d265",
   "metadata": {},
   "outputs": [
    {
     "name": "stdout",
     "output_type": "stream",
     "text": [
      "calculating sum of numbers..\n",
      "Result after multiplying = 60\n",
      "\n",
      "\n",
      "Help on function add_numbers in module __main__:\n",
      "\n",
      "add_numbers(*args)\n",
      "    Function that takes one or more numbers, and returns the sum of the numbers.\n",
      "\n"
     ]
    }
   ],
   "source": [
    "import functools\n",
    "\n",
    "# Decorator with parameters\n",
    "def multiplier_decorator(factor):\n",
    "    def decorator(func):\n",
    "        \n",
    "        @functools.wraps(func)\n",
    "        def wrapper(*args, **kwargs):\n",
    "            print('calculating sum of numbers..')\n",
    "            result = func(*args, **kwargs)\n",
    "            return result*factor\n",
    "        return wrapper\n",
    "    return decorator\n",
    "\n",
    "\n",
    "# Using the decorator with a parameter\n",
    "@multiplier_decorator(10)\n",
    "def add_numbers(*args):\n",
    "    \"\"\" Function that takes one or more numbers, and returns the sum of the numbers.\n",
    "    \"\"\"\n",
    "    return sum(args)\n",
    "\n",
    "# Test the decorate function\n",
    "print(f\"Result after multiplying = {add_numbers(1, 2, 3)}\")\n",
    "\n",
    "print(\"\\n\")\n",
    "\n",
    "help(add_numbers)"
   ]
  },
  {
   "cell_type": "code",
   "execution_count": 2,
   "id": "7a5ab1b3",
   "metadata": {},
   "outputs": [
    {
     "name": "stdout",
     "output_type": "stream",
     "text": [
      "Hello Ajay\n",
      "Hello Ajay\n",
      "Hello Ajay\n"
     ]
    }
   ],
   "source": [
    "import functools\n",
    "\n",
    "def repeat(num_times):\n",
    "    def decorator_repeat(func):\n",
    "        @functools.wraps(func)\n",
    "        def wrapper(*args, **kwargs):\n",
    "            for _ in range(num_times):\n",
    "                result = func(*args, **kwargs)\n",
    "            return result\n",
    "        return wrapper\n",
    "    return decorator_repeat\n",
    "\n",
    "@repeat(num_times=3)\n",
    "def greet(name):\n",
    "    print(f'Hello {name}')\n",
    "    \n",
    "greet('Ajay')"
   ]
  },
  {
   "cell_type": "markdown",
   "id": "cfc699b8",
   "metadata": {},
   "source": [
    "## Nested Decorators"
   ]
  },
  {
   "cell_type": "code",
   "execution_count": 3,
   "id": "39f97560",
   "metadata": {},
   "outputs": [
    {
     "name": "stdout",
     "output_type": "stream",
     "text": [
      "Calling say_hello('Ajay')\n",
      "Start\n",
      "Hello Ajay\n",
      "End\n",
      "'say_hello' returned 'Hello Ajay'\n"
     ]
    },
    {
     "data": {
      "text/plain": [
       "'Hello Ajay'"
      ]
     },
     "execution_count": 3,
     "metadata": {},
     "output_type": "execute_result"
    }
   ],
   "source": [
    "import functools\n",
    "\n",
    "def start_end_decorator(func):\n",
    "    @functools.wraps(func)\n",
    "    def wrapper(*args, **kwargs):\n",
    "        print('Start')\n",
    "        result = func(*args, **kwargs)\n",
    "        print('End')\n",
    "        return result\n",
    "    return wrapper\n",
    "\n",
    "def debug(func):\n",
    "    @functools.wraps(func)\n",
    "    def wrapper(*args, **kwargs):\n",
    "        args_repr = [repr(a) for a in args]\n",
    "        kwargs_repr = [f\"{k}={v!r}\" for k,v in kwargs.items()]\n",
    "        signature = \", \".join(args_repr + kwargs_repr)\n",
    "        print(f\"Calling {func.__name__}({signature})\")\n",
    "        result = func(*args, **kwargs)\n",
    "        print(f\"{func.__name__!r} returned {result!r}\")\n",
    "        return result\n",
    "    return wrapper\n",
    "\n",
    "@debug\n",
    "@start_end_decorator\n",
    "def say_hello(name):\n",
    "    greetings = f'Hello {name}'\n",
    "    print(greetings)\n",
    "    return greetings\n",
    "\n",
    "say_hello('Ajay')"
   ]
  },
  {
   "cell_type": "markdown",
   "id": "47d4fc58",
   "metadata": {},
   "source": [
    "## Class Decorator"
   ]
  },
  {
   "cell_type": "code",
   "execution_count": 28,
   "id": "99a0c3e7",
   "metadata": {},
   "outputs": [
    {
     "name": "stdout",
     "output_type": "stream",
     "text": [
      "Hi There\n"
     ]
    }
   ],
   "source": [
    "class CountCalls:\n",
    "    \n",
    "    def __init__(self, func):\n",
    "        self.func = func\n",
    "        self.num_calls = 0\n",
    "        \n",
    "    def __call__(self, *args, **kwargs):\n",
    "        print('Hi There')\n",
    "        \n",
    "cc = CountCalls(None)\n",
    "cc()"
   ]
  },
  {
   "cell_type": "code",
   "execution_count": 30,
   "id": "0123c0c4",
   "metadata": {},
   "outputs": [
    {
     "name": "stdout",
     "output_type": "stream",
     "text": [
      "This is executed 1 times\n",
      "Hello\n",
      "This is executed 2 times\n",
      "Hello\n"
     ]
    }
   ],
   "source": [
    "class CountCalls:\n",
    "    \n",
    "    def __init__(self, func):\n",
    "        self.func = func\n",
    "        self.num_calls = 0\n",
    "        \n",
    "    def __call__(self, *args, **kwargs):\n",
    "        self.num_calls += 1\n",
    "        print(f'This is executed {self.num_calls} times')\n",
    "        return self.func(*args, **kwargs)\n",
    "        \n",
    "cc = CountCalls(None)\n",
    "\n",
    "@CountCalls\n",
    "def say_hello():\n",
    "    print('Hello')\n",
    "    \n",
    "say_hello()\n",
    "say_hello()"
   ]
  },
  {
   "cell_type": "markdown",
   "id": "398df295",
   "metadata": {},
   "source": [
    "## Use Cases"
   ]
  },
  {
   "cell_type": "markdown",
   "id": "50ae32b6",
   "metadata": {},
   "source": [
    "- Timer Declator\n",
    "- Debug Declarator\n",
    "- Check Declarator\n",
    "- Register Function/Plugins"
   ]
  },
  {
   "cell_type": "code",
   "execution_count": 9,
   "id": "ce83ba05",
   "metadata": {},
   "outputs": [
    {
     "data": {
      "text/plain": [
       "30"
      ]
     },
     "execution_count": 9,
     "metadata": {},
     "output_type": "execute_result"
    }
   ],
   "source": [
    "def custom_sum(*nos):\n",
    "  result = 0\n",
    "  for no in nos:\n",
    "    result = result + no\n",
    "  return result\n",
    "\n",
    "custom_sum(10,20)"
   ]
  },
  {
   "cell_type": "code",
   "execution_count": 7,
   "id": "165191e5-8328-4bda-851b-3bd4dd71c749",
   "metadata": {},
   "outputs": [
    {
     "name": "stdout",
     "output_type": "stream",
     "text": [
      "sum of nos + 100 = 130\n"
     ]
    }
   ],
   "source": [
    "def sum_plus_100_decorator(func):\n",
    "  def wrapper(*args, **kwargs):\n",
    "    result = func(*args, **kwargs)\n",
    "    return result+100\n",
    "  return wrapper\n",
    "\n",
    "@sum_plus_100_decorator\n",
    "def custom_sum(*nos):\n",
    "  result = 0\n",
    "  for no in nos:\n",
    "    result = result + no\n",
    "  return result\n",
    "\n",
    "print(f'sum of nos + 100 = {custom_sum(10,20)}')"
   ]
  }
 ],
 "metadata": {
  "kernelspec": {
   "display_name": "Python 3 (ipykernel)",
   "language": "python",
   "name": "python3"
  },
  "language_info": {
   "codemirror_mode": {
    "name": "ipython",
    "version": 3
   },
   "file_extension": ".py",
   "mimetype": "text/x-python",
   "name": "python",
   "nbconvert_exporter": "python",
   "pygments_lexer": "ipython3",
   "version": "3.12.2"
  }
 },
 "nbformat": 4,
 "nbformat_minor": 5
}
