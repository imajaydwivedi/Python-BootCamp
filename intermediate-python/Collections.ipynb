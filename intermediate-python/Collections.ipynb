{
 "cells": [
  {
   "cell_type": "markdown",
   "id": "bd2aa0f7",
   "metadata": {},
   "source": [
    "# Collections: Counter, namedtuple, OrderedDict, defaultdict, deque"
   ]
  },
  {
   "cell_type": "markdown",
   "id": "8058985b",
   "metadata": {},
   "source": [
    "## Counter"
   ]
  },
  {
   "cell_type": "code",
   "execution_count": 1,
   "id": "b49ef861",
   "metadata": {},
   "outputs": [],
   "source": [
    "from collections import Counter"
   ]
  },
  {
   "cell_type": "code",
   "execution_count": 2,
   "id": "2accec30",
   "metadata": {},
   "outputs": [
    {
     "name": "stdout",
     "output_type": "stream",
     "text": [
      "Counter({'a': 5, 'c': 4, 'b': 3})\n"
     ]
    }
   ],
   "source": [
    "a = \"aaaaabbbcccc\"\n",
    "my_counter = Counter(a)\n",
    "print(my_counter)"
   ]
  },
  {
   "cell_type": "code",
   "execution_count": 9,
   "id": "26702b5f",
   "metadata": {},
   "outputs": [
    {
     "data": {
      "text/plain": [
       "['a', 'a', 'a', 'a', 'a', 'b', 'b', 'b', 'c', 'c', 'c', 'c']"
      ]
     },
     "execution_count": 9,
     "metadata": {},
     "output_type": "execute_result"
    }
   ],
   "source": [
    "list(my_counter.elements())"
   ]
  },
  {
   "cell_type": "code",
   "execution_count": 5,
   "id": "c3b6d671",
   "metadata": {},
   "outputs": [
    {
     "data": {
      "text/plain": [
       "dict_keys(['a', 'b', 'c'])"
      ]
     },
     "execution_count": 5,
     "metadata": {},
     "output_type": "execute_result"
    }
   ],
   "source": [
    "my_counter.keys()"
   ]
  },
  {
   "cell_type": "code",
   "execution_count": 6,
   "id": "df88b335",
   "metadata": {},
   "outputs": [
    {
     "data": {
      "text/plain": [
       "dict_values([5, 3, 4])"
      ]
     },
     "execution_count": 6,
     "metadata": {},
     "output_type": "execute_result"
    }
   ],
   "source": [
    "my_counter.values()"
   ]
  },
  {
   "cell_type": "code",
   "execution_count": 8,
   "id": "4f4e4db9",
   "metadata": {},
   "outputs": [
    {
     "data": {
      "text/plain": [
       "[('a', 5), ('c', 4)]"
      ]
     },
     "execution_count": 8,
     "metadata": {},
     "output_type": "execute_result"
    }
   ],
   "source": [
    "my_counter.most_common(2)"
   ]
  },
  {
   "cell_type": "markdown",
   "id": "283e44f2",
   "metadata": {},
   "source": [
    "## namedtuple"
   ]
  },
  {
   "cell_type": "code",
   "execution_count": 10,
   "id": "30de26d0",
   "metadata": {},
   "outputs": [],
   "source": [
    "from collections import namedtuple"
   ]
  },
  {
   "cell_type": "code",
   "execution_count": 11,
   "id": "02183115",
   "metadata": {},
   "outputs": [
    {
     "name": "stdout",
     "output_type": "stream",
     "text": [
      "1 -4\n"
     ]
    }
   ],
   "source": [
    "Point = namedtuple('Point','x,y')\n",
    "pt = Point(1,-4)\n",
    "\n",
    "print(pt.x, pt.y)"
   ]
  },
  {
   "cell_type": "code",
   "execution_count": 12,
   "id": "fc6e78d1",
   "metadata": {},
   "outputs": [
    {
     "name": "stdout",
     "output_type": "stream",
     "text": [
      "Point(x=1, y=-4)\n"
     ]
    }
   ],
   "source": [
    "print(ptd = defaultdict(int)\n",
    "d['a'] = 1\n",
    "d['b'] = 2\n",
    "\n",
    "print(d['c']))"
   ]
  },
  {
   "cell_type": "markdown",
   "id": "1fd0ddb2",
   "metadata": {},
   "source": [
    "## defaultdict"
   ]
  },
  {
   "cell_type": "code",
   "execution_count": 13,
   "id": "99f2017a",
   "metadata": {},
   "outputs": [
    {
     "name": "stdout",
     "output_type": "stream",
     "text": [
      "0\n"
     ]
    }
   ],
   "source": [
    "from collections import defaultdict\n",
    "\n",
    "d = defaultdict(int)\n",
    "d['a'] = 1\n",
    "d['b'] = 2\n",
    "\n",
    "print(d['c'])"
   ]
  },
  {
   "cell_type": "code",
   "execution_count": 14,
   "id": "0e818936",
   "metadata": {},
   "outputs": [
    {
     "name": "stdout",
     "output_type": "stream",
     "text": [
      "0.0\n"
     ]
    }
   ],
   "source": [
    "d = defaultdict(float)\n",
    "d['a'] = 1\n",
    "d['b'] = 2\n",
    "\n",
    "print(d['c'])"
   ]
  },
  {
   "cell_type": "code",
   "execution_count": 8,
   "id": "2a5dbfa9",
   "metadata": {},
   "outputs": [
    {
     "name": "stdout",
     "output_type": "stream",
     "text": [
      "Counter({1: 4, 2: 2, 3: 2, 4: 1, 5: 1})\n",
      "dict_keys([1, 2, 4, 3, 5])\n",
      "dict_values([4, 2, 1, 2, 1])\n",
      "[1, 1, 1, 1, 2, 2, 4, 3, 3, 5]\n",
      "dict_items([(1, 4), (2, 2), (4, 1), (3, 2), (5, 1)])\n"
     ]
    }
   ],
   "source": [
    "from collections import Counter\n",
    "\n",
    "a = [1,2,4,3,3,5,1,1,1,2]\n",
    "\n",
    "my_counter = Counter(a)\n",
    "\n",
    "print(my_counter)\n",
    "print(my_counter.keys())\n",
    "print(my_counter.values())\n",
    "print(list(my_counter.elements()))\n",
    "print(my_counter.items())\n"
   ]
  },
  {
   "cell_type": "code",
   "execution_count": 18,
   "id": "357ab0df",
   "metadata": {},
   "outputs": [
    {
     "name": "stdout",
     "output_type": "stream",
     "text": [
      "[Workstation] => Workstation,prod\n",
      "[Practice] => Practice,dev\n"
     ]
    }
   ],
   "source": [
    "from collections import namedtuple\n",
    "servers_result = list()\n",
    "\n",
    "Server = namedtuple('Server','name, result')\n",
    "\n",
    "srv_result = Server('Workstation',(dict(sql_instance='Workstation', env='prod')))\n",
    "servers_result.append(srv_result)\n",
    "\n",
    "srv_result = Server('Practice',(dict(sql_instance='Practice', env='dev')))\n",
    "servers_result.append(srv_result)\n",
    "\n",
    "for srv in servers_result:\n",
    "    print(f\"[{srv.name}] => {srv.result['sql_instance']},{srv.result['env']}\")"
   ]
  },
  {
   "cell_type": "code",
   "execution_count": 34,
   "id": "5db8ccea",
   "metadata": {},
   "outputs": [
    {
     "name": "stdout",
     "output_type": "stream",
     "text": [
      "dict_keys(['Workstation', 'Practice', 'SqlMonitor'])\n",
      "dict_values([{'sql_instance': 'Workstation', 'env': 'prod'}, {'sql_instance': 'Practice', 'env': 'dev'}, None])\n",
      "Workstation => prod\n",
      "Practice => dev\n",
      "None\n"
     ]
    }
   ],
   "source": [
    "from collections import defaultdict\n",
    "\n",
    "srv = defaultdict(list)\n",
    "\n",
    "srv['Workstation'] = dict(sql_instance='Workstation',env='prod')\n",
    "srv['Practice'] = dict(sql_instance='Practice',env='dev')\n",
    "srv['SqlMonitor'] = None\n",
    "\n",
    "print(srv.keys())\n",
    "print(srv.values())\n",
    "\n",
    "for srv in srv.values():\n",
    "    if srv == None:\n",
    "        print('None')\n",
    "    else:\n",
    "        print(srv[sql_instance],'=>',srv[env])"
   ]
  },
  {
   "cell_type": "code",
   "execution_count": null,
   "id": "23b473b7",
   "metadata": {},
   "outputs": [],
   "source": []
  }
 ],
 "metadata": {
  "kernelspec": {
   "display_name": "Python 3 (ipykernel)",
   "language": "python",
   "name": "python3"
  },
  "language_info": {
   "codemirror_mode": {
    "name": "ipython",
    "version": 3
   },
   "file_extension": ".py",
   "mimetype": "text/x-python",
   "name": "python",
   "nbconvert_exporter": "python",
   "pygments_lexer": "ipython3",
   "version": "3.9.7"
  }
 },
 "nbformat": 4,
 "nbformat_minor": 5
}
