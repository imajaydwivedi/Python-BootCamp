{
 "cells": [
  {
   "cell_type": "code",
   "execution_count": 3,
   "id": "b70b4c8c",
   "metadata": {},
   "outputs": [],
   "source": [
    "import random"
   ]
  },
  {
   "cell_type": "code",
   "execution_count": 4,
   "id": "58c84a1f",
   "metadata": {},
   "outputs": [
    {
     "name": "stdout",
     "output_type": "stream",
     "text": [
      "0.7470179351566482\n"
     ]
    }
   ],
   "source": [
    "# random float in range of 0 to 1\n",
    "a = random.random()\n",
    "print(a)"
   ]
  },
  {
   "cell_type": "code",
   "execution_count": 5,
   "id": "c23c58bb",
   "metadata": {},
   "outputs": [
    {
     "data": {
      "text/plain": [
       "6.04118688445151"
      ]
     },
     "execution_count": 5,
     "metadata": {},
     "output_type": "execute_result"
    }
   ],
   "source": [
    "# random float within a specific range\n",
    "random.uniform(1,10)"
   ]
  },
  {
   "cell_type": "code",
   "execution_count": 7,
   "id": "2dc655df",
   "metadata": {},
   "outputs": [
    {
     "data": {
      "text/plain": [
       "8"
      ]
     },
     "execution_count": 7,
     "metadata": {},
     "output_type": "execute_result"
    }
   ],
   "source": [
    "# random integer within a specific range\n",
    "# upper bound included\n",
    "random.randint(1,10)"
   ]
  },
  {
   "cell_type": "code",
   "execution_count": 8,
   "id": "1c64f08b",
   "metadata": {},
   "outputs": [
    {
     "data": {
      "text/plain": [
       "5"
      ]
     },
     "execution_count": 8,
     "metadata": {},
     "output_type": "execute_result"
    }
   ],
   "source": [
    "# random integer within a specific range\n",
    "# upper bound NOT included\n",
    "random.randrange(1,10)"
   ]
  },
  {
   "cell_type": "code",
   "execution_count": 9,
   "id": "fdcbe3a8",
   "metadata": {},
   "outputs": [
    {
     "name": "stdout",
     "output_type": "stream",
     "text": [
      "-2.0344684675692233\n"
     ]
    }
   ],
   "source": [
    "a = random.normalvariate(0, 1)\n",
    "print(a)"
   ]
  },
  {
   "cell_type": "code",
   "execution_count": 30,
   "id": "871d08f5",
   "metadata": {},
   "outputs": [
    {
     "name": "stdout",
     "output_type": "stream",
     "text": [
      "F\n",
      "['A', 'H', 'G']\n",
      "['D', 'F', 'H']\n",
      "['E', 'J', 'H', 'C', 'D', 'G', 'A', 'F', 'B', 'I']\n"
     ]
    }
   ],
   "source": [
    "mylist = list('ABCDEFGH')\n",
    "\n",
    "# one element of list\n",
    "a = random.choice(mylist)\n",
    "print(a)\n",
    "\n",
    "# 3 elements of list & all unique\n",
    "a = random.sample(mylist, 3)\n",
    "print(a)\n",
    "\n",
    "# e elements of list & allow duplicates\n",
    "a = random.choices(mylist, k=3)\n",
    "print(a)\n",
    "\n",
    "# shuffle the list elements in place\n",
    "mylist = list(\"ABCDEFGHIJ\")\n",
    "random.shuffle(mylist)\n",
    "print(mylist)"
   ]
  },
  {
   "cell_type": "code",
   "execution_count": 32,
   "id": "db7b369d",
   "metadata": {},
   "outputs": [
    {
     "name": "stdout",
     "output_type": "stream",
     "text": [
      "0.13436424411240122\n",
      "2\n",
      "0.9560342718892494\n",
      "1\n",
      "0.13436424411240122\n",
      "2\n",
      "0.9560342718892494\n",
      "1\n"
     ]
    }
   ],
   "source": [
    "# Reproduce random data using seed() method\n",
    "import random\n",
    "\n",
    "random.seed(1)\n",
    "print(random.random())\n",
    "print(random.randint(1,10))\n",
    "\n",
    "random.seed(2)\n",
    "print(random.random())\n",
    "print(random.randint(1,10))\n",
    "\n",
    "random.seed(1)\n",
    "print(random.random())\n",
    "print(random.randint(1,10))\n",
    "\n",
    "random.seed(2)\n",
    "print(random.random())\n",
    "print(random.randint(1,10))"
   ]
  },
  {
   "cell_type": "code",
   "execution_count": 24,
   "id": "d75f33fa",
   "metadata": {},
   "outputs": [
    {
     "name": "stdout",
     "output_type": "stream",
     "text": [
      "H\n"
     ]
    }
   ],
   "source": [
    "# Generate random numbers which are not reproducable\n",
    "import secrets\n",
    "\n",
    "mylist = list(\"ABCDEFGH\")\n",
    "a = secrets.choice(mylist)\n",
    "print(a)"
   ]
  },
  {
   "cell_type": "code",
   "execution_count": 5,
   "id": "a7b618be",
   "metadata": {},
   "outputs": [
    {
     "name": "stdout",
     "output_type": "stream",
     "text": [
      "[0.33408907 0.9607872  0.95127451]\n"
     ]
    }
   ],
   "source": [
    "import numpy as np\n",
    "\n",
    "a = np.random.rand(3)\n",
    "print(a)"
   ]
  },
  {
   "cell_type": "code",
   "execution_count": null,
   "id": "db3ed33e",
   "metadata": {},
   "outputs": [],
   "source": []
  }
 ],
 "metadata": {
  "kernelspec": {
   "display_name": "Python 3 (ipykernel)",
   "language": "python",
   "name": "python3"
  },
  "language_info": {
   "codemirror_mode": {
    "name": "ipython",
    "version": 3
   },
   "file_extension": ".py",
   "mimetype": "text/x-python",
   "name": "python",
   "nbconvert_exporter": "python",
   "pygments_lexer": "ipython3",
   "version": "3.9.7"
  }
 },
 "nbformat": 4,
 "nbformat_minor": 5
}
