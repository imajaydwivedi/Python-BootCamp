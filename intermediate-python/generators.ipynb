{
 "cells": [
  {
   "cell_type": "markdown",
   "id": "98668f6c",
   "metadata": {},
   "source": [
    "## Generator - simple example"
   ]
  },
  {
   "cell_type": "code",
   "execution_count": 5,
   "id": "e460a3e2",
   "metadata": {},
   "outputs": [],
   "source": [
    "def mygenerator():\n",
    "    yield 1\n",
    "    yield 2\n",
    "    yield 3"
   ]
  },
  {
   "cell_type": "code",
   "execution_count": 7,
   "id": "c3b07ec8",
   "metadata": {
    "scrolled": true
   },
   "outputs": [
    {
     "name": "stdout",
     "output_type": "stream",
     "text": [
      "1\n",
      "2\n",
      "3\n"
     ]
    },
    {
     "ename": "StopIteration",
     "evalue": "",
     "output_type": "error",
     "traceback": [
      "\u001b[0;31m---------------------------------------------------------------------------\u001b[0m",
      "\u001b[0;31mStopIteration\u001b[0m                             Traceback (most recent call last)",
      "\u001b[0;32m<ipython-input-7-b3c6ca15beca>\u001b[0m in \u001b[0;36m<module>\u001b[0;34m\u001b[0m\n\u001b[1;32m      4\u001b[0m \u001b[0mprint\u001b[0m\u001b[0;34m(\u001b[0m\u001b[0mnext\u001b[0m\u001b[0;34m(\u001b[0m\u001b[0mg\u001b[0m\u001b[0;34m)\u001b[0m\u001b[0;34m)\u001b[0m\u001b[0;34m\u001b[0m\u001b[0;34m\u001b[0m\u001b[0m\n\u001b[1;32m      5\u001b[0m \u001b[0mprint\u001b[0m\u001b[0;34m(\u001b[0m\u001b[0mnext\u001b[0m\u001b[0;34m(\u001b[0m\u001b[0mg\u001b[0m\u001b[0;34m)\u001b[0m\u001b[0;34m)\u001b[0m\u001b[0;34m\u001b[0m\u001b[0;34m\u001b[0m\u001b[0m\n\u001b[0;32m----> 6\u001b[0;31m \u001b[0mprint\u001b[0m\u001b[0;34m(\u001b[0m\u001b[0mnext\u001b[0m\u001b[0;34m(\u001b[0m\u001b[0mg\u001b[0m\u001b[0;34m)\u001b[0m\u001b[0;34m)\u001b[0m \u001b[0;31m# this should throw error\u001b[0m\u001b[0;34m\u001b[0m\u001b[0;34m\u001b[0m\u001b[0m\n\u001b[0m",
      "\u001b[0;31mStopIteration\u001b[0m: "
     ]
    }
   ],
   "source": [
    "g = mygenerator()\n",
    "\n",
    "print(next(g))\n",
    "print(next(g))\n",
    "print(next(g))\n",
    "print(next(g)) # this should throw error"
   ]
  },
  {
   "cell_type": "markdown",
   "id": "2834e4e5",
   "metadata": {},
   "source": [
    "## Generator - example 2"
   ]
  },
  {
   "cell_type": "code",
   "execution_count": 15,
   "id": "b1ddfb73",
   "metadata": {},
   "outputs": [],
   "source": [
    "def countdown(num):\n",
    "    print('Starting countdown')\n",
    "    while num > 0:\n",
    "        yield num\n",
    "        num -= 1"
   ]
  },
  {
   "cell_type": "code",
   "execution_count": 16,
   "id": "9286cb7f",
   "metadata": {},
   "outputs": [],
   "source": [
    "c = countdown(4)"
   ]
  },
  {
   "cell_type": "code",
   "execution_count": 18,
   "id": "68adc9d0",
   "metadata": {},
   "outputs": [
    {
     "name": "stdout",
     "output_type": "stream",
     "text": [
      "3\n"
     ]
    }
   ],
   "source": [
    "print(next(c))"
   ]
  },
  {
   "cell_type": "markdown",
   "id": "7a05f3cd",
   "metadata": {},
   "source": [
    "## Generator - Example 3"
   ]
  },
  {
   "cell_type": "code",
   "execution_count": 20,
   "id": "b2fbeb98",
   "metadata": {},
   "outputs": [],
   "source": [
    "def firstN(num):\n",
    "    nums = []\n",
    "    counter = 0\n",
    "    while counter < num:\n",
    "        nums.append(counter)\n",
    "        counter += 1\n",
    "    return nums\n",
    "\n",
    "def firstNGenerator(num):\n",
    "    counter = 0\n",
    "    while counter < num:\n",
    "        yield counter\n",
    "        counter += 1"
   ]
  },
  {
   "cell_type": "code",
   "execution_count": 28,
   "id": "0c2dc57a",
   "metadata": {},
   "outputs": [
    {
     "name": "stdout",
     "output_type": "stream",
     "text": [
      "4950\n",
      "4950\n"
     ]
    }
   ],
   "source": [
    "print(sum(firstN(100)))\n",
    "print(sum(firstNGenerator(100)))"
   ]
  },
  {
   "cell_type": "code",
   "execution_count": 29,
   "id": "233d14b6",
   "metadata": {},
   "outputs": [
    {
     "name": "stdout",
     "output_type": "stream",
     "text": [
      "8697456\n",
      "112\n"
     ]
    }
   ],
   "source": [
    "import sys\n",
    "\n",
    "print(sys.getsizeof(firstN(1000000)))\n",
    "print(sys.getsizeof(firstNGenerator(1000000)))"
   ]
  },
  {
   "cell_type": "markdown",
   "id": "0aa069bf",
   "metadata": {},
   "source": [
    "## Generator - Example 4 - Fibonacci Series"
   ]
  },
  {
   "cell_type": "code",
   "execution_count": 30,
   "id": "7b23e0c7",
   "metadata": {},
   "outputs": [],
   "source": [
    "def fibonacci(limit):\n",
    "    a, b = 0, 1\n",
    "    while a < limit:\n",
    "        yield a\n",
    "        a, b = b, a+b"
   ]
  },
  {
   "cell_type": "code",
   "execution_count": 31,
   "id": "f7e63ade",
   "metadata": {},
   "outputs": [
    {
     "name": "stdout",
     "output_type": "stream",
     "text": [
      "0\n",
      "1\n",
      "1\n",
      "2\n",
      "3\n",
      "5\n",
      "8\n",
      "13\n",
      "21\n"
     ]
    }
   ],
   "source": [
    "for num in fibonacci(30):\n",
    "    print(num)"
   ]
  },
  {
   "cell_type": "markdown",
   "id": "07de172a",
   "metadata": {},
   "source": [
    "## Generator Expression - Create similar to List Comprehension"
   ]
  },
  {
   "cell_type": "code",
   "execution_count": 7,
   "id": "9fc3a958",
   "metadata": {},
   "outputs": [],
   "source": [
    "mygenerator = (i for i in range(100) if i%2==0)\n",
    "mylist = [i for i in range(100) if i%2==0]"
   ]
  },
  {
   "cell_type": "code",
   "execution_count": 8,
   "id": "62914227",
   "metadata": {},
   "outputs": [
    {
     "name": "stdout",
     "output_type": "stream",
     "text": [
      "[0, 2, 4, 6, 8, 10, 12, 14, 16, 18, 20, 22, 24, 26, 28, 30, 32, 34, 36, 38, 40, 42, 44, 46, 48, 50, 52, 54, 56, 58, 60, 62, 64, 66, 68, 70, 72, 74, 76, 78, 80, 82, 84, 86, 88, 90, 92, 94, 96, 98]\n",
      "<generator object <genexpr> at 0x00000205C7E6D900>\n",
      "[0, 2, 4, 6, 8, 10, 12, 14, 16, 18, 20, 22, 24, 26, 28, 30, 32, 34, 36, 38, 40, 42, 44, 46, 48, 50, 52, 54, 56, 58, 60, 62, 64, 66, 68, 70, 72, 74, 76, 78, 80, 82, 84, 86, 88, 90, 92, 94, 96, 98]\n"
     ]
    }
   ],
   "source": [
    "print(mylist)\n",
    "print(mygenerator)\n",
    "print(list(mygenerator))"
   ]
  },
  {
   "cell_type": "code",
   "execution_count": 9,
   "id": "a2b7a5f0",
   "metadata": {},
   "outputs": [
    {
     "name": "stdout",
     "output_type": "stream",
     "text": [
      "472\n",
      "112\n"
     ]
    }
   ],
   "source": [
    "import sys\n",
    "\n",
    "print(sys.getsizeof(mylist))\n",
    "print(sys.getsizeof(mygenerator))"
   ]
  },
  {
   "cell_type": "code",
   "execution_count": null,
   "id": "8b7c466c",
   "metadata": {},
   "outputs": [],
   "source": []
  }
 ],
 "metadata": {
  "kernelspec": {
   "display_name": "Python 3 (ipykernel)",
   "language": "python",
   "name": "python3"
  },
  "language_info": {
   "codemirror_mode": {
    "name": "ipython",
    "version": 3
   },
   "file_extension": ".py",
   "mimetype": "text/x-python",
   "name": "python",
   "nbconvert_exporter": "python",
   "pygments_lexer": "ipython3",
   "version": "3.9.7"
  }
 },
 "nbformat": 4,
 "nbformat_minor": 5
}
